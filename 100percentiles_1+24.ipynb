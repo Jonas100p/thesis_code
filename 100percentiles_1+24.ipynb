{
  "nbformat": 4,
  "nbformat_minor": 0,
  "metadata": {
    "colab": {
      "name": "100percentiles_1+24.ipynb",
      "provenance": []
    },
    "kernelspec": {
      "name": "python3",
      "display_name": "Python 3"
    },
    "accelerator": "TPU"
  },
  "cells": [
    {
      "cell_type": "code",
      "metadata": {
        "id": "oVLtDkuSxj8q",
        "colab_type": "code",
        "outputId": "3c3c919b-f5f6-4085-b92d-53a61e836272",
        "colab": {
          "base_uri": "https://localhost:8080/",
          "height": 34
        }
      },
      "source": [
        "from google.colab import drive\n",
        "drive.mount('/content/gdrive')"
      ],
      "execution_count": 0,
      "outputs": [
        {
          "output_type": "stream",
          "text": [
            "Drive already mounted at /content/gdrive; to attempt to forcibly remount, call drive.mount(\"/content/gdrive\", force_remount=True).\n"
          ],
          "name": "stdout"
        }
      ]
    },
    {
      "cell_type": "code",
      "metadata": {
        "id": "K_J8_ZqZx_cV",
        "colab_type": "code",
        "colab": {}
      },
      "source": [
        "from tensorflow.keras.layers import LSTM, GRU, Dense\n",
        "from tensorflow.keras.models import Sequential\n",
        "from tensorflow.keras.callbacks import ReduceLROnPlateau, ModelCheckpoint, EarlyStopping, TensorBoard\n",
        "from tensorflow.keras.optimizers import RMSprop\n",
        "from sklearn.impute import SimpleImputer\n",
        "import numpy as np\n",
        "import pandas as pd\n",
        "from sklearn.preprocessing import MinMaxScaler, OneHotEncoder\n",
        "from matplotlib import pyplot as plt\n",
        "import tensorflow as tf\n",
        "import os\n",
        "import random"
      ],
      "execution_count": 0,
      "outputs": []
    },
    {
      "cell_type": "code",
      "metadata": {
        "id": "-j_u8wWdyBTV",
        "colab_type": "code",
        "colab": {}
      },
      "source": [
        "os.chdir('/content/gdrive/My Drive/thesis')"
      ],
      "execution_count": 0,
      "outputs": []
    },
    {
      "cell_type": "code",
      "metadata": {
        "id": "bZuHXCSeyFme",
        "colab_type": "code",
        "colab": {}
      },
      "source": [
        "data = pd.read_pickle('master_dataset_24112019.pkl')\n",
        "\n"
      ],
      "execution_count": 0,
      "outputs": []
    },
    {
      "cell_type": "code",
      "metadata": {
        "id": "mdOWzeHpyTXP",
        "colab_type": "code",
        "colab": {}
      },
      "source": [
        "target = pd.DataFrame()\n",
        "target['1_h'] = data['dk2'].shift(-1)\n",
        "target['24_h'] = data['dk2'].shift(-24)\n",
        "features = data.iloc[0: -24, :]"
      ],
      "execution_count": 0,
      "outputs": []
    },
    {
      "cell_type": "code",
      "metadata": {
        "id": "Ifc5JQ0hyahh",
        "colab_type": "code",
        "colab": {}
      },
      "source": [
        "target = target[:-24]"
      ],
      "execution_count": 0,
      "outputs": []
    },
    {
      "cell_type": "code",
      "metadata": {
        "id": "Bsa7kf1ky0te",
        "colab_type": "code",
        "colab": {}
      },
      "source": [
        "target_fitter = target"
      ],
      "execution_count": 0,
      "outputs": []
    },
    {
      "cell_type": "code",
      "metadata": {
        "id": "EIIoq9AlzIlb",
        "colab_type": "code",
        "colab": {}
      },
      "source": [
        "imp_mean2 = SimpleImputer(missing_values=np.nan, strategy='most_frequent')\n"
      ],
      "execution_count": 0,
      "outputs": []
    },
    {
      "cell_type": "code",
      "metadata": {
        "id": "Eqtt9v3MzNlC",
        "colab_type": "code",
        "outputId": "84b90378-9731-4de6-927f-4b43aa1add05",
        "colab": {
          "base_uri": "https://localhost:8080/",
          "height": 51
        }
      },
      "source": [
        "imp_mean2.fit(target_fitter)"
      ],
      "execution_count": 0,
      "outputs": [
        {
          "output_type": "execute_result",
          "data": {
            "text/plain": [
              "SimpleImputer(add_indicator=False, copy=True, fill_value=None,\n",
              "              missing_values=nan, strategy='most_frequent', verbose=0)"
            ]
          },
          "metadata": {
            "tags": []
          },
          "execution_count": 51
        }
      ]
    },
    {
      "cell_type": "code",
      "metadata": {
        "id": "obPfT2kJzPcx",
        "colab_type": "code",
        "colab": {}
      },
      "source": [
        "imp_target = imp_mean2.transform(target_fitter)"
      ],
      "execution_count": 0,
      "outputs": []
    },
    {
      "cell_type": "code",
      "metadata": {
        "id": "iMy26ufPzRq5",
        "colab_type": "code",
        "colab": {}
      },
      "source": [
        "qs = [-100]\n",
        "for i in range(1, 101):\n",
        "  q = i\n",
        "  qs.append(np.percentile(imp_target, q))"
      ],
      "execution_count": 0,
      "outputs": []
    },
    {
      "cell_type": "code",
      "metadata": {
        "id": "uTqeC1bezT2T",
        "colab_type": "code",
        "colab": {}
      },
      "source": [
        "new_feature = features['dk2'].copy()"
      ],
      "execution_count": 0,
      "outputs": []
    },
    {
      "cell_type": "code",
      "metadata": {
        "id": "eWxD5rp_zVhv",
        "colab_type": "code",
        "colab": {}
      },
      "source": [
        "new_feature = pd.DataFrame(new_feature, index=target.index)\n",
        "new_feature.columns = ['price']"
      ],
      "execution_count": 0,
      "outputs": []
    },
    {
      "cell_type": "code",
      "metadata": {
        "id": "E87H1BZEzldP",
        "colab_type": "code",
        "colab": {}
      },
      "source": [
        "def is_in_range(x, lower, upper, val):\n",
        "  if lower < x <= upper:\n",
        "    return val\n",
        "  else:\n",
        "    return 0"
      ],
      "execution_count": 0,
      "outputs": []
    },
    {
      "cell_type": "code",
      "metadata": {
        "id": "_V-TZduSzpsj",
        "colab_type": "code",
        "colab": {}
      },
      "source": [
        "def is_in_range(x, lower, upper, val):\n",
        "  if lower < x <= upper:\n",
        "    return val\n",
        "  else:\n",
        "    return 0"
      ],
      "execution_count": 0,
      "outputs": []
    },
    {
      "cell_type": "code",
      "metadata": {
        "id": "4DQpoO05zrfU",
        "colab_type": "code",
        "outputId": "c696bde7-03b9-4de7-cc04-459673796577",
        "colab": {
          "base_uri": "https://localhost:8080/",
          "height": 1000
        }
      },
      "source": [
        "ss = dict()\n",
        "for i, (lower, upper) in enumerate(zip(qs[:-1], qs[1:])):\n",
        "  print(lower, upper)\n",
        "  s = new_feature['price'].apply(lambda row: is_in_range(row, lower, upper, i))\n",
        "  ss[i] = s"
      ],
      "execution_count": 0,
      "outputs": [
        {
          "output_type": "stream",
          "text": [
            "-100 23.524999999999995\n",
            "23.524999999999995 57.2\n",
            "57.2 72.60899999999997\n",
            "72.60899999999997 84.75\n",
            "84.75 97.36499999999998\n",
            "97.36499999999998 111.72\n",
            "111.72 122.9435\n",
            "122.9435 133.65\n",
            "133.65 141.76349999999996\n",
            "141.76349999999996 148.17\n",
            "148.17 152.6155\n",
            "152.6155 157.26\n",
            "157.26 161.58650000000003\n",
            "161.58650000000003 165.27\n",
            "165.27 169.20749999999998\n",
            "169.20749999999998 173.26\n",
            "173.26 176.8\n",
            "176.8 179.71\n",
            "179.71 182.82950000000002\n",
            "182.82950000000002 185.62\n",
            "185.62 187.79\n",
            "187.79 190.72199999999998\n",
            "190.72199999999998 193.65\n",
            "193.65 196.21000000000004\n",
            "196.21000000000004 199.26\n",
            "199.26 201.71300000000002\n",
            "201.71300000000002 204.7\n",
            "204.7 207.45\n",
            "207.45 209.53\n",
            "209.53 211.86\n",
            "211.86 214.13\n",
            "214.13 216.036\n",
            "216.036 217.85\n",
            "217.85 219.73\n",
            "219.73 221.54\n",
            "221.54 223.22999999999996\n",
            "223.22999999999996 224.68\n",
            "224.68 226.45\n",
            "226.45 228.38\n",
            "228.38 230.04\n",
            "230.04 231.54049999999992\n",
            "231.54049999999992 233.53\n",
            "233.53 235.31\n",
            "235.31 237.26\n",
            "237.26 238.83\n",
            "238.83 240.57\n",
            "240.57 242.58000000000004\n",
            "242.58000000000004 244.63\n",
            "244.63 246.25\n",
            "246.25 248.39\n",
            "248.39 250.71\n",
            "250.71 252.96600000000007\n",
            "252.96600000000007 255.16000000000003\n",
            "255.16000000000003 257.87\n",
            "257.87 260.38\n",
            "260.38 262.348\n",
            "262.348 265.1\n",
            "265.1 267.73\n",
            "267.73 269.93\n",
            "269.93 272.76\n",
            "272.76 275.43\n",
            "275.43 277.81\n",
            "277.81 280.63\n",
            "280.63 283.14\n",
            "283.14 285.69\n",
            "285.69 288.653\n",
            "288.653 291.0435000000001\n",
            "291.0435000000001 294.05\n",
            "294.05 297.12\n",
            "297.12 299.475\n",
            "299.475 302.7454999999999\n",
            "302.7454999999999 305.81\n",
            "305.81 309.1765\n",
            "309.1765 312.59\n",
            "312.59 315.87\n",
            "315.87 319.898\n",
            "319.898 323.73\n",
            "323.73 327.53999999999996\n",
            "327.53999999999996 331.23\n",
            "331.23 335.28\n",
            "335.28 339.64\n",
            "339.64 344.1509999999999\n",
            "344.1509999999999 349.65\n",
            "349.65 354.972\n",
            "354.972 359.48\n",
            "359.48 365.56\n",
            "365.56 371.68\n",
            "371.68 377.03\n",
            "377.03 384.1389999999999\n",
            "384.1389999999999 391.445\n",
            "391.445 398.07\n",
            "398.07 407.23\n",
            "407.23 416.63\n",
            "416.63 429.07000000000005\n",
            "429.07000000000005 444.43\n",
            "444.43 461.78\n",
            "461.78 485.47650000000056\n",
            "485.47650000000056 518.02\n",
            "518.02 573.2395000000001\n",
            "573.2395000000001 1898.9\n"
          ],
          "name": "stdout"
        }
      ]
    },
    {
      "cell_type": "code",
      "metadata": {
        "id": "etntgK8czXOG",
        "colab_type": "code",
        "colab": {}
      },
      "source": [
        "_df = pd.DataFrame(ss)"
      ],
      "execution_count": 0,
      "outputs": []
    },
    {
      "cell_type": "code",
      "metadata": {
        "id": "UXSh7Vjrz077",
        "colab_type": "code",
        "outputId": "7c8f7d0b-42ae-4c84-fcd9-072a074278e8",
        "colab": {
          "base_uri": "https://localhost:8080/",
          "height": 119
        }
      },
      "source": [
        "features['price_bin'] = _df.sum(axis=1)"
      ],
      "execution_count": 0,
      "outputs": [
        {
          "output_type": "stream",
          "text": [
            "/usr/local/lib/python3.6/dist-packages/ipykernel_launcher.py:1: SettingWithCopyWarning: \n",
            "A value is trying to be set on a copy of a slice from a DataFrame.\n",
            "Try using .loc[row_indexer,col_indexer] = value instead\n",
            "\n",
            "See the caveats in the documentation: http://pandas.pydata.org/pandas-docs/stable/user_guide/indexing.html#returning-a-view-versus-a-copy\n",
            "  \"\"\"Entry point for launching an IPython kernel.\n"
          ],
          "name": "stderr"
        }
      ]
    },
    {
      "cell_type": "code",
      "metadata": {
        "id": "o4F5eXSfz6Ul",
        "colab_type": "code",
        "outputId": "90a54d8e-9c18-4909-d3db-7f38cad167d9",
        "colab": {
          "base_uri": "https://localhost:8080/",
          "height": 119
        }
      },
      "source": [
        "features['price_bin'] = _df.sum(axis=1)"
      ],
      "execution_count": 0,
      "outputs": [
        {
          "output_type": "stream",
          "text": [
            "/usr/local/lib/python3.6/dist-packages/ipykernel_launcher.py:1: SettingWithCopyWarning: \n",
            "A value is trying to be set on a copy of a slice from a DataFrame.\n",
            "Try using .loc[row_indexer,col_indexer] = value instead\n",
            "\n",
            "See the caveats in the documentation: http://pandas.pydata.org/pandas-docs/stable/user_guide/indexing.html#returning-a-view-versus-a-copy\n",
            "  \"\"\"Entry point for launching an IPython kernel.\n"
          ],
          "name": "stderr"
        }
      ]
    },
    {
      "cell_type": "code",
      "metadata": {
        "id": "dwOWS_Up0HpS",
        "colab_type": "code",
        "colab": {}
      },
      "source": [
        "#features.to_pickle('master_dataset_15112019.pkl')"
      ],
      "execution_count": 0,
      "outputs": []
    },
    {
      "cell_type": "code",
      "metadata": {
        "id": "VyegmM4a1G2n",
        "colab_type": "code",
        "colab": {}
      },
      "source": [
        "imp_mean1 = SimpleImputer(missing_values=np.nan, strategy='mean')\n",
        "imp_mean1.fit(features)\n",
        "imp_features = imp_mean1.transform(features)"
      ],
      "execution_count": 0,
      "outputs": []
    },
    {
      "cell_type": "code",
      "metadata": {
        "id": "spysvx221KdR",
        "colab_type": "code",
        "colab": {}
      },
      "source": [
        "train_split = 0.9\n",
        "num_train = int(train_split * len(features))\n",
        "num_test = len(features) - num_train"
      ],
      "execution_count": 0,
      "outputs": []
    },
    {
      "cell_type": "code",
      "metadata": {
        "id": "X1jax9W71NkX",
        "colab_type": "code",
        "colab": {}
      },
      "source": [
        "x_train = features.iloc[0:num_train , :]\n",
        "x_test = features.iloc[num_train+1: , :]\n",
        "\n",
        "try:\n",
        "  y_train = target.iloc[0:num_train , :]\n",
        "  y_test = target.iloc[num_train+1: , :]\n",
        "except:\n",
        "  y_train = target_fitter[0:num_train]\n",
        "  y_test = target_fitter[num_train+1:]"
      ],
      "execution_count": 0,
      "outputs": []
    },
    {
      "cell_type": "code",
      "metadata": {
        "id": "41VK33x_1P7L",
        "colab_type": "code",
        "colab": {}
      },
      "source": [
        "x_train = imp_mean1.transform(x_train)\n",
        "x_test = imp_mean1.transform(x_test)\n",
        "\n",
        "y_train = imp_mean2.transform(y_train)\n",
        "y_test = imp_mean2.transform(y_test)"
      ],
      "execution_count": 0,
      "outputs": []
    },
    {
      "cell_type": "code",
      "metadata": {
        "id": "0Z9IPEmc1SPo",
        "colab_type": "code",
        "colab": {}
      },
      "source": [
        "x_scaler = MinMaxScaler()\n",
        "x_train_scaled = x_scaler.fit_transform(x_train)"
      ],
      "execution_count": 0,
      "outputs": []
    },
    {
      "cell_type": "code",
      "metadata": {
        "id": "RXQIVJhj1UEL",
        "colab_type": "code",
        "colab": {}
      },
      "source": [
        "x_test_scaled = x_scaler.transform(x_test)"
      ],
      "execution_count": 0,
      "outputs": []
    },
    {
      "cell_type": "code",
      "metadata": {
        "id": "1EAtGm6C1XGf",
        "colab_type": "code",
        "colab": {}
      },
      "source": [
        "y_scaler = MinMaxScaler()\n",
        "y_train_scaled = y_scaler.fit_transform(y_train)\n",
        "y_test_scaled = y_scaler.transform(y_test)"
      ],
      "execution_count": 0,
      "outputs": []
    },
    {
      "cell_type": "code",
      "metadata": {
        "id": "UTvToZI21YQc",
        "colab_type": "code",
        "colab": {}
      },
      "source": [
        "def batch_generator(batch_size, sequence_length):\n",
        "    \"\"\"\n",
        "    Generator function for creating random batches of training data\n",
        "    \"\"\"\n",
        "    \n",
        "    num_x_signals = features.shape[1]\n",
        "    num_y_signals = 2\n",
        "    \n",
        "    # infinite loop\n",
        "    while True:\n",
        "        # Allocate a new array for the batch of input signals\n",
        "        x_shape = (batch_size, sequence_length, num_x_signals)\n",
        "        x_batch = np.zeros(shape=x_shape, dtype=np.float16)\n",
        "        \n",
        "        # Allocate a new array for the batch of output signals \n",
        "        y_shape = (batch_size, sequence_length, num_y_signals)\n",
        "        y_batch = np.zeros(shape=y_shape, dtype=np.float16)\n",
        "        \n",
        "        # Fill the batch with random sequences of data\n",
        "        for i in range(batch_size):\n",
        "            # Get a random start_index\n",
        "            # This points somewhere in the training data\n",
        "            idx = np.random.randint(num_train - sequence_length)\n",
        "            \n",
        "            # Copy the sequence of data starting from this index\n",
        "            x_batch[i] = x_train_scaled[idx:idx+sequence_length]\n",
        "            y_batch[i] = y_train_scaled[idx:idx+sequence_length]\n",
        "            \n",
        "        yield (x_batch, y_batch)"
      ],
      "execution_count": 0,
      "outputs": []
    },
    {
      "cell_type": "code",
      "metadata": {
        "id": "fc67nL3-1bmV",
        "colab_type": "code",
        "colab": {}
      },
      "source": [
        "batch_size = 256\n",
        "sequence_length = 24 * 7 * 8"
      ],
      "execution_count": 0,
      "outputs": []
    },
    {
      "cell_type": "code",
      "metadata": {
        "id": "vuAi5bzW1dKu",
        "colab_type": "code",
        "colab": {}
      },
      "source": [
        "generator = batch_generator(batch_size=batch_size, sequence_length=sequence_length)"
      ],
      "execution_count": 0,
      "outputs": []
    },
    {
      "cell_type": "code",
      "metadata": {
        "id": "PnXI7MCE1eif",
        "colab_type": "code",
        "colab": {}
      },
      "source": [
        "x_batch, y_batch = next(generator)"
      ],
      "execution_count": 0,
      "outputs": []
    },
    {
      "cell_type": "code",
      "metadata": {
        "id": "SZ--8qRY1f2y",
        "colab_type": "code",
        "outputId": "b5ef6ad5-1439-4f21-f276-d3878c28f760",
        "colab": {
          "base_uri": "https://localhost:8080/",
          "height": 34
        }
      },
      "source": [
        "x_batch.shape ,y_batch.shape"
      ],
      "execution_count": 0,
      "outputs": [
        {
          "output_type": "execute_result",
          "data": {
            "text/plain": [
              "((256, 1344, 34), (256, 1344, 2))"
            ]
          },
          "metadata": {
            "tags": []
          },
          "execution_count": 74
        }
      ]
    },
    {
      "cell_type": "code",
      "metadata": {
        "id": "w9joCSyZ1hBD",
        "colab_type": "code",
        "outputId": "5b2cc9af-3563-4edc-e26f-ac6a117fc98a",
        "colab": {
          "base_uri": "https://localhost:8080/",
          "height": 282
        }
      },
      "source": [
        "batch = 0 \n",
        "signal = 0\n",
        "seq = x_batch[batch , : , signal]\n",
        "plt.plot(seq)"
      ],
      "execution_count": 0,
      "outputs": [
        {
          "output_type": "execute_result",
          "data": {
            "text/plain": [
              "[<matplotlib.lines.Line2D at 0x7f669f8e0c18>]"
            ]
          },
          "metadata": {
            "tags": []
          },
          "execution_count": 75
        },
        {
          "output_type": "display_data",
          "data": {
            "image/png": "[encoded data removed]",
            "text/plain": [
              "<Figure size 432x288 with 1 Axes>"
            ]
          },
          "metadata": {
            "tags": []
          }
        }
      ]
    },
    {
      "cell_type": "code",
      "metadata": {
        "id": "wJcce4zH1ifl",
        "colab_type": "code",
        "colab": {}
      },
      "source": [
        "validation_data = (np.expand_dims(x_test_scaled, axis=0),\n",
        "                   np.expand_dims(y_test_scaled, axis=0))"
      ],
      "execution_count": 0,
      "outputs": []
    },
    {
      "cell_type": "code",
      "metadata": {
        "id": "75P0C1HK1kNh",
        "colab_type": "code",
        "colab": {}
      },
      "source": [
        "MODEL_NAME = 'regression_clipped_extremes_pyramid_21112019_1+24'"
      ],
      "execution_count": 0,
      "outputs": []
    },
    {
      "cell_type": "code",
      "metadata": {
        "id": "S-45ifC81ob3",
        "colab_type": "code",
        "colab": {}
      },
      "source": [
        "model = Sequential()\n",
        "model.add(LSTM(units=100,\n",
        "               input_shape=(None, x_train.shape[1],),\n",
        "               return_sequences=True,\n",
        "               dropout=0.2,\n",
        "               recurrent_dropout=0.5))\n",
        "model.add(LSTM(units=30,\n",
        "               return_sequences=True,\n",
        "               dropout=0.2,\n",
        "               recurrent_dropout=0.5))\n",
        "model.add(LSTM(units=20,\n",
        "               return_sequences=True,\n",
        "               dropout=0.2,\n",
        "               recurrent_dropout=0.5))\n",
        "\n",
        "model.add(Dense(y_train.shape[1], activation='relu'))"
      ],
      "execution_count": 0,
      "outputs": []
    },
    {
      "cell_type": "code",
      "metadata": {
        "id": "uh_brSUt1rvJ",
        "colab_type": "code",
        "colab": {}
      },
      "source": [
        "warmup_steps = 30"
      ],
      "execution_count": 0,
      "outputs": []
    },
    {
      "cell_type": "code",
      "metadata": {
        "id": "rUanMAnH1xsD",
        "colab_type": "code",
        "colab": {}
      },
      "source": [
        "def loss_mse_warmup(y_true, y_pred):\n",
        "    \"\"\"\n",
        "    Calculate the mean squared error between y_true and y_pred but ignores the warmup-period of the sequence,\n",
        "    as there is not yet enough data to make serious predictions.\n",
        "    \"\"\"\n",
        "    \n",
        "    # The shape of both input tensors are \n",
        "    # (batch_size, sequence_length, num_y_signals)\n",
        "    \n",
        "    # Ignore the warm-up period by taking slices of the tensors\n",
        "    y_true_slice = y_true[: , warmup_steps: , :]\n",
        "    y_pred_slice = y_pred[: , warmup_steps: , :]\n",
        "    \n",
        "    # The sliced tensors have the shape (batch_size, sequence_length - warmup_length, num_y_signals)\n",
        "    \n",
        "    # Calculate the MSE loss for each value pair\n",
        "    #loss = tf.losses.mean_squared_error(y_true_slice, y_pred_slice)\n",
        "    #loss = tf.losses.softmax_cross_entropy(y_true_slice, y_pred_slice)\n",
        "    loss = tf.keras.losses.MSLE(y_true_slice, y_pred_slice)\n",
        "    loss_mean = tf.reduce_mean(loss)\n",
        "    \n",
        "    return loss_mean"
      ],
      "execution_count": 0,
      "outputs": []
    },
    {
      "cell_type": "code",
      "metadata": {
        "id": "mIlR78J51z7K",
        "colab_type": "code",
        "colab": {}
      },
      "source": [
        "optimizer = RMSprop(lr=1e-3)"
      ],
      "execution_count": 0,
      "outputs": []
    },
    {
      "cell_type": "code",
      "metadata": {
        "id": "zKao4uzY11rX",
        "colab_type": "code",
        "colab": {}
      },
      "source": [
        "model.compile(loss=loss_mse_warmup, optimizer=optimizer)"
      ],
      "execution_count": 0,
      "outputs": []
    },
    {
      "cell_type": "code",
      "metadata": {
        "id": "3F-XE_DI13LM",
        "colab_type": "code",
        "colab": {}
      },
      "source": [
        "path_checkpoint = f'/content/gdrive/My Drive/thesis/{MODEL_NAME}.keras'\n",
        "callback_checkpoint = ModelCheckpoint(filepath=path_checkpoint,\n",
        "                                      monitor='val_loss',\n",
        "                                      verbose=1,\n",
        "                                      save_weights_only=True,\n",
        "                                      save_best_only=True)\n",
        "\n",
        "callback_reduce_lr = ReduceLROnPlateau(monitor='val_loss',\n",
        "                                       factor=0.1,\n",
        "                                       min_lr=1e-4,\n",
        "                                       patience=2,\n",
        "                                       verbose=1)\n",
        "\n",
        "callback_early_stopping = EarlyStopping(monitor='val_loss',\n",
        "                                        patience=5,\n",
        "                                        verbose=1)\n",
        "\n",
        "callback_tensorboard = TensorBoard(log_dir=f'/content/gdrive/My Drive/thesis/',\n",
        "                                   histogram_freq=0,\n",
        "                                   write_graph=False)"
      ],
      "execution_count": 0,
      "outputs": []
    },
    {
      "cell_type": "code",
      "metadata": {
        "id": "mXvjexfF15Gv",
        "colab_type": "code",
        "outputId": "700bcbea-ecbf-4881-ce2b-a82bb611aa93",
        "colab": {
          "base_uri": "https://localhost:8080/",
          "height": 1000
        }
      },
      "source": [
        "model.fit_generator(generator=generator,\n",
        "                    epochs=60,\n",
        "                    steps_per_epoch=50,\n",
        "                    validation_data=validation_data,\n",
        "                    callbacks=[callback_checkpoint, callback_reduce_lr, callback_early_stopping, callback_tensorboard])"
      ],
      "execution_count": 0,
      "outputs": [
        {
          "output_type": "stream",
          "text": [
            "Epoch 1/60\n",
            "49/50 [============================>.] - ETA: 11s - loss: 0.0079Epoch 1/60\n",
            " 1/50 [..............................] - ETA: 2:15 - loss: 6.6914e-04\n",
            "Epoch 00001: val_loss improved from inf to 0.00067, saving model to /content/gdrive/My Drive/thesis/regression_clipped_extremes_pyramid_21112019_1+24.keras\n",
            "50/50 [==============================] - 594s 12s/step - loss: 0.0077 - val_loss: 6.6914e-04\n",
            "Epoch 2/60\n",
            "49/50 [============================>.] - ETA: 11s - loss: 0.0012Epoch 1/60\n",
            " 1/50 [..............................] - ETA: 1:43 - loss: 0.0010\n",
            "Epoch 00002: val_loss did not improve from 0.00067\n",
            "50/50 [==============================] - 595s 12s/step - loss: 0.0012 - val_loss: 0.0010\n",
            "Epoch 3/60\n",
            "49/50 [============================>.] - ETA: 11s - loss: 7.7313e-04Epoch 1/60\n",
            " 1/50 [..............................] - ETA: 1:44 - loss: 5.9109e-04\n",
            "Epoch 00003: val_loss improved from 0.00067 to 0.00059, saving model to /content/gdrive/My Drive/thesis/regression_clipped_extremes_pyramid_21112019_1+24.keras\n",
            "\n",
            "Epoch 00003: ReduceLROnPlateau reducing learning rate to 0.00010000000474974513.\n",
            "50/50 [==============================] - 595s 12s/step - loss: 7.7113e-04 - val_loss: 5.9109e-04\n",
            "Epoch 4/60\n",
            "49/50 [============================>.] - ETA: 11s - loss: 5.5889e-04Epoch 1/60\n",
            " 1/50 [..............................] - ETA: 1:44 - loss: 4.2805e-04\n",
            "Epoch 00004: val_loss improved from 0.00059 to 0.00043, saving model to /content/gdrive/My Drive/thesis/regression_clipped_extremes_pyramid_21112019_1+24.keras\n",
            "50/50 [==============================] - 588s 12s/step - loss: 5.5820e-04 - val_loss: 4.2805e-04\n",
            "Epoch 5/60\n",
            "49/50 [============================>.] - ETA: 11s - loss: 5.1339e-04Epoch 1/60\n",
            " 1/50 [..............................] - ETA: 1:41 - loss: 3.9704e-04\n",
            "Epoch 00005: val_loss improved from 0.00043 to 0.00040, saving model to /content/gdrive/My Drive/thesis/regression_clipped_extremes_pyramid_21112019_1+24.keras\n",
            "50/50 [==============================] - 587s 12s/step - loss: 5.1350e-04 - val_loss: 3.9704e-04\n",
            "Epoch 6/60\n",
            "49/50 [============================>.] - ETA: 11s - loss: 4.7427e-04Epoch 1/60\n",
            " 1/50 [..............................] - ETA: 1:42 - loss: 3.9687e-04\n",
            "Epoch 00006: val_loss improved from 0.00040 to 0.00040, saving model to /content/gdrive/My Drive/thesis/regression_clipped_extremes_pyramid_21112019_1+24.keras\n",
            "\n",
            "Epoch 00006: ReduceLROnPlateau reducing learning rate to 0.0001.\n",
            "50/50 [==============================] - 584s 12s/step - loss: 4.7383e-04 - val_loss: 3.9687e-04\n",
            "Epoch 7/60\n",
            "49/50 [============================>.] - ETA: 11s - loss: 4.4454e-04Epoch 1/60\n",
            " 1/50 [..............................] - ETA: 1:46 - loss: 3.6358e-04\n",
            "Epoch 00007: val_loss improved from 0.00040 to 0.00036, saving model to /content/gdrive/My Drive/thesis/regression_clipped_extremes_pyramid_21112019_1+24.keras\n",
            "50/50 [==============================] - 592s 12s/step - loss: 4.4373e-04 - val_loss: 3.6358e-04\n",
            "Epoch 8/60\n",
            "49/50 [============================>.] - ETA: 11s - loss: 4.1103e-04Epoch 1/60\n",
            " 1/50 [..............................] - ETA: 1:41 - loss: 3.8167e-04\n",
            "Epoch 00008: val_loss did not improve from 0.00036\n",
            "50/50 [==============================] - 595s 12s/step - loss: 4.1076e-04 - val_loss: 3.8167e-04\n",
            "Epoch 9/60\n",
            "49/50 [============================>.] - ETA: 11s - loss: 4.0032e-04Epoch 1/60\n",
            " 1/50 [..............................] - ETA: 1:43 - loss: 3.4964e-04\n",
            "Epoch 00009: val_loss improved from 0.00036 to 0.00035, saving model to /content/gdrive/My Drive/thesis/regression_clipped_extremes_pyramid_21112019_1+24.keras\n",
            "50/50 [==============================] - 592s 12s/step - loss: 4.0014e-04 - val_loss: 3.4964e-04\n",
            "Epoch 10/60\n",
            "49/50 [============================>.] - ETA: 11s - loss: 3.8059e-04Epoch 1/60\n",
            " 1/50 [..............................] - ETA: 1:43 - loss: 3.3845e-04\n",
            "Epoch 00010: val_loss improved from 0.00035 to 0.00034, saving model to /content/gdrive/My Drive/thesis/regression_clipped_extremes_pyramid_21112019_1+24.keras\n",
            "50/50 [==============================] - 592s 12s/step - loss: 3.8044e-04 - val_loss: 3.3845e-04\n",
            "Epoch 11/60\n",
            "49/50 [============================>.] - ETA: 11s - loss: 3.6576e-04Epoch 1/60\n",
            " 1/50 [..............................] - ETA: 1:49 - loss: 3.2599e-04\n",
            "Epoch 00011: val_loss improved from 0.00034 to 0.00033, saving model to /content/gdrive/My Drive/thesis/regression_clipped_extremes_pyramid_21112019_1+24.keras\n",
            "50/50 [==============================] - 591s 12s/step - loss: 3.6526e-04 - val_loss: 3.2599e-04\n",
            "Epoch 12/60\n",
            "49/50 [============================>.] - ETA: 11s - loss: 3.5782e-04Epoch 1/60\n",
            " 1/50 [..............................] - ETA: 1:48 - loss: 3.1641e-04\n",
            "Epoch 00012: val_loss improved from 0.00033 to 0.00032, saving model to /content/gdrive/My Drive/thesis/regression_clipped_extremes_pyramid_21112019_1+24.keras\n",
            "50/50 [==============================] - 594s 12s/step - loss: 3.5856e-04 - val_loss: 3.1641e-04\n",
            "Epoch 13/60\n",
            "49/50 [============================>.] - ETA: 11s - loss: 3.4628e-04Epoch 1/60\n",
            " 1/50 [..............................] - ETA: 1:48 - loss: 3.2338e-04\n",
            "Epoch 00013: val_loss did not improve from 0.00032\n",
            "50/50 [==============================] - 595s 12s/step - loss: 3.4606e-04 - val_loss: 3.2338e-04\n",
            "Epoch 14/60\n",
            "49/50 [============================>.] - ETA: 11s - loss: 3.3852e-04Epoch 1/60\n",
            " 1/50 [..............................] - ETA: 1:47 - loss: 3.1924e-04\n",
            "Epoch 00014: val_loss did not improve from 0.00032\n",
            "50/50 [==============================] - 590s 12s/step - loss: 3.3922e-04 - val_loss: 3.1924e-04\n",
            "Epoch 15/60\n",
            "49/50 [============================>.] - ETA: 11s - loss: 3.2496e-04Epoch 1/60\n",
            " 1/50 [..............................] - ETA: 1:50 - loss: 3.1951e-04\n",
            "Epoch 00015: val_loss did not improve from 0.00032\n",
            "50/50 [==============================] - 591s 12s/step - loss: 3.2507e-04 - val_loss: 3.1951e-04\n",
            "Epoch 16/60\n",
            "49/50 [============================>.] - ETA: 11s - loss: 3.1951e-04Epoch 1/60\n",
            " 1/50 [..............................] - ETA: 1:45 - loss: 3.0921e-04\n",
            "Epoch 00016: val_loss improved from 0.00032 to 0.00031, saving model to /content/gdrive/My Drive/thesis/regression_clipped_extremes_pyramid_21112019_1+24.keras\n",
            "50/50 [==============================] - 590s 12s/step - loss: 3.1916e-04 - val_loss: 3.0921e-04\n",
            "Epoch 17/60\n",
            "49/50 [============================>.] - ETA: 11s - loss: 3.1131e-04Epoch 1/60\n",
            " 1/50 [..............................] - ETA: 1:46 - loss: 2.9030e-04\n",
            "Epoch 00017: val_loss improved from 0.00031 to 0.00029, saving model to /content/gdrive/My Drive/thesis/regression_clipped_extremes_pyramid_21112019_1+24.keras\n",
            "50/50 [==============================] - 583s 12s/step - loss: 3.1096e-04 - val_loss: 2.9030e-04\n",
            "Epoch 18/60\n",
            "49/50 [============================>.] - ETA: 11s - loss: 3.0384e-04Epoch 1/60\n",
            " 1/50 [..............................] - ETA: 1:46 - loss: 2.8828e-04\n",
            "Epoch 00018: val_loss improved from 0.00029 to 0.00029, saving model to /content/gdrive/My Drive/thesis/regression_clipped_extremes_pyramid_21112019_1+24.keras\n",
            "50/50 [==============================] - 586s 12s/step - loss: 3.0407e-04 - val_loss: 2.8828e-04\n",
            "Epoch 19/60\n",
            "49/50 [============================>.] - ETA: 11s - loss: 2.9731e-04Epoch 1/60\n",
            " 1/50 [..............................] - ETA: 1:46 - loss: 2.8474e-04\n",
            "Epoch 00019: val_loss improved from 0.00029 to 0.00028, saving model to /content/gdrive/My Drive/thesis/regression_clipped_extremes_pyramid_21112019_1+24.keras\n",
            "50/50 [==============================] - 582s 12s/step - loss: 2.9706e-04 - val_loss: 2.8474e-04\n",
            "Epoch 20/60\n",
            "49/50 [============================>.] - ETA: 11s - loss: 2.9756e-04Epoch 1/60\n",
            " 1/50 [..............................] - ETA: 1:45 - loss: 2.8945e-04\n",
            "Epoch 00020: val_loss did not improve from 0.00028\n",
            "50/50 [==============================] - 583s 12s/step - loss: 2.9698e-04 - val_loss: 2.8945e-04\n",
            "Epoch 21/60\n",
            "49/50 [============================>.] - ETA: 11s - loss: 2.8526e-04Epoch 1/60\n",
            " 1/50 [..............................] - ETA: 1:46 - loss: 3.0749e-04\n",
            "Epoch 00021: val_loss did not improve from 0.00028\n",
            "50/50 [==============================] - 585s 12s/step - loss: 2.8540e-04 - val_loss: 3.0749e-04\n",
            "Epoch 22/60\n",
            "49/50 [============================>.] - ETA: 11s - loss: 2.8510e-04Epoch 1/60\n",
            " 1/50 [..............................] - ETA: 1:46 - loss: 2.8726e-04\n",
            "Epoch 00022: val_loss did not improve from 0.00028\n",
            "50/50 [==============================] - 586s 12s/step - loss: 2.8484e-04 - val_loss: 2.8726e-04\n",
            "Epoch 23/60\n",
            "49/50 [============================>.] - ETA: 11s - loss: 2.8108e-04Epoch 1/60\n",
            " 1/50 [..............................] - ETA: 1:46 - loss: 2.8067e-04\n",
            "Epoch 00023: val_loss improved from 0.00028 to 0.00028, saving model to /content/gdrive/My Drive/thesis/regression_clipped_extremes_pyramid_21112019_1+24.keras\n",
            "50/50 [==============================] - 592s 12s/step - loss: 2.8082e-04 - val_loss: 2.8067e-04\n",
            "Epoch 24/60\n",
            "49/50 [============================>.] - ETA: 11s - loss: 2.7806e-04Epoch 1/60\n",
            " 1/50 [..............................] - ETA: 1:48 - loss: 2.7577e-04\n",
            "Epoch 00024: val_loss improved from 0.00028 to 0.00028, saving model to /content/gdrive/My Drive/thesis/regression_clipped_extremes_pyramid_21112019_1+24.keras\n",
            "50/50 [==============================] - 589s 12s/step - loss: 2.7823e-04 - val_loss: 2.7577e-04\n",
            "Epoch 25/60\n",
            "49/50 [============================>.] - ETA: 11s - loss: 2.7210e-04Epoch 1/60\n",
            " 1/50 [..............................] - ETA: 1:46 - loss: 2.7447e-04\n",
            "Epoch 00025: val_loss improved from 0.00028 to 0.00027, saving model to /content/gdrive/My Drive/thesis/regression_clipped_extremes_pyramid_21112019_1+24.keras\n",
            "50/50 [==============================] - 590s 12s/step - loss: 2.7235e-04 - val_loss: 2.7447e-04\n",
            "Epoch 26/60\n",
            "49/50 [============================>.] - ETA: 11s - loss: 2.6767e-04Epoch 1/60\n",
            " 1/50 [..............................] - ETA: 1:45 - loss: 2.6378e-04\n",
            "Epoch 00026: val_loss improved from 0.00027 to 0.00026, saving model to /content/gdrive/My Drive/thesis/regression_clipped_extremes_pyramid_21112019_1+24.keras\n",
            "50/50 [==============================] - 590s 12s/step - loss: 2.6782e-04 - val_loss: 2.6378e-04\n",
            "Epoch 27/60\n",
            "49/50 [============================>.] - ETA: 11s - loss: 2.6621e-04Epoch 1/60\n",
            " 1/50 [..............................] - ETA: 1:45 - loss: 2.6649e-04\n",
            "Epoch 00027: val_loss did not improve from 0.00026\n",
            "50/50 [==============================] - 590s 12s/step - loss: 2.6620e-04 - val_loss: 2.6649e-04\n",
            "Epoch 28/60\n",
            "49/50 [============================>.] - ETA: 11s - loss: 2.6558e-04Epoch 1/60\n",
            " 1/50 [..............................] - ETA: 1:48 - loss: 2.5451e-04\n",
            "Epoch 00028: val_loss improved from 0.00026 to 0.00025, saving model to /content/gdrive/My Drive/thesis/regression_clipped_extremes_pyramid_21112019_1+24.keras\n",
            "50/50 [==============================] - 588s 12s/step - loss: 2.6608e-04 - val_loss: 2.5451e-04\n",
            "Epoch 29/60\n",
            "49/50 [============================>.] - ETA: 11s - loss: 2.6069e-04Epoch 1/60\n",
            " 1/50 [..............................] - ETA: 1:51 - loss: 2.5854e-04\n",
            "Epoch 00029: val_loss did not improve from 0.00025\n",
            "50/50 [==============================] - 589s 12s/step - loss: 2.6087e-04 - val_loss: 2.5854e-04\n",
            "Epoch 30/60\n",
            "49/50 [============================>.] - ETA: 11s - loss: 2.6106e-04Epoch 1/60\n",
            " 1/50 [..............................] - ETA: 1:48 - loss: 2.6165e-04\n",
            "Epoch 00030: val_loss did not improve from 0.00025\n",
            "50/50 [==============================] - 588s 12s/step - loss: 2.6062e-04 - val_loss: 2.6165e-04\n",
            "Epoch 31/60\n",
            "49/50 [============================>.] - ETA: 11s - loss: 2.5762e-04Epoch 1/60\n",
            " 1/50 [..............................] - ETA: 1:45 - loss: 2.5004e-04\n",
            "Epoch 00031: val_loss improved from 0.00025 to 0.00025, saving model to /content/gdrive/My Drive/thesis/regression_clipped_extremes_pyramid_21112019_1+24.keras\n",
            "50/50 [==============================] - 587s 12s/step - loss: 2.5764e-04 - val_loss: 2.5004e-04\n",
            "Epoch 32/60\n",
            "49/50 [============================>.] - ETA: 11s - loss: 2.5134e-04Epoch 1/60\n",
            " 1/50 [..............................] - ETA: 1:47 - loss: 2.4634e-04\n",
            "Epoch 00032: val_loss improved from 0.00025 to 0.00025, saving model to /content/gdrive/My Drive/thesis/regression_clipped_extremes_pyramid_21112019_1+24.keras\n",
            "50/50 [==============================] - 589s 12s/step - loss: 2.5120e-04 - val_loss: 2.4634e-04\n",
            "Epoch 33/60\n",
            "49/50 [============================>.] - ETA: 11s - loss: 2.5315e-04Epoch 1/60\n",
            " 1/50 [..............................] - ETA: 1:53 - loss: 2.5015e-04\n",
            "Epoch 00033: val_loss did not improve from 0.00025\n",
            "50/50 [==============================] - 594s 12s/step - loss: 2.5305e-04 - val_loss: 2.5015e-04\n",
            "Epoch 34/60\n",
            " 9/50 [====>.........................] - ETA: 8:06 - loss: 2.4856e-04"
          ],
          "name": "stdout"
        }
      ]
    }
  ]
}