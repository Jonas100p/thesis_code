{
 "cells": [
  {
   "cell_type": "code",
   "execution_count": 13,
   "metadata": {},
   "outputs": [],
   "source": [
    "import pandas as pd\n",
    "import os\n",
    "import tensorflow as tf\n",
    "import numpy as np\n",
    "import pickle\n",
    "import matplotlib.pyplot as plt\n",
    "\n",
    "from sklearn.preprocessing import MinMaxScaler\n",
    "from tensorflow.keras.layers import LSTM, GRU, Dense\n",
    "from tensorflow.keras.models import Sequential\n",
    "from tensorflow.keras.callbacks import ReduceLROnPlateau, ModelCheckpoint, EarlyStopping, TensorBoard\n",
    "from tensorflow.keras.optimizers import RMSprop"
   ]
  },
  {
   "cell_type": "code",
   "execution_count": 14,
   "metadata": {},
   "outputs": [],
   "source": [
    "target = pd.read_pickle('target_prices.pkl')"
   ]
  },
  {
   "cell_type": "code",
   "execution_count": 15,
   "metadata": {},
   "outputs": [
    {
     "data": {
      "text/plain": [
       "MinMaxScaler(copy=True, feature_range=(0, 1))"
      ]
     },
     "execution_count": 15,
     "metadata": {},
     "output_type": "execute_result"
    }
   ],
   "source": [
    "y_scaler_1 = MinMaxScaler()\n",
    "y_scaler_2 = MinMaxScaler()\n",
    "y_scaler_3 = MinMaxScaler()\n",
    "\n",
    "y_scaler_1.fit(np.array(target['1_h']).reshape(-1, 1))\n",
    "y_scaler_2.fit(target[['1_h', '24_h']])\n",
    "y_scaler_3.fit(target)"
   ]
  },
  {
   "cell_type": "code",
   "execution_count": 16,
   "metadata": {},
   "outputs": [],
   "source": [
    "data = pd.read_pickle('master_dataset_06122019.pkl')"
   ]
  },
  {
   "cell_type": "code",
   "execution_count": 17,
   "metadata": {},
   "outputs": [
    {
     "data": {
      "text/plain": [
       "Index(['de', 'dk1', 'dk2', 'no2', 'se3', 'se4', 'system', 'CentralProd_dk1',\n",
       "       'ElectricBoilerCon_dk1', 'ExchangeContinent_dk1',\n",
       "       'ExchangeGreatBelt_dk1', 'ExchangeNordicCountries_dk1', 'GrossCon_dk1',\n",
       "       'LocalPowerProd_dk1', 'NetCon_dk1', 'OnshoreWindPower_dk1',\n",
       "       'SolarPowerProd_dk1', 'CentralProd_dk2', 'ElectricBoilerCon_dk2',\n",
       "       'ExchangeContinent_dk2', 'ExchangeNordicCountries_dk2', 'GrossCon_dk2',\n",
       "       'LocalPowerProd_dk2', 'NetCon_dk2', 'OnshoreWindPower_dk2',\n",
       "       'SolarPowerProd_dk2', 'sun', 'temp', 'wind', 'hour', 'weekday',\n",
       "       'Offshore_dk1', 'Offshore_dk2', 'pred_+1', 'pred_+24', 'pred_+48',\n",
       "       'price_bin'],\n",
       "      dtype='object')"
      ]
     },
     "execution_count": 17,
     "metadata": {},
     "output_type": "execute_result"
    }
   ],
   "source": [
    "data.columns"
   ]
  },
  {
   "cell_type": "markdown",
   "metadata": {},
   "source": [
    "## 1+24+48 pred\n"
   ]
  },
  {
   "cell_type": "code",
   "execution_count": 18,
   "metadata": {},
   "outputs": [],
   "source": [
    "model = Sequential()\n",
    "model.add(LSTM(units=100,\n",
    "               input_shape=(None, 37,),\n",
    "               return_sequences=True,\n",
    "               dropout=0.2,\n",
    "               recurrent_dropout=0.5))\n",
    "model.add(LSTM(units=30,\n",
    "               return_sequences=True,\n",
    "               dropout=0.2,\n",
    "               recurrent_dropout=0.5))\n",
    "model.add(LSTM(units=20,\n",
    "               return_sequences=True,\n",
    "               dropout=0.2,\n",
    "               recurrent_dropout=0.5))\n",
    "\n",
    "model.add(Dense(3, activation='relu'))"
   ]
  },
  {
   "cell_type": "code",
   "execution_count": 19,
   "metadata": {},
   "outputs": [],
   "source": [
    "warmup_steps = 30\n",
    "\n",
    "def loss_mse_warmup(y_true, y_pred):\n",
    "    \"\"\"\n",
    "    Calculate the mean squared error between y_true and y_pred but ignores the warmup-period of the sequence,\n",
    "    as there is not yet enough data to make serious predictions.\n",
    "    \"\"\"\n",
    "    \n",
    "    # The shape of both input tensors are \n",
    "    # (batch_size, sequence_length, num_y_signals)\n",
    "    \n",
    "    # Ignore the warm-up period by taking slices of the tensors\n",
    "    y_true_slice = y_true[: , warmup_steps: , :]\n",
    "    y_pred_slice = y_pred[: , warmup_steps: , :]\n",
    "    \n",
    "    # The sliced tensors have the shape (batch_size, sequence_length - warmup_length, num_y_signals)\n",
    "    \n",
    "    # Calculate the MSE loss for each value pair\n",
    "    #loss = tf.losses.mean_squared_error(y_true_slice, y_pred_slice)\n",
    "    #loss = tf.losses.softmax_cross_entropy(y_true_slice, y_pred_slice)\n",
    "    loss = tf.keras.losses.MSLE(y_true_slice, y_pred_slice)\n",
    "    loss_mean = tf.reduce_mean(loss)\n",
    "    \n",
    "    return loss_mean"
   ]
  },
  {
   "cell_type": "code",
   "execution_count": 20,
   "metadata": {},
   "outputs": [],
   "source": [
    "x_sc = MinMaxScaler()\n",
    "data_scaled = x_sc.fit_transform(data)"
   ]
  },
  {
   "cell_type": "code",
   "execution_count": 21,
   "metadata": {},
   "outputs": [],
   "source": [
    "model.load_weights('1+24+48+pred.keras')"
   ]
  },
  {
   "cell_type": "code",
   "execution_count": 22,
   "metadata": {},
   "outputs": [],
   "source": [
    "preds = model.predict(np.expand_dims(data_scaled, axis=0))"
   ]
  },
  {
   "cell_type": "code",
   "execution_count": 23,
   "metadata": {},
   "outputs": [],
   "source": [
    "preds_rescaled = y_scaler_3.inverse_transform(preds[0, :, :])\n",
    "p_48_pred = y_scaler_3.inverse_transform(preds[0, :, :])"
   ]
  },
  {
   "cell_type": "code",
   "execution_count": 24,
   "metadata": {},
   "outputs": [
    {
     "data": {
      "text/plain": [
       "48"
      ]
     },
     "execution_count": 24,
     "metadata": {},
     "output_type": "execute_result"
    }
   ],
   "source": [
    "len(target) - preds_rescaled[:-48,:].shape[0]"
   ]
  },
  {
   "cell_type": "code",
   "execution_count": 25,
   "metadata": {},
   "outputs": [],
   "source": [
    "error = [target['48_h'][48+i] - preds_rescaled[i,2] for i in range(preds_rescaled[:-48,:].shape[0])]"
   ]
  },
  {
   "cell_type": "code",
   "execution_count": 26,
   "metadata": {},
   "outputs": [],
   "source": [
    "error_abs = [np.abs(error[i]) for i in range(len(error))]"
   ]
  },
  {
   "cell_type": "code",
   "execution_count": 27,
   "metadata": {},
   "outputs": [
    {
     "name": "stdout",
     "output_type": "stream",
     "text": [
      "58.81686245573488\n",
      "70.03989582795333\n"
     ]
    }
   ],
   "source": [
    "print(np.array(error_abs).mean())\n",
    "print(np.array(error_abs).std())"
   ]
  },
  {
   "cell_type": "code",
   "execution_count": 33,
   "metadata": {},
   "outputs": [],
   "source": [
    "error_48 = pd.DataFrame(error_abs, index=target.index[48:])"
   ]
  },
  {
   "cell_type": "code",
   "execution_count": 40,
   "metadata": {},
   "outputs": [
    {
     "name": "stdout",
     "output_type": "stream",
     "text": [
      "is std: 69.08827527810499\n",
      "oos std: 71.81780928634123\n"
     ]
    }
   ],
   "source": [
    "import datetime\n",
    "print(\"is std:\", error_48[0][error_48.index.date < datetime.date(2017, 1, 1)].std())\n",
    "print(\"oos std:\", error_48[0][error_48.index.date >= datetime.date(2017, 1, 1)].std())"
   ]
  },
  {
   "cell_type": "code",
   "execution_count": 42,
   "metadata": {},
   "outputs": [],
   "source": [
    "error_df = pd.DataFrame(error_abs, index=target.index[48:])"
   ]
  },
  {
   "cell_type": "code",
   "execution_count": 43,
   "metadata": {},
   "outputs": [],
   "source": [
    "error_df = pd.concat([target['48_h'][48:], error_df], join='inner', axis=1)"
   ]
  },
  {
   "cell_type": "code",
   "execution_count": 44,
   "metadata": {},
   "outputs": [],
   "source": [
    "error_df = pd.concat([error_df, data['price_bin']], axis=1, join='inner')"
   ]
  },
  {
   "cell_type": "code",
   "execution_count": 46,
   "metadata": {},
   "outputs": [],
   "source": [
    "error_dict = {}\n",
    "for i in range(100):\n",
    "    error_dict[i] = [error_df[error_df.price_bin == i][0].mean(),\n",
    "                     error_df[error_df.price_bin == i][0].median()]"
   ]
  },
  {
   "cell_type": "code",
   "execution_count": 47,
   "metadata": {},
   "outputs": [],
   "source": [
    "e_df = pd.DataFrame.from_dict(error_dict, orient='index', columns=['mean', 'median'])"
   ]
  },
  {
   "cell_type": "code",
   "execution_count": 48,
   "metadata": {},
   "outputs": [
    {
     "data": {
      "image/png": "[encoded data removed]",
      "text/plain": [
       "<Figure size 432x288 with 1 Axes>"
      ]
     },
     "metadata": {},
     "output_type": "display_data"
    }
   ],
   "source": [
    "plt.plot(e_df['mean'], label='mean', color='red')\n",
    "plt.plot(e_df['median'], label='median', color='orange')\n",
    "plt.title('Absolute mean/median error')\n",
    "plt.xlabel('Percentile')\n",
    "plt.ylabel('Error in DKK/MWh')\n",
    "plt.legend()\n",
    "plt.show()"
   ]
  },
  {
   "cell_type": "markdown",
   "metadata": {},
   "source": [
    "## 1+pred"
   ]
  },
  {
   "cell_type": "code",
   "execution_count": 49,
   "metadata": {},
   "outputs": [],
   "source": [
    "model = Sequential()\n",
    "model.add(LSTM(units=100,\n",
    "               input_shape=(None, 35,),\n",
    "               return_sequences=True,\n",
    "               dropout=0.2,\n",
    "               recurrent_dropout=0.5))\n",
    "model.add(LSTM(units=30,\n",
    "               return_sequences=True,\n",
    "               dropout=0.2,\n",
    "               recurrent_dropout=0.5))\n",
    "model.add(LSTM(units=20,\n",
    "               return_sequences=True,\n",
    "               dropout=0.2,\n",
    "               recurrent_dropout=0.5))\n",
    "\n",
    "model.add(Dense(1, activation='relu'))"
   ]
  },
  {
   "cell_type": "code",
   "execution_count": 50,
   "metadata": {},
   "outputs": [],
   "source": [
    "x_sc = MinMaxScaler()\n",
    "data_scaled = x_sc.fit_transform(data.drop(['pred_+48', 'pred_+24'], axis=1))"
   ]
  },
  {
   "cell_type": "code",
   "execution_count": 51,
   "metadata": {},
   "outputs": [],
   "source": [
    "model.load_weights('1+pred.keras')"
   ]
  },
  {
   "cell_type": "code",
   "execution_count": 52,
   "metadata": {},
   "outputs": [],
   "source": [
    "preds = model.predict(np.expand_dims(data_scaled, axis=0))"
   ]
  },
  {
   "cell_type": "code",
   "execution_count": 53,
   "metadata": {},
   "outputs": [],
   "source": [
    "preds_rescaled = y_scaler_1.inverse_transform(preds[0, :, :])\n",
    "p_1_pred = y_scaler_1.inverse_transform(preds[0, :, :])"
   ]
  },
  {
   "cell_type": "code",
   "execution_count": 54,
   "metadata": {},
   "outputs": [],
   "source": [
    "error = [target['1_h'][1+i] - preds_rescaled[i,0] for i in range(preds_rescaled[:-1,:].shape[0])]"
   ]
  },
  {
   "cell_type": "code",
   "execution_count": 55,
   "metadata": {},
   "outputs": [],
   "source": [
    "error_abs = [np.abs(error[i]) for i in range(len(error))]"
   ]
  },
  {
   "cell_type": "code",
   "execution_count": 56,
   "metadata": {},
   "outputs": [
    {
     "name": "stdout",
     "output_type": "stream",
     "text": [
      "55.616973206111005\n",
      "48.917001487107626\n"
     ]
    }
   ],
   "source": [
    "print(np.array(error_abs).mean())\n",
    "print(np.array(error_abs).std())"
   ]
  },
  {
   "cell_type": "code",
   "execution_count": 57,
   "metadata": {},
   "outputs": [],
   "source": [
    "error_1 = pd.DataFrame(error_abs, index=target.index[1:])"
   ]
  },
  {
   "cell_type": "code",
   "execution_count": 58,
   "metadata": {},
   "outputs": [
    {
     "name": "stdout",
     "output_type": "stream",
     "text": [
      "is std: 50.06214599589473\n",
      "oos std: 46.32039550638476\n"
     ]
    }
   ],
   "source": [
    "print(\"is std:\", error_1[0][error_1.index.date < datetime.date(2017, 1, 1)].std())\n",
    "print(\"oos std:\", error_1[0][error_1.index.date >= datetime.date(2017, 1, 1)].std())"
   ]
  },
  {
   "cell_type": "code",
   "execution_count": null,
   "metadata": {},
   "outputs": [],
   "source": [
    "error_df = pd.DataFrame(error_abs, index=target.index[1:])"
   ]
  },
  {
   "cell_type": "code",
   "execution_count": null,
   "metadata": {},
   "outputs": [],
   "source": [
    "error_df = pd.concat([target['1_h'][1:], error_df], join='inner', axis=1)"
   ]
  },
  {
   "cell_type": "code",
   "execution_count": null,
   "metadata": {},
   "outputs": [],
   "source": [
    "error_df = pd.concat([error_df, data['price_bin']], axis=1, join='inner')"
   ]
  },
  {
   "cell_type": "code",
   "execution_count": null,
   "metadata": {},
   "outputs": [],
   "source": [
    "error_dict = {}\n",
    "for i in range(100):\n",
    "    error_dict[i] = [error_df[error_df.price_bin == i][0].mean(),\n",
    "                     error_df[error_df.price_bin == i][0].median()]"
   ]
  },
  {
   "cell_type": "code",
   "execution_count": null,
   "metadata": {},
   "outputs": [],
   "source": [
    "e_df = pd.DataFrame.from_dict(error_dict, orient='index', columns=['mean', 'median'])"
   ]
  },
  {
   "cell_type": "code",
   "execution_count": null,
   "metadata": {},
   "outputs": [],
   "source": [
    "plt.plot(e_df['mean'], label='mean', color='red')\n",
    "plt.plot(e_df['median'], label='median', color='orange')\n",
    "plt.title('Absolute mean/median error')\n",
    "plt.xlabel('Percentile')\n",
    "plt.ylabel('Error in DKK/MWh')\n",
    "plt.legend()\n",
    "plt.show()"
   ]
  },
  {
   "cell_type": "markdown",
   "metadata": {},
   "source": [
    "## 1 no pred"
   ]
  },
  {
   "cell_type": "code",
   "execution_count": 59,
   "metadata": {},
   "outputs": [],
   "source": [
    "model = Sequential()\n",
    "model.add(LSTM(units=100,\n",
    "               input_shape=(None, 34,),\n",
    "               return_sequences=True,\n",
    "               dropout=0.2,\n",
    "               recurrent_dropout=0.5))\n",
    "model.add(LSTM(units=30,\n",
    "               return_sequences=True,\n",
    "               dropout=0.2,\n",
    "               recurrent_dropout=0.5))\n",
    "model.add(LSTM(units=20,\n",
    "               return_sequences=True,\n",
    "               dropout=0.2,\n",
    "               recurrent_dropout=0.5))\n",
    "\n",
    "model.add(Dense(1, activation='relu'))"
   ]
  },
  {
   "cell_type": "code",
   "execution_count": 60,
   "metadata": {},
   "outputs": [],
   "source": [
    "x_sc = MinMaxScaler()\n",
    "data_scaled = x_sc.fit_transform(data.drop(['pred_+48', 'pred_+24', 'pred_+1'], axis=1))"
   ]
  },
  {
   "cell_type": "code",
   "execution_count": 61,
   "metadata": {},
   "outputs": [],
   "source": [
    "model.load_weights('1.keras')"
   ]
  },
  {
   "cell_type": "code",
   "execution_count": 62,
   "metadata": {},
   "outputs": [],
   "source": [
    "preds = model.predict(np.expand_dims(data_scaled, axis=0))"
   ]
  },
  {
   "cell_type": "code",
   "execution_count": 63,
   "metadata": {},
   "outputs": [],
   "source": [
    "preds_rescaled = y_scaler_1.inverse_transform(preds[0, :, :])\n",
    "p_1_no = y_scaler_1.inverse_transform(preds[0, :, :])"
   ]
  },
  {
   "cell_type": "code",
   "execution_count": 64,
   "metadata": {},
   "outputs": [],
   "source": [
    "error = [target['1_h'][1+i] - preds_rescaled[i,0] for i in range(preds_rescaled[:-1,:].shape[0])]"
   ]
  },
  {
   "cell_type": "code",
   "execution_count": 65,
   "metadata": {},
   "outputs": [],
   "source": [
    "error_abs = [np.abs(error[i]) for i in range(len(error))]"
   ]
  },
  {
   "cell_type": "code",
   "execution_count": 66,
   "metadata": {},
   "outputs": [
    {
     "name": "stdout",
     "output_type": "stream",
     "text": [
      "72.43701924027638\n",
      "52.42818153195882\n"
     ]
    }
   ],
   "source": [
    "print(np.array(error_abs).mean())\n",
    "print(np.array(error_abs).std())"
   ]
  },
  {
   "cell_type": "code",
   "execution_count": 67,
   "metadata": {},
   "outputs": [],
   "source": [
    "error_1_no = pd.DataFrame(error_abs, index=target.index[1:])"
   ]
  },
  {
   "cell_type": "code",
   "execution_count": 68,
   "metadata": {},
   "outputs": [
    {
     "name": "stdout",
     "output_type": "stream",
     "text": [
      "is std: 53.5219521633673\n",
      "oos std: 50.124606602393456\n"
     ]
    }
   ],
   "source": [
    "print(\"is std:\", error_1_no[0][error_1_no.index.date < datetime.date(2017, 1, 1)].std())\n",
    "print(\"oos std:\", error_1_no[0][error_1_no.index.date >= datetime.date(2017, 1, 1)].std())"
   ]
  },
  {
   "cell_type": "code",
   "execution_count": null,
   "metadata": {},
   "outputs": [],
   "source": [
    "error_df = pd.DataFrame(error_abs, index=target.index[1:])"
   ]
  },
  {
   "cell_type": "code",
   "execution_count": null,
   "metadata": {},
   "outputs": [],
   "source": [
    "error_df = pd.concat([target['1_h'][1:], error_df], join='inner', axis=1)"
   ]
  },
  {
   "cell_type": "code",
   "execution_count": null,
   "metadata": {},
   "outputs": [],
   "source": [
    "error_df = pd.concat([error_df, data['price_bin']], axis=1, join='inner')"
   ]
  },
  {
   "cell_type": "code",
   "execution_count": null,
   "metadata": {},
   "outputs": [],
   "source": [
    "error_dict = {}\n",
    "for i in range(100):\n",
    "    error_dict[i] = [error_df[error_df.price_bin == i][0].mean(),\n",
    "                     error_df[error_df.price_bin == i][0].median()]"
   ]
  },
  {
   "cell_type": "code",
   "execution_count": null,
   "metadata": {},
   "outputs": [],
   "source": [
    "e_df = pd.DataFrame.from_dict(error_dict, orient='index', columns=['mean', 'median'])"
   ]
  },
  {
   "cell_type": "code",
   "execution_count": null,
   "metadata": {},
   "outputs": [],
   "source": [
    "plt.plot(e_df['mean'], label='mean', color='red')\n",
    "plt.plot(e_df['median'], label='median', color='orange')\n",
    "plt.title('Absolute mean/median error')\n",
    "plt.xlabel('Percentile')\n",
    "plt.ylabel('Error in DKK/MWh')\n",
    "plt.legend()\n",
    "plt.show()"
   ]
  },
  {
   "cell_type": "markdown",
   "metadata": {},
   "source": [
    "## 1+24+48 no pred"
   ]
  },
  {
   "cell_type": "code",
   "execution_count": 69,
   "metadata": {},
   "outputs": [],
   "source": [
    "model = Sequential()\n",
    "model.add(LSTM(units=100,\n",
    "               input_shape=(None, 34,),\n",
    "               return_sequences=True,\n",
    "               dropout=0.2,\n",
    "               recurrent_dropout=0.5))\n",
    "model.add(LSTM(units=30,\n",
    "               return_sequences=True,\n",
    "               dropout=0.2,\n",
    "               recurrent_dropout=0.5))\n",
    "model.add(LSTM(units=20,\n",
    "               return_sequences=True,\n",
    "               dropout=0.2,\n",
    "               recurrent_dropout=0.5))\n",
    "\n",
    "model.add(Dense(3, activation='relu'))"
   ]
  },
  {
   "cell_type": "code",
   "execution_count": 70,
   "metadata": {},
   "outputs": [],
   "source": [
    "x_sc = MinMaxScaler()\n",
    "data_scaled = x_sc.fit_transform(data.drop(['pred_+48', 'pred_+24', 'pred_+1'], axis=1))"
   ]
  },
  {
   "cell_type": "code",
   "execution_count": 71,
   "metadata": {},
   "outputs": [],
   "source": [
    "model.load_weights('1+24+48.keras')"
   ]
  },
  {
   "cell_type": "code",
   "execution_count": 72,
   "metadata": {},
   "outputs": [],
   "source": [
    "preds = model.predict(np.expand_dims(data_scaled, axis=0))"
   ]
  },
  {
   "cell_type": "code",
   "execution_count": 73,
   "metadata": {},
   "outputs": [],
   "source": [
    "preds_rescaled = y_scaler_3.inverse_transform(preds[0, :, :])\n",
    "p_48_no = y_scaler_3.inverse_transform(preds[0, :, :])"
   ]
  },
  {
   "cell_type": "code",
   "execution_count": 74,
   "metadata": {},
   "outputs": [],
   "source": [
    "error = [target['48_h'][48+i] - preds_rescaled[i,2] for i in range(preds_rescaled[:-48,:].shape[0])]"
   ]
  },
  {
   "cell_type": "code",
   "execution_count": 75,
   "metadata": {},
   "outputs": [],
   "source": [
    "error_abs = [np.abs(error[i]) for i in range(len(error))]"
   ]
  },
  {
   "cell_type": "code",
   "execution_count": 76,
   "metadata": {},
   "outputs": [],
   "source": [
    "error_48_no = pd.DataFrame(error_abs, index=target.index[48:])"
   ]
  },
  {
   "cell_type": "code",
   "execution_count": 77,
   "metadata": {},
   "outputs": [
    {
     "name": "stdout",
     "output_type": "stream",
     "text": [
      "is std: 68.52358777976387\n",
      "oos std: 72.09528261760377\n"
     ]
    }
   ],
   "source": [
    "print(\"is std:\", error_48_no[0][error_48_no.index.date < datetime.date(2017, 1, 1)].std())\n",
    "print(\"oos std:\", error_48_no[0][error_48_no.index.date >= datetime.date(2017, 1, 1)].std())"
   ]
  },
  {
   "cell_type": "code",
   "execution_count": null,
   "metadata": {},
   "outputs": [],
   "source": [
    "error_df = pd.DataFrame(error_abs, index=target.index[48:])"
   ]
  },
  {
   "cell_type": "code",
   "execution_count": null,
   "metadata": {},
   "outputs": [],
   "source": [
    "error_df = pd.concat([target['48_h'][48:], error_df], join='inner', axis=1)"
   ]
  },
  {
   "cell_type": "code",
   "execution_count": null,
   "metadata": {},
   "outputs": [],
   "source": [
    "error_df = pd.concat([error_df, data['price_bin']], axis=1, join='inner')"
   ]
  },
  {
   "cell_type": "code",
   "execution_count": null,
   "metadata": {},
   "outputs": [],
   "source": [
    "error_dict = {}\n",
    "for i in range(100):\n",
    "    error_dict[i] = [error_df[error_df.price_bin == i][0].mean(),\n",
    "                     error_df[error_df.price_bin == i][0].median()]"
   ]
  },
  {
   "cell_type": "code",
   "execution_count": null,
   "metadata": {},
   "outputs": [],
   "source": [
    "e_df = pd.DataFrame.from_dict(error_dict, orient='index', columns=['mean', 'median'])"
   ]
  },
  {
   "cell_type": "code",
   "execution_count": null,
   "metadata": {},
   "outputs": [],
   "source": [
    "plt.plot(e_df['mean'], label='mean', color='red')\n",
    "plt.plot(e_df['median'], label='median', color='orange')\n",
    "plt.title('Absolute mean/median error')\n",
    "plt.xlabel('Percentile')\n",
    "plt.ylabel('Error in DKK/MWh')\n",
    "plt.legend()\n",
    "plt.show()"
   ]
  },
  {
   "cell_type": "code",
   "execution_count": null,
   "metadata": {},
   "outputs": [],
   "source": [
    "print(np.array(error_abs).mean())"
   ]
  },
  {
   "cell_type": "markdown",
   "metadata": {},
   "source": [
    "## 1+24 no pred"
   ]
  },
  {
   "cell_type": "code",
   "execution_count": 78,
   "metadata": {},
   "outputs": [],
   "source": [
    "model = Sequential()\n",
    "model.add(LSTM(units=100,\n",
    "               input_shape=(None, 34,),\n",
    "               return_sequences=True,\n",
    "               dropout=0.2,\n",
    "               recurrent_dropout=0.5))\n",
    "model.add(LSTM(units=30,\n",
    "               return_sequences=True,\n",
    "               dropout=0.2,\n",
    "               recurrent_dropout=0.5))\n",
    "model.add(LSTM(units=20,\n",
    "               return_sequences=True,\n",
    "               dropout=0.2,\n",
    "               recurrent_dropout=0.5))\n",
    "\n",
    "model.add(Dense(2, activation='relu'))"
   ]
  },
  {
   "cell_type": "code",
   "execution_count": 79,
   "metadata": {},
   "outputs": [],
   "source": [
    "x_sc = MinMaxScaler()\n",
    "data_scaled = x_sc.fit_transform(data.drop(['pred_+48', 'pred_+24', 'pred_+1'], axis=1))"
   ]
  },
  {
   "cell_type": "code",
   "execution_count": 80,
   "metadata": {},
   "outputs": [],
   "source": [
    "model.load_weights('1+24.keras')"
   ]
  },
  {
   "cell_type": "code",
   "execution_count": 81,
   "metadata": {},
   "outputs": [],
   "source": [
    "preds = model.predict(np.expand_dims(data_scaled, axis=0))"
   ]
  },
  {
   "cell_type": "code",
   "execution_count": 82,
   "metadata": {},
   "outputs": [],
   "source": [
    "preds_rescaled = y_scaler_2.inverse_transform(preds[0, :, :])\n",
    "p_24_no = y_scaler_2.inverse_transform(preds[0, :, :])"
   ]
  },
  {
   "cell_type": "code",
   "execution_count": 83,
   "metadata": {},
   "outputs": [],
   "source": [
    "error = [target['24_h'][24+i] - preds_rescaled[i,1] for i in range(preds_rescaled[:-24,:].shape[0])]"
   ]
  },
  {
   "cell_type": "code",
   "execution_count": 84,
   "metadata": {},
   "outputs": [],
   "source": [
    "error_abs = [np.abs(error[i]) for i in range(len(error))]"
   ]
  },
  {
   "cell_type": "code",
   "execution_count": 85,
   "metadata": {},
   "outputs": [],
   "source": [
    "error_24_no = pd.DataFrame(error_abs, index=target.index[24:])"
   ]
  },
  {
   "cell_type": "code",
   "execution_count": 86,
   "metadata": {},
   "outputs": [
    {
     "name": "stdout",
     "output_type": "stream",
     "text": [
      "is std: 65.49528819836252\n",
      "oos std: 70.52575131330177\n"
     ]
    }
   ],
   "source": [
    "print(\"is std:\", error_24_no[0][error_24_no.index.date < datetime.date(2017, 1, 1)].std())\n",
    "print(\"oos std:\", error_24_no[0][error_24_no.index.date >= datetime.date(2017, 1, 1)].std())"
   ]
  },
  {
   "cell_type": "code",
   "execution_count": null,
   "metadata": {},
   "outputs": [],
   "source": [
    "error_df = pd.DataFrame(error_abs, index=target.index[24:])"
   ]
  },
  {
   "cell_type": "code",
   "execution_count": null,
   "metadata": {},
   "outputs": [],
   "source": [
    "error_df = pd.concat([target['24_h'][24:], error_df], join='inner', axis=1)"
   ]
  },
  {
   "cell_type": "code",
   "execution_count": null,
   "metadata": {},
   "outputs": [],
   "source": [
    "error_df = pd.concat([error_df, data['price_bin']], axis=1, join='inner')"
   ]
  },
  {
   "cell_type": "code",
   "execution_count": null,
   "metadata": {},
   "outputs": [],
   "source": [
    "error_dict = {}\n",
    "for i in range(100):\n",
    "    error_dict[i] = [error_df[error_df.price_bin == i][0].mean(),\n",
    "                     error_df[error_df.price_bin == i][0].median()]"
   ]
  },
  {
   "cell_type": "code",
   "execution_count": null,
   "metadata": {},
   "outputs": [],
   "source": [
    "e_df = pd.DataFrame.from_dict(error_dict, orient='index', columns=['mean', 'median'])"
   ]
  },
  {
   "cell_type": "code",
   "execution_count": null,
   "metadata": {},
   "outputs": [],
   "source": [
    "plt.plot(e_df['mean'], label='mean', color='red')\n",
    "plt.plot(e_df['median'], label='median', color='orange')\n",
    "plt.title('Absolute mean/median error')\n",
    "plt.xlabel('Percentile')\n",
    "plt.ylabel('Error in DKK/MWh')\n",
    "plt.legend()\n",
    "plt.show()"
   ]
  },
  {
   "cell_type": "code",
   "execution_count": null,
   "metadata": {},
   "outputs": [],
   "source": [
    "print(np.array(error_abs).mean())"
   ]
  },
  {
   "cell_type": "markdown",
   "metadata": {},
   "source": [
    "## 1+24 pred"
   ]
  },
  {
   "cell_type": "code",
   "execution_count": 87,
   "metadata": {},
   "outputs": [],
   "source": [
    "model = Sequential()\n",
    "model.add(LSTM(units=100,\n",
    "               input_shape=(None, 36,),\n",
    "               return_sequences=True,\n",
    "               dropout=0.2,\n",
    "               recurrent_dropout=0.5))\n",
    "model.add(LSTM(units=30,\n",
    "               return_sequences=True,\n",
    "               dropout=0.2,\n",
    "               recurrent_dropout=0.5))\n",
    "model.add(LSTM(units=20,\n",
    "               return_sequences=True,\n",
    "               dropout=0.2,\n",
    "               recurrent_dropout=0.5))\n",
    "\n",
    "model.add(Dense(2, activation='relu'))"
   ]
  },
  {
   "cell_type": "code",
   "execution_count": 88,
   "metadata": {},
   "outputs": [],
   "source": [
    "x_sc = MinMaxScaler()\n",
    "data_scaled = x_sc.fit_transform(data.drop(['pred_+48'], axis=1))"
   ]
  },
  {
   "cell_type": "code",
   "execution_count": 89,
   "metadata": {},
   "outputs": [],
   "source": [
    "model.load_weights('1+24+pred.keras')"
   ]
  },
  {
   "cell_type": "code",
   "execution_count": 90,
   "metadata": {},
   "outputs": [],
   "source": [
    "preds = model.predict(np.expand_dims(data_scaled, axis=0))"
   ]
  },
  {
   "cell_type": "code",
   "execution_count": 91,
   "metadata": {},
   "outputs": [],
   "source": [
    "preds_rescaled = y_scaler_2.inverse_transform(preds[0, :, :])\n",
    "p_24_pred = y_scaler_2.inverse_transform(preds[0, :, :])"
   ]
  },
  {
   "cell_type": "code",
   "execution_count": 92,
   "metadata": {},
   "outputs": [],
   "source": [
    "error = [target['24_h'][24+i] - preds_rescaled[i,1] for i in range(preds_rescaled[:-24,:].shape[0])]"
   ]
  },
  {
   "cell_type": "code",
   "execution_count": 93,
   "metadata": {},
   "outputs": [],
   "source": [
    "error_abs = [np.abs(error[i]) for i in range(len(error))]"
   ]
  },
  {
   "cell_type": "code",
   "execution_count": 94,
   "metadata": {},
   "outputs": [],
   "source": [
    "error_24 = pd.DataFrame(error_abs, index=target.index[24:])"
   ]
  },
  {
   "cell_type": "code",
   "execution_count": 95,
   "metadata": {},
   "outputs": [
    {
     "name": "stdout",
     "output_type": "stream",
     "text": [
      "is std: 66.61656976934454\n",
      "oos std: 70.93154127389825\n"
     ]
    }
   ],
   "source": [
    "print(\"is std:\", error_24[0][error_24.index.date < datetime.date(2017, 1, 1)].std())\n",
    "print(\"oos std:\", error_24[0][error_24.index.date >= datetime.date(2017, 1, 1)].std())"
   ]
  },
  {
   "cell_type": "code",
   "execution_count": null,
   "metadata": {},
   "outputs": [],
   "source": [
    "error_df = pd.DataFrame(error_abs, index=target.index[24:])"
   ]
  },
  {
   "cell_type": "code",
   "execution_count": null,
   "metadata": {},
   "outputs": [],
   "source": [
    "error_df = pd.concat([target['24_h'][24:], error_df], join='inner', axis=1)"
   ]
  },
  {
   "cell_type": "code",
   "execution_count": null,
   "metadata": {},
   "outputs": [],
   "source": [
    "error_df = pd.concat([error_df, data['price_bin']], axis=1, join='inner')"
   ]
  },
  {
   "cell_type": "code",
   "execution_count": null,
   "metadata": {},
   "outputs": [],
   "source": [
    "error_dict = {}\n",
    "for i in range(100):\n",
    "    error_dict[i] = [error_df[error_df.price_bin == i][0].mean(),\n",
    "                     error_df[error_df.price_bin == i][0].median()]"
   ]
  },
  {
   "cell_type": "code",
   "execution_count": null,
   "metadata": {},
   "outputs": [],
   "source": [
    "e_df = pd.DataFrame.from_dict(error_dict, orient='index', columns=['mean', 'median'])"
   ]
  },
  {
   "cell_type": "code",
   "execution_count": null,
   "metadata": {},
   "outputs": [],
   "source": [
    "plt.plot(e_df['mean'], label='mean', color='red')\n",
    "plt.plot(e_df['median'], label='median', color='orange')\n",
    "plt.title('Absolute mean/median error')\n",
    "plt.xlabel('Percentile')\n",
    "plt.ylabel('Error in DKK/MWh')\n",
    "plt.legend()\n",
    "plt.show()"
   ]
  },
  {
   "cell_type": "code",
   "execution_count": null,
   "metadata": {},
   "outputs": [],
   "source": [
    "print(np.array(error_abs).mean())"
   ]
  },
  {
   "cell_type": "code",
   "execution_count": null,
   "metadata": {},
   "outputs": [],
   "source": [
    "prediction_dict = {\n",
    "    '1_no' : p_1_no,\n",
    "    '1_pred': p_1_pred,\n",
    "    '24_no': p_24_no,\n",
    "    '24_pred': p_24_pred,\n",
    "    '48_no': p_48_no,\n",
    "    '48_pred': p_48_pred\n",
    "}"
   ]
  },
  {
   "cell_type": "code",
   "execution_count": null,
   "metadata": {},
   "outputs": [],
   "source": [
    "filehandler = open('./prediction.pkl', 'wb')\n",
    "pickle.dump(prediction_dict, filehandler)"
   ]
  }
 ],
 "metadata": {
  "kernelspec": {
   "display_name": "Python 3",
   "language": "python",
   "name": "python3"
  }
 },
 "nbformat": 4,
 "nbformat_minor": 2
}
