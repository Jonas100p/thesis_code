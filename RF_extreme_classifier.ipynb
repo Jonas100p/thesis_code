{
  "nbformat": 4,
  "nbformat_minor": 0,
  "metadata": {
    "colab": {
      "name": "RF_extreme_classifier.ipynb",
      "provenance": [],
      "collapsed_sections": []
    },
    "kernelspec": {
      "name": "python3",
      "display_name": "Python 3"
    }
  },
  "cells": [
    {
      "cell_type": "code",
      "metadata": {
        "id": "fs6sdfhdVq1I",
        "colab_type": "code",
        "outputId": "3fe0fb6d-942f-4291-d481-f50c4455e69b",
        "colab": {
          "base_uri": "https://localhost:8080/",
          "height": 122
        }
      },
      "source": [
        "from google.colab import drive\n",
        "drive.mount('/content/gdrive')"
      ],
      "execution_count": 0,
      "outputs": [
        {
          "output_type": "stream",
          "text": [
            "Go to this URL in a browser: https://accounts.google.com/o/oauth2/auth?client_id=947318989803-6bn6qk8qdgf4n4g3pfee6491hc0brc4i.apps.googleusercontent.com&redirect_uri=urn%3aietf%3awg%3aoauth%3a2.0%3aoob&response_type=code&scope=email%20https%3a%2f%2fwww.googleapis.com%2fauth%2fdocs.test%20https%3a%2f%2fwww.googleapis.com%2fauth%2fdrive%20https%3a%2f%2fwww.googleapis.com%2fauth%2fdrive.photos.readonly%20https%3a%2f%2fwww.googleapis.com%2fauth%2fpeopleapi.readonly\n",
            "\n",
            "Enter your authorization code:\n",
            "··········\n",
            "Mounted at /content/gdrive\n"
          ],
          "name": "stdout"
        }
      ]
    },
    {
      "cell_type": "code",
      "metadata": {
        "id": "s8pegTNDV3Mx",
        "colab_type": "code",
        "outputId": "255ae8e0-7a09-47fa-d197-167acfc761ab",
        "colab": {
          "base_uri": "https://localhost:8080/",
          "height": 51
        }
      },
      "source": [
        "from sklearn.model_selection import train_test_split\n",
        "from sklearn.pipeline import make_pipeline\n",
        "from sklearn.ensemble import RandomForestClassifier\n",
        "from sklearn.metrics import precision_score, recall_score, f1_score, roc_auc_score, accuracy_score, confusion_matrix\n",
        "from sklearn.impute import SimpleImputer\n",
        "from imblearn.pipeline import make_pipeline as make_pipeline_imb\n",
        "from imblearn.over_sampling import SMOTE\n",
        "from imblearn.metrics import classification_report_imbalanced\n",
        "\n",
        "import numpy as np\n",
        "import pandas as pd\n",
        "import os\n",
        "from collections import Counter"
      ],
      "execution_count": 0,
      "outputs": [
        {
          "output_type": "stream",
          "text": [
            "/usr/local/lib/python3.6/dist-packages/sklearn/externals/six.py:31: DeprecationWarning: The module is deprecated in version 0.21 and will be removed in version 0.23 since we've dropped support for Python 2.7. Please rely on the official version of six (https://pypi.org/project/six/).\n",
            "  \"(https://pypi.org/project/six/).\", DeprecationWarning)\n"
          ],
          "name": "stderr"
        }
      ]
    },
    {
      "cell_type": "code",
      "metadata": {
        "id": "Z3cbPXURWaDW",
        "colab_type": "code",
        "colab": {}
      },
      "source": [
        "os.chdir('/content/gdrive/My Drive/thesis')"
      ],
      "execution_count": 0,
      "outputs": []
    },
    {
      "cell_type": "code",
      "metadata": {
        "id": "x5ZUy3_AWeN_",
        "colab_type": "code",
        "colab": {}
      },
      "source": [
        "data = pd.read_pickle('master_dataset_24112019.pkl')"
      ],
      "execution_count": 0,
      "outputs": []
    },
    {
      "cell_type": "code",
      "metadata": {
        "id": "Zn4v3NHH49J4",
        "colab_type": "code",
        "outputId": "59e671bc-8093-4227-87b6-18c05735a6d8",
        "colab": {
          "base_uri": "https://localhost:8080/",
          "height": 187
        }
      },
      "source": [
        "data.columns"
      ],
      "execution_count": 0,
      "outputs": [
        {
          "output_type": "execute_result",
          "data": {
            "text/plain": [
              "Index(['de', 'dk1', 'dk2', 'no2', 'se3', 'se4', 'system', 'CentralProd_dk1',\n",
              "       'ElectricBoilerCon_dk1', 'ExchangeContinent_dk1',\n",
              "       'ExchangeGreatBelt_dk1', 'ExchangeNordicCountries_dk1', 'GrossCon_dk1',\n",
              "       'LocalPowerProd_dk1', 'NetCon_dk1', 'OnshoreWindPower_dk1',\n",
              "       'SolarPowerProd_dk1', 'CentralProd_dk2', 'ElectricBoilerCon_dk2',\n",
              "       'ExchangeContinent_dk2', 'ExchangeNordicCountries_dk2', 'GrossCon_dk2',\n",
              "       'LocalPowerProd_dk2', 'NetCon_dk2', 'OnshoreWindPower_dk2',\n",
              "       'SolarPowerProd_dk2', 'sun', 'temp', 'wind', 'hour', 'weekday',\n",
              "       'Offshore_dk1', 'Offshore_dk2'],\n",
              "      dtype='object')"
            ]
          },
          "metadata": {
            "tags": []
          },
          "execution_count": 60
        }
      ]
    },
    {
      "cell_type": "code",
      "metadata": {
        "id": "uUQg7DeLwYS3",
        "colab_type": "code",
        "colab": {}
      },
      "source": [
        "#data = data.drop(['NetCon_dk2', 'NetCon_dk1'], axis=1)"
      ],
      "execution_count": 0,
      "outputs": []
    },
    {
      "cell_type": "code",
      "metadata": {
        "id": "0DqdW1OHWiRm",
        "colab_type": "code",
        "colab": {}
      },
      "source": [
        "target = pd.DataFrame()\n",
        "target['1_h'] = data['dk2'].shift(-1)"
      ],
      "execution_count": 0,
      "outputs": []
    },
    {
      "cell_type": "code",
      "metadata": {
        "id": "LmTliBiIWqci",
        "colab_type": "code",
        "colab": {}
      },
      "source": [
        "features = data.iloc[:-1, :]\n",
        "target = target[:-1]\n"
      ],
      "execution_count": 0,
      "outputs": []
    },
    {
      "cell_type": "code",
      "metadata": {
        "id": "XcSHMoanW4Tt",
        "colab_type": "code",
        "outputId": "96d216aa-b873-4332-e2c7-4bd6ec481d45",
        "colab": {
          "base_uri": "https://localhost:8080/",
          "height": 51
        }
      },
      "source": [
        "imp_mean = SimpleImputer(missing_values=np.nan, strategy='most_frequent')\n",
        "imp_mean.fit(target)\n"
      ],
      "execution_count": 0,
      "outputs": [
        {
          "output_type": "execute_result",
          "data": {
            "text/plain": [
              "SimpleImputer(add_indicator=False, copy=True, fill_value=None,\n",
              "              missing_values=nan, strategy='most_frequent', verbose=0)"
            ]
          },
          "metadata": {
            "tags": []
          },
          "execution_count": 8
        }
      ]
    },
    {
      "cell_type": "code",
      "metadata": {
        "id": "8Frm6FQ7Xv5Y",
        "colab_type": "code",
        "colab": {}
      },
      "source": [
        "target_imp = imp_mean.transform(target)"
      ],
      "execution_count": 0,
      "outputs": []
    },
    {
      "cell_type": "code",
      "metadata": {
        "id": "k6Sm7tr1X2IZ",
        "colab_type": "code",
        "outputId": "5cb09b59-f8cf-4ea5-acb2-b7034071ec82",
        "colab": {
          "base_uri": "https://localhost:8080/",
          "height": 34
        }
      },
      "source": [
        "print('low_price_cutoff:', np.percentile(target_imp, 5), 'high_price_cutoff:', np.percentile(target_imp, 95))"
      ],
      "execution_count": 0,
      "outputs": [
        {
          "output_type": "stream",
          "text": [
            "low_price_cutoff: 97.44 high_price_cutoff: 444.3925\n"
          ],
          "name": "stdout"
        }
      ]
    },
    {
      "cell_type": "code",
      "metadata": {
        "id": "4ws61sDNYHAh",
        "colab_type": "code",
        "colab": {}
      },
      "source": [
        "def convert_to_bin(x):\n",
        "  if x < 97.44:\n",
        "    return -1\n",
        "  elif x > 444.39:\n",
        "    return 0\n",
        "  else:\n",
        "    return 1\n",
        "  "
      ],
      "execution_count": 0,
      "outputs": []
    },
    {
      "cell_type": "code",
      "metadata": {
        "id": "oYMkCEJrYfiB",
        "colab_type": "code",
        "colab": {}
      },
      "source": [
        "target = pd.DataFrame(target_imp, index=target.index, columns=target.columns)"
      ],
      "execution_count": 0,
      "outputs": []
    },
    {
      "cell_type": "code",
      "metadata": {
        "id": "3NIcHWSeYTJO",
        "colab_type": "code",
        "colab": {}
      },
      "source": [
        "target['1_h'] = target['1_h'].apply(lambda x: convert_to_bin(x))"
      ],
      "execution_count": 0,
      "outputs": []
    },
    {
      "cell_type": "code",
      "metadata": {
        "id": "ITE6B32xZBgr",
        "colab_type": "code",
        "outputId": "c094407e-c13e-4627-94ac-8310145deb22",
        "colab": {
          "base_uri": "https://localhost:8080/",
          "height": 51
        }
      },
      "source": [
        "imp_mean2 = SimpleImputer(missing_values=np.nan, strategy='most_frequent')\n",
        "imp_mean2.fit(features)"
      ],
      "execution_count": 0,
      "outputs": [
        {
          "output_type": "execute_result",
          "data": {
            "text/plain": [
              "SimpleImputer(add_indicator=False, copy=True, fill_value=None,\n",
              "              missing_values=nan, strategy='most_frequent', verbose=0)"
            ]
          },
          "metadata": {
            "tags": []
          },
          "execution_count": 14
        }
      ]
    },
    {
      "cell_type": "code",
      "metadata": {
        "id": "uedJouqIZIZD",
        "colab_type": "code",
        "colab": {}
      },
      "source": [
        "features = imp_mean2.transform(features)"
      ],
      "execution_count": 0,
      "outputs": []
    },
    {
      "cell_type": "code",
      "metadata": {
        "id": "LlHDviktY0_X",
        "colab_type": "code",
        "colab": {}
      },
      "source": [
        "X_train, X_test, y_train, y_test = train_test_split(features, target)"
      ],
      "execution_count": 0,
      "outputs": []
    },
    {
      "cell_type": "code",
      "metadata": {
        "id": "pmzkA_fBhLt3",
        "colab_type": "code",
        "outputId": "66942129-e6aa-486e-cba7-0befb46d09d3",
        "colab": {
          "base_uri": "https://localhost:8080/",
          "height": 51
        }
      },
      "source": [
        "X_smote, y_smote = SMOTE().fit_sample(features, target)"
      ],
      "execution_count": 0,
      "outputs": [
        {
          "output_type": "stream",
          "text": [
            "/usr/local/lib/python3.6/dist-packages/sklearn/utils/validation.py:724: DataConversionWarning: A column-vector y was passed when a 1d array was expected. Please change the shape of y to (n_samples, ), for example using ravel().\n",
            "  y = column_or_1d(y, warn=True)\n"
          ],
          "name": "stderr"
        }
      ]
    },
    {
      "cell_type": "code",
      "metadata": {
        "id": "gBA-yJiqhQMj",
        "colab_type": "code",
        "colab": {}
      },
      "source": [
        ""
      ],
      "execution_count": 0,
      "outputs": []
    },
    {
      "cell_type": "code",
      "metadata": {
        "id": "WVWK12yWZMib",
        "colab_type": "code",
        "outputId": "f7234b14-0170-488f-91c9-03e6131dc02f",
        "colab": {
          "base_uri": "https://localhost:8080/",
          "height": 85
        }
      },
      "source": [
        "smote_pipeline = make_pipeline_imb(SMOTE(), RandomForestClassifier())\n",
        "smote_model = smote_pipeline.fit(X_train, y_train)\n",
        "smote_prediction = smote_model.predict(X_test)"
      ],
      "execution_count": 0,
      "outputs": [
        {
          "output_type": "stream",
          "text": [
            "/usr/local/lib/python3.6/dist-packages/sklearn/utils/validation.py:724: DataConversionWarning: A column-vector y was passed when a 1d array was expected. Please change the shape of y to (n_samples, ), for example using ravel().\n",
            "  y = column_or_1d(y, warn=True)\n",
            "/usr/local/lib/python3.6/dist-packages/sklearn/ensemble/forest.py:245: FutureWarning: The default value of n_estimators will change from 10 in version 0.20 to 100 in 0.22.\n",
            "  \"10 in version 0.20 to 100 in 0.22.\", FutureWarning)\n"
          ],
          "name": "stderr"
        }
      ]
    },
    {
      "cell_type": "code",
      "metadata": {
        "id": "vZAv4SZScOAg",
        "colab_type": "code",
        "colab": {}
      },
      "source": [
        "def print_results(headline, true_value, pred):\n",
        "  print(headline)\n",
        "  print(f\"accuracy: {accuracy_score(true_value, pred)}\")\n",
        "  #print(f\"precision: {precision_score(true_value, pred)}\")\n",
        "  #print(f\"recall: {recall_score(true_value, pred)}\")\n",
        "  #print(f\"f1: {f1_score(true_value, pred)}\")"
      ],
      "execution_count": 0,
      "outputs": []
    },
    {
      "cell_type": "code",
      "metadata": {
        "id": "kO2RoDExgZzm",
        "colab_type": "code",
        "outputId": "d1a53b12-b2dc-4fdc-c368-b24a34cbb2b9",
        "colab": {
          "base_uri": "https://localhost:8080/",
          "height": 153
        }
      },
      "source": [
        "print(classification_report_imbalanced(y_test, smote_prediction))"
      ],
      "execution_count": 0,
      "outputs": [
        {
          "output_type": "stream",
          "text": [
            "                   pre       rec       spe        f1       geo       iba       sup\n",
            "\n",
            "         -1       0.72      0.92      0.98      0.81      0.95      0.90       844\n",
            "          0       0.67      0.88      0.98      0.76      0.93      0.85       860\n",
            "          1       0.99      0.96      0.90      0.97      0.93      0.86     15315\n",
            "\n",
            "avg / total       0.96      0.95      0.91      0.95      0.93      0.86     17019\n",
            "\n"
          ],
          "name": "stdout"
        }
      ]
    },
    {
      "cell_type": "code",
      "metadata": {
        "id": "OOnuzWjEbaWc",
        "colab_type": "code",
        "outputId": "4b3d4abe-a62a-4a95-d41d-41f96cff2955",
        "colab": {
          "base_uri": "https://localhost:8080/",
          "height": 68
        }
      },
      "source": [
        "print(f\"SMOTE score {smote_pipeline.score(X_test, y_test)}\")\n",
        "print_results(\"SMOTE CLASSIFICATION\", y_test, smote_prediction)"
      ],
      "execution_count": 0,
      "outputs": [
        {
          "output_type": "stream",
          "text": [
            "SMOTE score 0.9499970621070568\n",
            "SMOTE CLASSIFICATION\n",
            "accuracy: 0.9499970621070568\n"
          ],
          "name": "stdout"
        }
      ]
    },
    {
      "cell_type": "code",
      "metadata": {
        "id": "FShXgPvdeqqD",
        "colab_type": "code",
        "outputId": "59b1f656-c923-4ebb-d809-d56f8711b70a",
        "colab": {
          "base_uri": "https://localhost:8080/",
          "height": 68
        }
      },
      "source": [
        "confusion_matrix(y_test, smote_prediction)"
      ],
      "execution_count": 0,
      "outputs": [
        {
          "output_type": "execute_result",
          "data": {
            "text/plain": [
              "array([[  777,     0,    67],\n",
              "       [    0,   755,   105],\n",
              "       [  304,   375, 14636]])"
            ]
          },
          "metadata": {
            "tags": []
          },
          "execution_count": 22
        }
      ]
    },
    {
      "cell_type": "code",
      "metadata": {
        "id": "ik7qE15Ydfxk",
        "colab_type": "code",
        "colab": {}
      },
      "source": [
        ""
      ],
      "execution_count": 0,
      "outputs": []
    },
    {
      "cell_type": "code",
      "metadata": {
        "id": "Vi0cWmWlgubp",
        "colab_type": "code",
        "outputId": "9b35ccf8-8aae-4376-96f7-9adcf1e6bfa8",
        "colab": {
          "base_uri": "https://localhost:8080/",
          "height": 34
        }
      },
      "source": [
        "print(Counter(y_smote))"
      ],
      "execution_count": 0,
      "outputs": [
        {
          "output_type": "stream",
          "text": [
            "Counter({1: 61268, 0: 61268, -1: 61268})\n"
          ],
          "name": "stdout"
        }
      ]
    },
    {
      "cell_type": "code",
      "metadata": {
        "id": "aL7enbQYhTRZ",
        "colab_type": "code",
        "outputId": "71edb19e-54df-4f9f-fc58-97327fe11b57",
        "colab": {
          "base_uri": "https://localhost:8080/",
          "height": 170
        }
      },
      "source": [
        "smote_model2 = RandomForestClassifier()\n",
        "x_smote_train, x_smote_test, y_smote_train, y_smote_test = train_test_split(X_smote, y_smote)\n",
        "smote_model2.fit(x_smote_train, y_smote_train)"
      ],
      "execution_count": 0,
      "outputs": [
        {
          "output_type": "stream",
          "text": [
            "/usr/local/lib/python3.6/dist-packages/sklearn/ensemble/forest.py:245: FutureWarning: The default value of n_estimators will change from 10 in version 0.20 to 100 in 0.22.\n",
            "  \"10 in version 0.20 to 100 in 0.22.\", FutureWarning)\n"
          ],
          "name": "stderr"
        },
        {
          "output_type": "execute_result",
          "data": {
            "text/plain": [
              "RandomForestClassifier(bootstrap=True, class_weight=None, criterion='gini',\n",
              "                       max_depth=None, max_features='auto', max_leaf_nodes=None,\n",
              "                       min_impurity_decrease=0.0, min_impurity_split=None,\n",
              "                       min_samples_leaf=1, min_samples_split=2,\n",
              "                       min_weight_fraction_leaf=0.0, n_estimators=10,\n",
              "                       n_jobs=None, oob_score=False, random_state=None,\n",
              "                       verbose=0, warm_start=False)"
            ]
          },
          "metadata": {
            "tags": []
          },
          "execution_count": 24
        }
      ]
    },
    {
      "cell_type": "code",
      "metadata": {
        "id": "Tyr9X9iXh5_p",
        "colab_type": "code",
        "outputId": "7cd648dc-22b1-4290-a16f-dc5a5134df03",
        "colab": {
          "base_uri": "https://localhost:8080/",
          "height": 68
        }
      },
      "source": [
        "y_pred = smote_model2.predict(x_smote_test)\n",
        "confusion_matrix(y_smote_test, y_pred)"
      ],
      "execution_count": 0,
      "outputs": [
        {
          "output_type": "execute_result",
          "data": {
            "text/plain": [
              "array([[15205,     0,    51],\n",
              "       [    0, 15231,    66],\n",
              "       [  311,   429, 14658]])"
            ]
          },
          "metadata": {
            "tags": []
          },
          "execution_count": 25
        }
      ]
    },
    {
      "cell_type": "code",
      "metadata": {
        "id": "tXVIjh3kBdLd",
        "colab_type": "code",
        "colab": {}
      },
      "source": [
        "real_pred = smote_model2.predict(X_test)"
      ],
      "execution_count": 0,
      "outputs": []
    },
    {
      "cell_type": "code",
      "metadata": {
        "id": "fUteC6kkBk1G",
        "colab_type": "code",
        "outputId": "f6c614eb-18a0-4393-8f63-90afa8a95d7a",
        "colab": {
          "base_uri": "https://localhost:8080/",
          "height": 68
        }
      },
      "source": [
        "confusion_matrix(real_pred, y_test)"
      ],
      "execution_count": 0,
      "outputs": [
        {
          "output_type": "execute_result",
          "data": {
            "text/plain": [
              "array([[  841,     0,   117],\n",
              "       [    0,   857,   129],\n",
              "       [    3,     3, 15069]])"
            ]
          },
          "metadata": {
            "tags": []
          },
          "execution_count": 27
        }
      ]
    },
    {
      "cell_type": "code",
      "metadata": {
        "id": "07cpJU-JB1py",
        "colab_type": "code",
        "outputId": "70cc62dd-4b23-43c9-ae4d-087d4f4a74ce",
        "colab": {
          "base_uri": "https://localhost:8080/",
          "height": 68
        }
      },
      "source": [
        "print(f\"Precision, low prices {882/(882+97)}\")\n",
        "print(f\"Precision, high prices {859/(859+149)}\")\n",
        "print(f\"Precision, normal prices {15028/(15028+4)}\")\n",
        "      "
      ],
      "execution_count": 0,
      "outputs": [
        {
          "output_type": "stream",
          "text": [
            "Precision, low prices 0.9009193054136875\n",
            "Precision, high prices 0.8521825396825397\n",
            "Precision, normal prices 0.9997339010111762\n"
          ],
          "name": "stdout"
        }
      ]
    },
    {
      "cell_type": "markdown",
      "metadata": {
        "id": "kbQj4cSpCxzM",
        "colab_type": "text"
      },
      "source": [
        "+24 hours"
      ]
    },
    {
      "cell_type": "code",
      "metadata": {
        "id": "t027CepCC0IO",
        "colab_type": "code",
        "colab": {}
      },
      "source": [
        "target = pd.DataFrame()\n",
        "target['24_h'] = data['dk2'].shift(-24)"
      ],
      "execution_count": 0,
      "outputs": []
    },
    {
      "cell_type": "code",
      "metadata": {
        "id": "dlbCldY_DTFR",
        "colab_type": "code",
        "colab": {}
      },
      "source": [
        "features = data.iloc[:-24, :]\n",
        "target = target[:-24]"
      ],
      "execution_count": 0,
      "outputs": []
    },
    {
      "cell_type": "code",
      "metadata": {
        "id": "cbH_5QeXDVzH",
        "colab_type": "code",
        "outputId": "355413b4-814b-4db4-f9c2-778517ee1a01",
        "colab": {
          "base_uri": "https://localhost:8080/",
          "height": 51
        }
      },
      "source": [
        "imp_mean = SimpleImputer(missing_values=np.nan, strategy='most_frequent')\n",
        "imp_mean.fit(target)"
      ],
      "execution_count": 0,
      "outputs": [
        {
          "output_type": "execute_result",
          "data": {
            "text/plain": [
              "SimpleImputer(add_indicator=False, copy=True, fill_value=None,\n",
              "              missing_values=nan, strategy='most_frequent', verbose=0)"
            ]
          },
          "metadata": {
            "tags": []
          },
          "execution_count": 31
        }
      ]
    },
    {
      "cell_type": "code",
      "metadata": {
        "id": "_mthtyYxDc7w",
        "colab_type": "code",
        "colab": {}
      },
      "source": [
        "target_imp = imp_mean.transform(target)"
      ],
      "execution_count": 0,
      "outputs": []
    },
    {
      "cell_type": "code",
      "metadata": {
        "id": "_62piYH1DmCJ",
        "colab_type": "code",
        "colab": {}
      },
      "source": [
        "target = pd.DataFrame(target_imp, index=target.index, columns=target.columns)"
      ],
      "execution_count": 0,
      "outputs": []
    },
    {
      "cell_type": "code",
      "metadata": {
        "id": "vs-qpe4MDojy",
        "colab_type": "code",
        "colab": {}
      },
      "source": [
        "target['24_h'] = target['24_h'].apply(lambda x: convert_to_bin(x))"
      ],
      "execution_count": 0,
      "outputs": []
    },
    {
      "cell_type": "code",
      "metadata": {
        "id": "E57Q94S0DqMQ",
        "colab_type": "code",
        "colab": {}
      },
      "source": [
        "imp_mean2 = SimpleImputer(missing_values=np.nan, strategy='most_frequent')\n",
        "imp_mean2.fit(features)\n",
        "features = imp_mean2.transform(features)"
      ],
      "execution_count": 0,
      "outputs": []
    },
    {
      "cell_type": "code",
      "metadata": {
        "id": "J98BKOP-Du2o",
        "colab_type": "code",
        "colab": {}
      },
      "source": [
        "X_train, X_test, y_train, y_test = train_test_split(features, target)"
      ],
      "execution_count": 0,
      "outputs": []
    },
    {
      "cell_type": "code",
      "metadata": {
        "id": "kxS6PWBGDxJp",
        "colab_type": "code",
        "outputId": "2a926f1a-273f-4325-ae8d-6196b212e4af",
        "colab": {
          "base_uri": "https://localhost:8080/",
          "height": 51
        }
      },
      "source": [
        "X_smote, y_smote = SMOTE().fit_sample(features, target)"
      ],
      "execution_count": 0,
      "outputs": [
        {
          "output_type": "stream",
          "text": [
            "/usr/local/lib/python3.6/dist-packages/sklearn/utils/validation.py:724: DataConversionWarning: A column-vector y was passed when a 1d array was expected. Please change the shape of y to (n_samples, ), for example using ravel().\n",
            "  y = column_or_1d(y, warn=True)\n"
          ],
          "name": "stderr"
        }
      ]
    },
    {
      "cell_type": "code",
      "metadata": {
        "id": "moIAW5FiD2uT",
        "colab_type": "code",
        "outputId": "b7bf4b3e-8a70-43d1-fd03-9dcebc99866e",
        "colab": {
          "base_uri": "https://localhost:8080/",
          "height": 170
        }
      },
      "source": [
        "smote_model3 = RandomForestClassifier()\n",
        "x_smote_train, x_smote_test, y_smote_train, y_smote_test = train_test_split(X_smote, y_smote)\n",
        "smote_model3.fit(x_smote_train, y_smote_train)"
      ],
      "execution_count": 0,
      "outputs": [
        {
          "output_type": "stream",
          "text": [
            "/usr/local/lib/python3.6/dist-packages/sklearn/ensemble/forest.py:245: FutureWarning: The default value of n_estimators will change from 10 in version 0.20 to 100 in 0.22.\n",
            "  \"10 in version 0.20 to 100 in 0.22.\", FutureWarning)\n"
          ],
          "name": "stderr"
        },
        {
          "output_type": "execute_result",
          "data": {
            "text/plain": [
              "RandomForestClassifier(bootstrap=True, class_weight=None, criterion='gini',\n",
              "                       max_depth=None, max_features='auto', max_leaf_nodes=None,\n",
              "                       min_impurity_decrease=0.0, min_impurity_split=None,\n",
              "                       min_samples_leaf=1, min_samples_split=2,\n",
              "                       min_weight_fraction_leaf=0.0, n_estimators=10,\n",
              "                       n_jobs=None, oob_score=False, random_state=None,\n",
              "                       verbose=0, warm_start=False)"
            ]
          },
          "metadata": {
            "tags": []
          },
          "execution_count": 38
        }
      ]
    },
    {
      "cell_type": "code",
      "metadata": {
        "id": "Y5_96sajEGNS",
        "colab_type": "code",
        "outputId": "85db5c2d-f99e-4987-eebb-daf6a8cf7fe9",
        "colab": {
          "base_uri": "https://localhost:8080/",
          "height": 68
        }
      },
      "source": [
        "y_pred = smote_model3.predict(x_smote_test)\n",
        "confusion_matrix(y_smote_test, y_pred)"
      ],
      "execution_count": 0,
      "outputs": [
        {
          "output_type": "execute_result",
          "data": {
            "text/plain": [
              "array([[15187,     3,   113],\n",
              "       [    5, 15043,   138],\n",
              "       [  483,   597, 14365]])"
            ]
          },
          "metadata": {
            "tags": []
          },
          "execution_count": 39
        }
      ]
    },
    {
      "cell_type": "code",
      "metadata": {
        "id": "q5u5QK6CEKlC",
        "colab_type": "code",
        "colab": {}
      },
      "source": [
        "real_pred = smote_model3.predict(X_test)"
      ],
      "execution_count": 0,
      "outputs": []
    },
    {
      "cell_type": "code",
      "metadata": {
        "id": "BYgHukU_ENJk",
        "colab_type": "code",
        "outputId": "a721fc2c-bb70-44c5-be2f-61e3aedc654b",
        "colab": {
          "base_uri": "https://localhost:8080/",
          "height": 68
        }
      },
      "source": [
        "confusion_matrix(real_pred, y_test)"
      ],
      "execution_count": 0,
      "outputs": [
        {
          "output_type": "execute_result",
          "data": {
            "text/plain": [
              "array([[  874,     0,   144],\n",
              "       [    0,   828,   190],\n",
              "       [   11,     6, 14961]])"
            ]
          },
          "metadata": {
            "tags": []
          },
          "execution_count": 41
        }
      ]
    },
    {
      "cell_type": "code",
      "metadata": {
        "id": "8E6rA7KsERM_",
        "colab_type": "code",
        "outputId": "27e806e2-041f-4b63-9508-e0751cdae135",
        "colab": {
          "base_uri": "https://localhost:8080/",
          "height": 68
        }
      },
      "source": [
        "print(f\"Precision, low prices {811/(811+141)}\")\n",
        "print(f\"Precision, high prices {809/(809+167)}\")\n",
        "print(f\"Precision, normal prices {15079/(15079+6+9)}\")"
      ],
      "execution_count": 0,
      "outputs": [
        {
          "output_type": "stream",
          "text": [
            "Precision, low prices 0.851890756302521\n",
            "Precision, high prices 0.8288934426229508\n",
            "Precision, normal prices 0.9990062276401219\n"
          ],
          "name": "stdout"
        }
      ]
    },
    {
      "cell_type": "markdown",
      "metadata": {
        "id": "r_DJ21osEtny",
        "colab_type": "text"
      },
      "source": [
        "+48 Hours"
      ]
    },
    {
      "cell_type": "code",
      "metadata": {
        "id": "mkKyabjnEvV9",
        "colab_type": "code",
        "colab": {}
      },
      "source": [
        "target = pd.DataFrame()\n",
        "target['48_h'] = data['dk2'].shift(-48)"
      ],
      "execution_count": 0,
      "outputs": []
    },
    {
      "cell_type": "code",
      "metadata": {
        "id": "3Zg0fHTnEzC9",
        "colab_type": "code",
        "colab": {}
      },
      "source": [
        "features = data.iloc[:-48, :]\n",
        "target = target[:-48]"
      ],
      "execution_count": 0,
      "outputs": []
    },
    {
      "cell_type": "code",
      "metadata": {
        "id": "vcI68UmRE36m",
        "colab_type": "code",
        "outputId": "44e345cd-d3e1-4a84-b859-2ed757f882df",
        "colab": {
          "base_uri": "https://localhost:8080/",
          "height": 51
        }
      },
      "source": [
        "imp_mean = SimpleImputer(missing_values=np.nan, strategy='most_frequent')\n",
        "imp_mean.fit(target)"
      ],
      "execution_count": 0,
      "outputs": [
        {
          "output_type": "execute_result",
          "data": {
            "text/plain": [
              "SimpleImputer(add_indicator=False, copy=True, fill_value=None,\n",
              "              missing_values=nan, strategy='most_frequent', verbose=0)"
            ]
          },
          "metadata": {
            "tags": []
          },
          "execution_count": 45
        }
      ]
    },
    {
      "cell_type": "code",
      "metadata": {
        "id": "Po-QVrBoE7_o",
        "colab_type": "code",
        "colab": {}
      },
      "source": [
        "target_imp = imp_mean.transform(target)"
      ],
      "execution_count": 0,
      "outputs": []
    },
    {
      "cell_type": "code",
      "metadata": {
        "id": "wX2DnNfsE-Qz",
        "colab_type": "code",
        "colab": {}
      },
      "source": [
        "target = pd.DataFrame(target_imp, index=target.index, columns=target.columns)"
      ],
      "execution_count": 0,
      "outputs": []
    },
    {
      "cell_type": "code",
      "metadata": {
        "id": "9SeK4XVJFB2f",
        "colab_type": "code",
        "colab": {}
      },
      "source": [
        "target['48_h'] = target['48_h'].apply(lambda x: convert_to_bin(x))"
      ],
      "execution_count": 0,
      "outputs": []
    },
    {
      "cell_type": "code",
      "metadata": {
        "id": "vp6c6Kr4FEqt",
        "colab_type": "code",
        "colab": {}
      },
      "source": [
        "imp_mean2 = SimpleImputer(missing_values=np.nan, strategy='most_frequent')\n",
        "imp_mean2.fit(features)\n",
        "features = imp_mean2.transform(features)"
      ],
      "execution_count": 0,
      "outputs": []
    },
    {
      "cell_type": "code",
      "metadata": {
        "id": "19ZeA3ebFGyt",
        "colab_type": "code",
        "colab": {}
      },
      "source": [
        ""
      ],
      "execution_count": 0,
      "outputs": []
    },
    {
      "cell_type": "code",
      "metadata": {
        "id": "jQyIOblaFJHa",
        "colab_type": "code",
        "outputId": "7df98a81-5d73-42f3-b06f-884a8b61418a",
        "colab": {
          "base_uri": "https://localhost:8080/",
          "height": 51
        }
      },
      "source": [
        "X_smote, y_smote = SMOTE().fit_sample(features, target)"
      ],
      "execution_count": 0,
      "outputs": [
        {
          "output_type": "stream",
          "text": [
            "/usr/local/lib/python3.6/dist-packages/sklearn/utils/validation.py:724: DataConversionWarning: A column-vector y was passed when a 1d array was expected. Please change the shape of y to (n_samples, ), for example using ravel().\n",
            "  y = column_or_1d(y, warn=True)\n"
          ],
          "name": "stderr"
        }
      ]
    },
    {
      "cell_type": "code",
      "metadata": {
        "id": "M01PJwa-b79t",
        "colab_type": "code",
        "colab": {}
      },
      "source": [
        "X_smote_train, X_smote_test, y_smote_train, y_smote_test = train_test_split(X_smote, y_smote)\n",
        "X_train, X_test, y_train, y_test = train_test_split(features, target)"
      ],
      "execution_count": 0,
      "outputs": []
    },
    {
      "cell_type": "code",
      "metadata": {
        "id": "5SDn0XAhFKy7",
        "colab_type": "code",
        "outputId": "f6ae6100-58d8-405f-985c-6faeef4033c1",
        "colab": {
          "base_uri": "https://localhost:8080/",
          "height": 170
        }
      },
      "source": [
        "smote_model4 = RandomForestClassifier()\n",
        "x_smote_train, x_smote_test, y_smote_train, y_smote_test = train_test_split(X_smote, y_smote)\n",
        "smote_model4.fit(x_smote_train, y_smote_train)"
      ],
      "execution_count": 0,
      "outputs": [
        {
          "output_type": "stream",
          "text": [
            "/usr/local/lib/python3.6/dist-packages/sklearn/ensemble/forest.py:245: FutureWarning: The default value of n_estimators will change from 10 in version 0.20 to 100 in 0.22.\n",
            "  \"10 in version 0.20 to 100 in 0.22.\", FutureWarning)\n"
          ],
          "name": "stderr"
        },
        {
          "output_type": "execute_result",
          "data": {
            "text/plain": [
              "RandomForestClassifier(bootstrap=True, class_weight=None, criterion='gini',\n",
              "                       max_depth=None, max_features='auto', max_leaf_nodes=None,\n",
              "                       min_impurity_decrease=0.0, min_impurity_split=None,\n",
              "                       min_samples_leaf=1, min_samples_split=2,\n",
              "                       min_weight_fraction_leaf=0.0, n_estimators=10,\n",
              "                       n_jobs=None, oob_score=False, random_state=None,\n",
              "                       verbose=0, warm_start=False)"
            ]
          },
          "metadata": {
            "tags": []
          },
          "execution_count": 52
        }
      ]
    },
    {
      "cell_type": "code",
      "metadata": {
        "id": "pKSXmOYTFOJa",
        "colab_type": "code",
        "outputId": "1a09c966-7160-41ee-cd09-5e40d610b94e",
        "colab": {
          "base_uri": "https://localhost:8080/",
          "height": 68
        }
      },
      "source": [
        "y_pred = smote_model3.predict(x_smote_test)\n",
        "confusion_matrix(y_smote_test, y_pred)"
      ],
      "execution_count": 0,
      "outputs": [
        {
          "output_type": "execute_result",
          "data": {
            "text/plain": [
              "array([[10041,    74,  5208],\n",
              "       [   61, 10189,  5009],\n",
              "       [  514,   539, 14286]])"
            ]
          },
          "metadata": {
            "tags": []
          },
          "execution_count": 53
        }
      ]
    },
    {
      "cell_type": "code",
      "metadata": {
        "id": "2EOygoeWFxtI",
        "colab_type": "code",
        "colab": {}
      },
      "source": [
        "real_pred = smote_model4.predict(X_test)"
      ],
      "execution_count": 0,
      "outputs": []
    },
    {
      "cell_type": "code",
      "metadata": {
        "id": "Ol8yL5u-F0zZ",
        "colab_type": "code",
        "outputId": "c01d3a72-9b93-4809-f3ae-f530c693690c",
        "colab": {
          "base_uri": "https://localhost:8080/",
          "height": 68
        }
      },
      "source": [
        "confusion_matrix(real_pred, y_test)"
      ],
      "execution_count": 0,
      "outputs": [
        {
          "output_type": "execute_result",
          "data": {
            "text/plain": [
              "array([[  850,     0,   111],\n",
              "       [    0,   822,   157],\n",
              "       [   11,     5, 15052]])"
            ]
          },
          "metadata": {
            "tags": []
          },
          "execution_count": 55
        }
      ]
    },
    {
      "cell_type": "code",
      "metadata": {
        "id": "Dc7JeNxAF6NR",
        "colab_type": "code",
        "outputId": "753e53ae-5bbf-4bda-f33a-0c503750a93d",
        "colab": {
          "base_uri": "https://localhost:8080/",
          "height": 68
        }
      },
      "source": [
        "print(f\"Precision, low prices {794/(794+116)}\")\n",
        "print(f\"Precision, high prices {799/(799+179)}\")\n",
        "print(f\"Precision, normal prices {15101/(15101+6+13)}\")"
      ],
      "execution_count": 0,
      "outputs": [
        {
          "output_type": "stream",
          "text": [
            "Precision, low prices 0.8725274725274725\n",
            "Precision, high prices 0.8169734151329243\n",
            "Precision, normal prices 0.9987433862433862\n"
          ],
          "name": "stdout"
        }
      ]
    },
    {
      "cell_type": "code",
      "metadata": {
        "id": "RD1K7Plh6GK8",
        "colab_type": "code",
        "colab": {}
      },
      "source": [
        "import pickle \n",
        "filehandler = open('/content/gdrive/My Drive/thesis/rf+1.pickle', 'wb') \n",
        "pickle.dump(smote_model2, filehandler)\n",
        "\n",
        "filehandler = open('/content/gdrive/My Drive/thesis/rf+24.pickle', 'wb') \n",
        "pickle.dump(smote_model3, filehandler)\n",
        "\n",
        "filehandler = open('/content/gdrive/My Drive/thesis/rf+48.pickle', 'wb') \n",
        "pickle.dump(smote_model4, filehandler)"
      ],
      "execution_count": 0,
      "outputs": []
    },
    {
      "cell_type": "code",
      "metadata": {
        "id": "Ya45OJaKyBuf",
        "colab_type": "code",
        "colab": {}
      },
      "source": [
        "\n",
        "filehandler = open('/content/gdrive/My Drive/thesis/rf+48.pickle', 'wb') \n",
        "pickle.dump(smote_model4, filehandler)"
      ],
      "execution_count": 0,
      "outputs": []
    }
  ]
}