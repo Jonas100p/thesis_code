{
  "nbformat": 4,
  "nbformat_minor": 0,
  "metadata": {
    "colab": {
      "name": "100percentiles.ipynb",
      "provenance": []
    },
    "kernelspec": {
      "name": "python3",
      "display_name": "Python 3"
    },
    "accelerator": "GPU"
  },
  "cells": [
    {
      "cell_type": "code",
      "metadata": {
        "id": "SS5m3HGiRYI6",
        "colab_type": "code",
        "outputId": "94fff8cc-ad2c-472d-fa25-3dd115dfc19a",
        "colab": {
          "base_uri": "https://localhost:8080/",
          "height": 122
        }
      },
      "source": [
        "from google.colab import drive\n",
        "drive.mount('/content/gdrive')"
      ],
      "execution_count": 0,
      "outputs": [
        {
          "output_type": "stream",
          "text": [
            "Go to this URL in a browser: https://accounts.google.com/o/oauth2/auth?client_id=947318989803-6bn6qk8qdgf4n4g3pfee6491hc0brc4i.apps.googleusercontent.com&redirect_uri=urn%3aietf%3awg%3aoauth%3a2.0%3aoob&response_type=code&scope=email%20https%3a%2f%2fwww.googleapis.com%2fauth%2fdocs.test%20https%3a%2f%2fwww.googleapis.com%2fauth%2fdrive%20https%3a%2f%2fwww.googleapis.com%2fauth%2fdrive.photos.readonly%20https%3a%2f%2fwww.googleapis.com%2fauth%2fpeopleapi.readonly\n",
            "\n",
            "Enter your authorization code:\n",
            "··········\n",
            "Mounted at /content/gdrive\n"
          ],
          "name": "stdout"
        }
      ]
    },
    {
      "cell_type": "code",
      "metadata": {
        "id": "R7PwahVkrpmx",
        "colab_type": "code",
        "colab": {}
      },
      "source": [
        ""
      ],
      "execution_count": 0,
      "outputs": []
    },
    {
      "cell_type": "code",
      "metadata": {
        "id": "y9PwS6DbRs_l",
        "colab_type": "code",
        "outputId": "79645257-240a-42dd-b528-ba396aed851b",
        "colab": {
          "base_uri": "https://localhost:8080/",
          "height": 63
        }
      },
      "source": [
        "from tensorflow.keras.layers import LSTM, GRU, Dense\n",
        "from tensorflow.keras.models import Sequential\n",
        "from tensorflow.keras.callbacks import ReduceLROnPlateau, ModelCheckpoint, EarlyStopping, TensorBoard\n",
        "from tensorflow.keras.optimizers import RMSprop\n",
        "from sklearn.impute import SimpleImputer\n",
        "import numpy as np\n",
        "import pandas as pd\n",
        "from sklearn.preprocessing import MinMaxScaler, OneHotEncoder\n",
        "from matplotlib import pyplot as plt\n",
        "import tensorflow as tf\n",
        "import os\n",
        "import random"
      ],
      "execution_count": 0,
      "outputs": [
        {
          "output_type": "display_data",
          "data": {
            "text/html": [
              "<p style=\"color: red;\">\n",
              "The default version of TensorFlow in Colab will soon switch to TensorFlow 2.x.<br>\n",
              "We recommend you <a href=\"https://www.tensorflow.org/guide/migrate\" target=\"_blank\">upgrade</a> now \n",
              "or ensure your notebook will continue to use TensorFlow 1.x via the <code>%tensorflow_version 1.x</code> magic:\n",
              "<a href=\"https://colab.research.google.com/notebooks/tensorflow_version.ipynb\" target=\"_blank\">more info</a>.</p>\n"
            ],
            "text/plain": [
              "<IPython.core.display.HTML object>"
            ]
          },
          "metadata": {
            "tags": []
          }
        }
      ]
    },
    {
      "cell_type": "code",
      "metadata": {
        "id": "iUycRBYfRvCy",
        "colab_type": "code",
        "colab": {}
      },
      "source": [
        "os.chdir('/content/gdrive/My Drive/thesis')"
      ],
      "execution_count": 0,
      "outputs": []
    },
    {
      "cell_type": "code",
      "metadata": {
        "id": "qwsS4Ea5hzxz",
        "colab_type": "code",
        "colab": {}
      },
      "source": [
        "data = pd.read_pickle('master_dataset_24112019.pkl')\n",
        "target = data['dk2'].shift(-1)[0: -1]\n",
        "features = data.iloc[0: -1, :]\n",
        "target_fitter = np.array(target).reshape(-1, 1)"
      ],
      "execution_count": 0,
      "outputs": []
    },
    {
      "cell_type": "code",
      "metadata": {
        "id": "Vgt66_OxRwnM",
        "colab_type": "code",
        "colab": {}
      },
      "source": [
        "data = pd.read_pickle('master_dataset_15102019.pkl')\n",
        "target = data['dk2'].shift(-1)[0: -1]\n",
        "features = data.iloc[0: -1, :]\n",
        "target_fitter = np.array(target).reshape(-1, 1)"
      ],
      "execution_count": 0,
      "outputs": []
    },
    {
      "cell_type": "code",
      "metadata": {
        "id": "qLRAoVHMR071",
        "colab_type": "code",
        "colab": {}
      },
      "source": [
        "imp_mean2 = SimpleImputer(missing_values=np.nan, strategy='most_frequent')\n"
      ],
      "execution_count": 0,
      "outputs": []
    },
    {
      "cell_type": "code",
      "metadata": {
        "id": "4-4pciIJR102",
        "colab_type": "code",
        "outputId": "c7d7cbfa-c520-48c4-98eb-f49758c66536",
        "colab": {
          "base_uri": "https://localhost:8080/",
          "height": 51
        }
      },
      "source": [
        "imp_mean2.fit(target_fitter)"
      ],
      "execution_count": 0,
      "outputs": [
        {
          "output_type": "execute_result",
          "data": {
            "text/plain": [
              "SimpleImputer(add_indicator=False, copy=True, fill_value=None,\n",
              "              missing_values=nan, strategy='most_frequent', verbose=0)"
            ]
          },
          "metadata": {
            "tags": []
          },
          "execution_count": 7
        }
      ]
    },
    {
      "cell_type": "code",
      "metadata": {
        "id": "WkVAN3iER3uH",
        "colab_type": "code",
        "colab": {}
      },
      "source": [
        "imp_target = imp_mean2.transform(target_fitter)"
      ],
      "execution_count": 0,
      "outputs": []
    },
    {
      "cell_type": "code",
      "metadata": {
        "id": "HnWh3CU2R5lr",
        "colab_type": "code",
        "colab": {}
      },
      "source": [
        "qs = [-100]\n",
        "for i in range(1, 101):\n",
        "  q = i\n",
        "  qs.append(np.percentile(imp_target, q))"
      ],
      "execution_count": 0,
      "outputs": []
    },
    {
      "cell_type": "code",
      "metadata": {
        "id": "24xqU4fsSGPc",
        "colab_type": "code",
        "colab": {}
      },
      "source": [
        "new_feature = features['dk2'].copy()"
      ],
      "execution_count": 0,
      "outputs": []
    },
    {
      "cell_type": "code",
      "metadata": {
        "id": "DrktA0eHSJZq",
        "colab_type": "code",
        "colab": {}
      },
      "source": [
        "new_feature = pd.DataFrame(new_feature, index=target.index)\n",
        "new_feature.columns = ['price']"
      ],
      "execution_count": 0,
      "outputs": []
    },
    {
      "cell_type": "code",
      "metadata": {
        "id": "kEYLJ6uxSLck",
        "colab_type": "code",
        "colab": {}
      },
      "source": [
        "def is_in_range(x, lower, upper, val):\n",
        "  if lower < x <= upper:\n",
        "    return val\n",
        "  else:\n",
        "    return 0"
      ],
      "execution_count": 0,
      "outputs": []
    },
    {
      "cell_type": "code",
      "metadata": {
        "id": "T8hkSOe5SNJT",
        "colab_type": "code",
        "outputId": "527fe468-7f48-43bd-b81e-6fa586de93c9",
        "colab": {
          "base_uri": "https://localhost:8080/",
          "height": 1000
        }
      },
      "source": [
        "def is_in_range(x, lower, upper, val):\n",
        "  if lower < x <= upper:\n",
        "    return val\n",
        "  else:\n",
        "    return 0\n",
        "\n",
        "  \n",
        "ss = dict()\n",
        "for i, (lower, upper) in enumerate(zip(qs[:-1], qs[1:])):\n",
        "  print(lower, upper)\n",
        "  s = new_feature['price'].apply(lambda row: is_in_range(row, lower, upper, i))\n",
        "  ss[i] = s"
      ],
      "execution_count": 0,
      "outputs": [
        {
          "output_type": "stream",
          "text": [
            "-100 23.595\n",
            "23.595 57.21\n",
            "57.21 72.66\n",
            "72.66 84.81\n",
            "84.81 97.44\n",
            "97.44 111.725\n",
            "111.725 122.9775\n",
            "122.9775 133.72\n",
            "133.72 141.81\n",
            "141.81 148.195\n",
            "148.195 152.64\n",
            "152.64 157.26\n",
            "157.26 161.6\n",
            "161.6 165.305\n",
            "165.305 169.24499999999998\n",
            "169.24499999999998 173.27\n",
            "173.27 176.8\n",
            "176.8 179.73\n",
            "179.73 182.85\n",
            "182.85 185.63\n",
            "185.63 187.82\n",
            "187.82 190.755\n",
            "190.755 193.66\n",
            "193.66 196.24\n",
            "196.24 199.2875\n",
            "199.2875 201.73\n",
            "201.73 204.74\n",
            "204.74 207.47\n",
            "207.47 209.55\n",
            "209.55 211.885\n",
            "211.885 214.15\n",
            "214.15 216.05\n",
            "216.05 217.8775\n",
            "217.8775 219.75\n",
            "219.75 221.56\n",
            "221.56 223.24\n",
            "223.24 224.69\n",
            "224.69 226.475\n",
            "226.475 228.4\n",
            "228.4 230.05\n",
            "230.05 231.5875\n",
            "231.5875 233.55\n",
            "233.55 235.35\n",
            "235.35 237.29\n",
            "237.29 238.85\n",
            "238.85 240.6\n",
            "240.6 242.6025\n",
            "242.6025 244.66\n",
            "244.66 246.27\n",
            "246.27 248.42\n",
            "248.42 250.74\n",
            "250.74 253.02\n",
            "253.02 255.20749999999998\n",
            "255.20749999999998 257.93\n",
            "257.93 260.4125\n",
            "260.4125 262.38\n",
            "262.38 265.1375\n",
            "265.1375 267.765\n",
            "267.765 269.9725\n",
            "269.9725 272.81\n",
            "272.81 275.4575\n",
            "275.4575 277.85\n",
            "277.85 280.66\n",
            "280.66 283.18\n",
            "283.18 285.72\n",
            "285.72 288.68\n",
            "288.68 291.0825\n",
            "291.0825 294.09\n",
            "294.09 297.16\n",
            "297.16 299.53499999999997\n",
            "299.53499999999997 302.8125\n",
            "302.8125 305.84\n",
            "305.84 309.21750000000003\n",
            "309.21750000000003 312.61\n",
            "312.61 315.91\n",
            "315.91 319.93\n",
            "319.93 323.76\n",
            "323.76 327.56\n",
            "327.56 331.265\n",
            "331.265 335.3\n",
            "335.3 339.65\n",
            "339.65 344.155\n",
            "344.155 349.6525\n",
            "349.6525 354.98\n",
            "354.98 359.48\n",
            "359.48 365.56\n",
            "365.56 371.68\n",
            "371.68 377.03\n",
            "377.03 384.145\n",
            "384.145 391.445\n",
            "391.445 398.07\n",
            "398.07 407.23\n",
            "407.23 416.63\n",
            "416.63 429.04499999999996\n",
            "429.04499999999996 444.3925\n",
            "444.3925 461.76\n",
            "461.76 485.4\n",
            "485.4 517.99\n",
            "517.99 573.2325000000001\n",
            "573.2325000000001 1898.9\n"
          ],
          "name": "stdout"
        }
      ]
    },
    {
      "cell_type": "code",
      "metadata": {
        "id": "7W3BK_UR2AN0",
        "colab_type": "code",
        "colab": {}
      },
      "source": [
        ""
      ],
      "execution_count": 0,
      "outputs": []
    },
    {
      "cell_type": "code",
      "metadata": {
        "id": "F8FwYxNKSTo-",
        "colab_type": "code",
        "colab": {}
      },
      "source": [
        "_df = pd.DataFrame(ss)"
      ],
      "execution_count": 0,
      "outputs": []
    },
    {
      "cell_type": "code",
      "metadata": {
        "id": "edX_1nONSbHv",
        "colab_type": "code",
        "outputId": "3acb547c-6803-487e-f891-8eb937d7fb98",
        "colab": {
          "base_uri": "https://localhost:8080/",
          "height": 119
        }
      },
      "source": [
        "features['price_bin'] = _df.sum(axis=1)"
      ],
      "execution_count": 0,
      "outputs": [
        {
          "output_type": "stream",
          "text": [
            "/usr/local/lib/python3.6/dist-packages/ipykernel_launcher.py:1: SettingWithCopyWarning: \n",
            "A value is trying to be set on a copy of a slice from a DataFrame.\n",
            "Try using .loc[row_indexer,col_indexer] = value instead\n",
            "\n",
            "See the caveats in the documentation: http://pandas.pydata.org/pandas-docs/stable/user_guide/indexing.html#returning-a-view-versus-a-copy\n",
            "  \"\"\"Entry point for launching an IPython kernel.\n"
          ],
          "name": "stderr"
        }
      ]
    },
    {
      "cell_type": "code",
      "metadata": {
        "id": "30nr528JSdUO",
        "colab_type": "code",
        "outputId": "89b3caad-85fb-46a5-a4da-17513036803b",
        "colab": {
          "base_uri": "https://localhost:8080/",
          "height": 561
        }
      },
      "source": [
        "for feature in features.columns:\n",
        "  print(feature)"
      ],
      "execution_count": 0,
      "outputs": [
        {
          "output_type": "stream",
          "text": [
            "de\n",
            "dk1\n",
            "dk2\n",
            "no2\n",
            "se3\n",
            "se4\n",
            "system\n",
            "CentralProd_dk1\n",
            "ElectricBoilerCon_dk1\n",
            "ExchangeContinent_dk1\n",
            "ExchangeGreatBelt_dk1\n",
            "ExchangeNordicCountries_dk1\n",
            "GrossCon_dk1\n",
            "LocalPowerProd_dk1\n",
            "NetCon_dk1\n",
            "OnshoreWindPower_dk1\n",
            "SolarPowerProd_dk1\n",
            "CentralProd_dk2\n",
            "ElectricBoilerCon_dk2\n",
            "ExchangeContinent_dk2\n",
            "ExchangeNordicCountries_dk2\n",
            "GrossCon_dk2\n",
            "LocalPowerProd_dk2\n",
            "NetCon_dk2\n",
            "OnshoreWindPower_dk2\n",
            "SolarPowerProd_dk2\n",
            "sun\n",
            "temp\n",
            "wind\n",
            "hour\n",
            "weekday\n",
            "price_bin\n"
          ],
          "name": "stdout"
        }
      ]
    },
    {
      "cell_type": "code",
      "metadata": {
        "id": "JVERu68_ShBz",
        "colab_type": "code",
        "colab": {}
      },
      "source": [
        "#features.to_pickle('master_dataset_15112019.pkl')"
      ],
      "execution_count": 0,
      "outputs": []
    },
    {
      "cell_type": "code",
      "metadata": {
        "id": "PqqcnJTCSk-U",
        "colab_type": "code",
        "colab": {}
      },
      "source": [
        "imp_mean1 = SimpleImputer(missing_values=np.nan, strategy='mean')\n",
        "imp_mean1.fit(features)\n",
        "imp_features = imp_mean1.transform(features)"
      ],
      "execution_count": 0,
      "outputs": []
    },
    {
      "cell_type": "code",
      "metadata": {
        "id": "v02dCoHVSm_Q",
        "colab_type": "code",
        "colab": {}
      },
      "source": [
        "train_split = 0.9\n",
        "num_train = int(train_split * len(features))\n",
        "num_test = len(features) - num_train"
      ],
      "execution_count": 0,
      "outputs": []
    },
    {
      "cell_type": "code",
      "metadata": {
        "id": "GGbOp9D0Sos9",
        "colab_type": "code",
        "colab": {}
      },
      "source": [
        "x_train = features.iloc[0:num_train , :]\n",
        "x_test = features.iloc[num_train+1: , :]\n",
        "\n",
        "try:\n",
        "  y_train = target.iloc[0:num_train , :]\n",
        "  y_test = target.iloc[num_train+1: , :]\n",
        "except:\n",
        "  y_train = target_fitter[0:num_train]\n",
        "  y_test = target_fitter[num_train+1:]"
      ],
      "execution_count": 0,
      "outputs": []
    },
    {
      "cell_type": "code",
      "metadata": {
        "id": "uVvi34leSqxr",
        "colab_type": "code",
        "colab": {}
      },
      "source": [
        "x_train = imp_mean1.transform(x_train)\n",
        "x_test = imp_mean1.transform(x_test)\n",
        "\n",
        "y_train = imp_mean2.transform(y_train)\n",
        "y_test = imp_mean2.transform(y_test)"
      ],
      "execution_count": 0,
      "outputs": []
    },
    {
      "cell_type": "code",
      "metadata": {
        "id": "DH3lbZu1Ssuo",
        "colab_type": "code",
        "colab": {}
      },
      "source": [
        "x_scaler = MinMaxScaler()\n",
        "x_train_scaled = x_scaler.fit_transform(x_train)"
      ],
      "execution_count": 0,
      "outputs": []
    },
    {
      "cell_type": "code",
      "metadata": {
        "id": "ZdP3XWi3Su4L",
        "colab_type": "code",
        "colab": {}
      },
      "source": [
        "x_test_scaled = x_scaler.transform(x_test)"
      ],
      "execution_count": 0,
      "outputs": []
    },
    {
      "cell_type": "code",
      "metadata": {
        "id": "skQ7NO6lSwjD",
        "colab_type": "code",
        "colab": {}
      },
      "source": [
        "y_scaler = MinMaxScaler()\n",
        "y_train_scaled = y_scaler.fit_transform(y_train)\n",
        "y_test_scaled = y_scaler.transform(y_test)"
      ],
      "execution_count": 0,
      "outputs": []
    },
    {
      "cell_type": "code",
      "metadata": {
        "id": "jzwFX8LQSyDs",
        "colab_type": "code",
        "colab": {}
      },
      "source": [
        "def batch_generator(batch_size, sequence_length):\n",
        "    \"\"\"\n",
        "    Generator function for creating random batches of training data\n",
        "    \"\"\"\n",
        "    \n",
        "    num_x_signals = features.shape[1]\n",
        "    num_y_signals = 1\n",
        "    \n",
        "    # infinite loop\n",
        "    while True:\n",
        "        # Allocate a new array for the batch of input signals\n",
        "        x_shape = (batch_size, sequence_length, num_x_signals)\n",
        "        x_batch = np.zeros(shape=x_shape, dtype=np.float16)\n",
        "        \n",
        "        # Allocate a new array for the batch of output signals \n",
        "        y_shape = (batch_size, sequence_length, num_y_signals)\n",
        "        y_batch = np.zeros(shape=y_shape, dtype=np.float16)\n",
        "        \n",
        "        # Fill the batch with random sequences of data\n",
        "        for i in range(batch_size):\n",
        "            # Get a random start_index\n",
        "            # This points somewhere in the training data\n",
        "            idx = np.random.randint(num_train - sequence_length)\n",
        "            \n",
        "            # Copy the sequence of data starting from this index\n",
        "            x_batch[i] = x_train_scaled[idx:idx+sequence_length]\n",
        "            y_batch[i] = y_train_scaled[idx:idx+sequence_length]\n",
        "            \n",
        "        yield (x_batch, y_batch)"
      ],
      "execution_count": 0,
      "outputs": []
    },
    {
      "cell_type": "code",
      "metadata": {
        "id": "OXjwqCdCS0dX",
        "colab_type": "code",
        "colab": {}
      },
      "source": [
        "batch_size = 256\n",
        "sequence_length = 24 * 7 * 8"
      ],
      "execution_count": 0,
      "outputs": []
    },
    {
      "cell_type": "code",
      "metadata": {
        "id": "H46nktBsS3wo",
        "colab_type": "code",
        "colab": {}
      },
      "source": [
        "generator = batch_generator(batch_size=batch_size, sequence_length=sequence_length)"
      ],
      "execution_count": 0,
      "outputs": []
    },
    {
      "cell_type": "code",
      "metadata": {
        "id": "Zv4jPM0xS4ju",
        "colab_type": "code",
        "colab": {}
      },
      "source": [
        "x_batch, y_batch = next(generator)"
      ],
      "execution_count": 0,
      "outputs": []
    },
    {
      "cell_type": "code",
      "metadata": {
        "id": "pzzzPgXvS6Q_",
        "colab_type": "code",
        "outputId": "35064a2e-4a8c-4f2f-db4b-30192e4c3060",
        "colab": {
          "base_uri": "https://localhost:8080/",
          "height": 34
        }
      },
      "source": [
        "x_batch.shape ,y_batch.shape"
      ],
      "execution_count": 0,
      "outputs": [
        {
          "output_type": "execute_result",
          "data": {
            "text/plain": [
              "((256, 1344, 32), (256, 1344, 1))"
            ]
          },
          "metadata": {
            "tags": []
          },
          "execution_count": 29
        }
      ]
    },
    {
      "cell_type": "code",
      "metadata": {
        "id": "iGs93Eh-S8ED",
        "colab_type": "code",
        "outputId": "bbb6b679-dd89-4b84-80b2-8ce213cfc9a9",
        "colab": {
          "base_uri": "https://localhost:8080/",
          "height": 282
        }
      },
      "source": [
        "batch = 0 \n",
        "signal = 0\n",
        "seq = x_batch[batch , : , signal]\n",
        "plt.plot(seq)"
      ],
      "execution_count": 0,
      "outputs": [
        {
          "output_type": "execute_result",
          "data": {
            "text/plain": [
              "[<matplotlib.lines.Line2D at 0x7f32607ca4e0>]"
            ]
          },
          "metadata": {
            "tags": []
          },
          "execution_count": 30
        },
        {
          "output_type": "display_data",
          "data": {
            "image/png": "[encoded data removed]",
            "text/plain": [
              "<Figure size 432x288 with 1 Axes>"
            ]
          },
          "metadata": {
            "tags": []
          }
        }
      ]
    },
    {
      "cell_type": "code",
      "metadata": {
        "id": "unqWHqiZS-CY",
        "colab_type": "code",
        "colab": {}
      },
      "source": [
        "validation_data = (np.expand_dims(x_test_scaled, axis=0),\n",
        "                   np.expand_dims(y_test_scaled, axis=0))"
      ],
      "execution_count": 0,
      "outputs": []
    },
    {
      "cell_type": "code",
      "metadata": {
        "id": "H4kgL5W6S_75",
        "colab_type": "code",
        "colab": {}
      },
      "source": [
        "MODEL_NAME = 'regression_clipped_extremes_pyramid_16112019'"
      ],
      "execution_count": 0,
      "outputs": []
    },
    {
      "cell_type": "code",
      "metadata": {
        "id": "4TVMPwU1TERT",
        "colab_type": "code",
        "outputId": "1291c9dd-1237-48ba-a921-e6651d52c717",
        "colab": {
          "base_uri": "https://localhost:8080/",
          "height": 68
        }
      },
      "source": [
        "model = Sequential()\n",
        "model.add(LSTM(units=100,\n",
        "               input_shape=(None, x_train.shape[1],),\n",
        "               return_sequences=True,\n",
        "               dropout=0.2,\n",
        "               recurrent_dropout=0.5))\n",
        "model.add(LSTM(units=30,\n",
        "               return_sequences=True,\n",
        "               dropout=0.2,\n",
        "               recurrent_dropout=0.5))\n",
        "model.add(LSTM(units=20,\n",
        "               return_sequences=True,\n",
        "               dropout=0.2,\n",
        "               recurrent_dropout=0.5))\n",
        "\n",
        "model.add(Dense(y_train.shape[1], activation='relu'))"
      ],
      "execution_count": 0,
      "outputs": [
        {
          "output_type": "stream",
          "text": [
            "WARNING:tensorflow:From /usr/local/lib/python3.6/dist-packages/tensorflow_core/python/ops/resource_variable_ops.py:1630: calling BaseResourceVariable.__init__ (from tensorflow.python.ops.resource_variable_ops) with constraint is deprecated and will be removed in a future version.\n",
            "Instructions for updating:\n",
            "If using Keras pass *_constraint arguments to layers.\n"
          ],
          "name": "stdout"
        }
      ]
    },
    {
      "cell_type": "code",
      "metadata": {
        "id": "4JlDKDooTGw1",
        "colab_type": "code",
        "colab": {}
      },
      "source": [
        "  warmup_steps = 30"
      ],
      "execution_count": 0,
      "outputs": []
    },
    {
      "cell_type": "code",
      "metadata": {
        "id": "hrRK5dQBTIf4",
        "colab_type": "code",
        "colab": {}
      },
      "source": [
        "def loss_mse_warmup(y_true, y_pred):\n",
        "    \"\"\"\n",
        "    Calculate the mean squared error between y_true and y_pred but ignores the warmup-period of the sequence,\n",
        "    as there is not yet enough data to make serious predictions.\n",
        "    \"\"\"\n",
        "    \n",
        "    # The shape of both input tensors are \n",
        "    # (batch_size, sequence_length, num_y_signals)\n",
        "    \n",
        "    # Ignore the warm-up period by taking slices of the tensors\n",
        "    y_true_slice = y_true[: , warmup_steps: , :]\n",
        "    y_pred_slice = y_pred[: , warmup_steps: , :]\n",
        "    \n",
        "    # The sliced tensors have the shape (batch_size, sequence_length - warmup_length, num_y_signals)\n",
        "    \n",
        "    # Calculate the MSE loss for each value pair\n",
        "    #loss = tf.losses.mean_squared_error(y_true_slice, y_pred_slice)\n",
        "    #loss = tf.losses.softmax_cross_entropy(y_true_slice, y_pred_slice)\n",
        "    loss = tf.keras.losses.MSLE(y_true_slice, y_pred_slice)\n",
        "    loss_mean = tf.reduce_mean(loss)\n",
        "    \n",
        "    return loss_mean"
      ],
      "execution_count": 0,
      "outputs": []
    },
    {
      "cell_type": "code",
      "metadata": {
        "id": "_x9WuEHoTKMp",
        "colab_type": "code",
        "colab": {}
      },
      "source": [
        "optimizer = RMSprop(lr=1e-3)"
      ],
      "execution_count": 0,
      "outputs": []
    },
    {
      "cell_type": "code",
      "metadata": {
        "id": "NSlMp7s6TNNw",
        "colab_type": "code",
        "colab": {}
      },
      "source": [
        "model.compile(loss=loss_mse_warmup, optimizer=optimizer)"
      ],
      "execution_count": 0,
      "outputs": []
    },
    {
      "cell_type": "code",
      "metadata": {
        "id": "O_i-Fvy4TOCP",
        "colab_type": "code",
        "colab": {}
      },
      "source": [
        "path_checkpoint = f'/content/gdrive/My Drive/thesis/{MODEL_NAME}.keras'\n",
        "callback_checkpoint = ModelCheckpoint(filepath=path_checkpoint,\n",
        "                                      monitor='val_loss',\n",
        "                                      verbose=1,\n",
        "                                      save_weights_only=True,\n",
        "                                      save_best_only=True)\n",
        "\n",
        "callback_reduce_lr = ReduceLROnPlateau(monitor='val_loss',\n",
        "                                       factor=0.1,\n",
        "                                       min_lr=1e-4,\n",
        "                                       patience=2,\n",
        "                                       verbose=1)\n",
        "\n",
        "callback_early_stopping = EarlyStopping(monitor='val_loss',\n",
        "                                        patience=5,\n",
        "                                        verbose=1)\n",
        "\n",
        "callback_tensorboard = TensorBoard(log_dir=f'/content/gdrive/My Drive/thesis/',\n",
        "                                   histogram_freq=0,\n",
        "                                   write_graph=False)\n"
      ],
      "execution_count": 0,
      "outputs": []
    },
    {
      "cell_type": "code",
      "metadata": {
        "id": "fkXsMeNDTQbM",
        "colab_type": "code",
        "outputId": "0bf1d3b4-cc85-4efc-ff12-c5d7dc443832",
        "colab": {
          "base_uri": "https://localhost:8080/",
          "height": 102
        }
      },
      "source": [
        "model.fit_generator(generator=generator,\n",
        "                    epochs=60,\n",
        "                    steps_per_epoch=50,\n",
        "                    validation_data=validation_data,\n",
        "                    callbacks=[callback_checkpoint, callback_reduce_lr, callback_early_stopping, callback_tensorboard])"
      ],
      "execution_count": 0,
      "outputs": [
        {
          "output_type": "stream",
          "text": [
            "Epoch 1/60\n",
            "WARNING:tensorflow:From /usr/local/lib/python3.6/dist-packages/tensorflow_core/python/ops/math_grad.py:1424: where (from tensorflow.python.ops.array_ops) is deprecated and will be removed in a future version.\n",
            "Instructions for updating:\n",
            "Use tf.where in 2.0, which has the same broadcast rule as np.where\n",
            "25/50 [==============>...............] - ETA: 3:35 - loss: 0.0121"
          ],
          "name": "stdout"
        }
      ]
    }
  ]
}