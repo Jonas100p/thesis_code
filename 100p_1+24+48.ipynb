{
  "nbformat": 4,
  "nbformat_minor": 0,
  "metadata": {
    "colab": {
      "name": "100p_1+24+48.ipynb",
      "provenance": []
    },
    "kernelspec": {
      "name": "python3",
      "display_name": "Python 3"
    }
  },
  "cells": [
    {
      "cell_type": "code",
      "metadata": {
        "id": "YyEpa35hBlPo",
        "colab_type": "code",
        "outputId": "bfe1aac8-a9f1-445e-e2b3-80d138332387",
        "colab": {
          "base_uri": "https://localhost:8080/",
          "height": 122
        }
      },
      "source": [
        "from google.colab import drive\n",
        "drive.mount('/content/gdrive')"
      ],
      "execution_count": 0,
      "outputs": [
        {
          "output_type": "stream",
          "text": [
            "Go to this URL in a browser: https://accounts.google.com/o/oauth2/auth?client_id=947318989803-6bn6qk8qdgf4n4g3pfee6491hc0brc4i.apps.googleusercontent.com&redirect_uri=urn%3aietf%3awg%3aoauth%3a2.0%3aoob&response_type=code&scope=email%20https%3a%2f%2fwww.googleapis.com%2fauth%2fdocs.test%20https%3a%2f%2fwww.googleapis.com%2fauth%2fdrive%20https%3a%2f%2fwww.googleapis.com%2fauth%2fdrive.photos.readonly%20https%3a%2f%2fwww.googleapis.com%2fauth%2fpeopleapi.readonly\n",
            "\n",
            "Enter your authorization code:\n",
            "··········\n",
            "Mounted at /content/gdrive\n"
          ],
          "name": "stdout"
        }
      ]
    },
    {
      "cell_type": "code",
      "metadata": {
        "id": "raseyubtBruI",
        "colab_type": "code",
        "outputId": "98730a89-e2fa-4843-ba11-b666eae3ba58",
        "colab": {
          "base_uri": "https://localhost:8080/",
          "height": 63
        }
      },
      "source": [
        "from tensorflow.keras.layers import LSTM, GRU, Dense\n",
        "from tensorflow.keras.models import Sequential\n",
        "from tensorflow.keras.callbacks import ReduceLROnPlateau, ModelCheckpoint, EarlyStopping, TensorBoard\n",
        "from tensorflow.keras.optimizers import RMSprop\n",
        "from sklearn.impute import SimpleImputer\n",
        "import numpy as np\n",
        "import pandas as pd\n",
        "from sklearn.preprocessing import MinMaxScaler, OneHotEncoder\n",
        "from matplotlib import pyplot as plt\n",
        "import tensorflow as tf\n",
        "import os\n",
        "import random"
      ],
      "execution_count": 0,
      "outputs": [
        {
          "output_type": "display_data",
          "data": {
            "text/html": [
              "<p style=\"color: red;\">\n",
              "The default version of TensorFlow in Colab will soon switch to TensorFlow 2.x.<br>\n",
              "We recommend you <a href=\"https://www.tensorflow.org/guide/migrate\" target=\"_blank\">upgrade</a> now \n",
              "or ensure your notebook will continue to use TensorFlow 1.x via the <code>%tensorflow_version 1.x</code> magic:\n",
              "<a href=\"https://colab.research.google.com/notebooks/tensorflow_version.ipynb\" target=\"_blank\">more info</a>.</p>\n"
            ],
            "text/plain": [
              "<IPython.core.display.HTML object>"
            ]
          },
          "metadata": {
            "tags": []
          }
        }
      ]
    },
    {
      "cell_type": "code",
      "metadata": {
        "id": "vcoPbyGQBtTR",
        "colab_type": "code",
        "colab": {}
      },
      "source": [
        "os.chdir('/content/gdrive/My Drive/thesis')"
      ],
      "execution_count": 0,
      "outputs": []
    },
    {
      "cell_type": "code",
      "metadata": {
        "id": "ce72R9yZBu8O",
        "colab_type": "code",
        "colab": {}
      },
      "source": [
        "data = pd.read_pickle('master_dataset_24112019.pkl')\n",
        "data = data.dropna(how='any', axis=0)"
      ],
      "execution_count": 0,
      "outputs": []
    },
    {
      "cell_type": "code",
      "metadata": {
        "id": "DgW4E1fpBwqX",
        "colab_type": "code",
        "colab": {}
      },
      "source": [
        "rf1 = pd.read_pickle('rf+1.pickle')\n",
        "rf2 = pd.read_pickle('rf+24.pickle')\n",
        "rf3 = pd.read_pickle('rf+48.pickle')"
      ],
      "execution_count": 0,
      "outputs": []
    },
    {
      "cell_type": "code",
      "metadata": {
        "id": "tZm9PFGcB0i_",
        "colab_type": "code",
        "colab": {}
      },
      "source": [
        "r1 = rf1.predict(data)\n",
        "r2 = rf2.predict(data)\n",
        "r3 = rf3.predict(data)"
      ],
      "execution_count": 0,
      "outputs": []
    },
    {
      "cell_type": "code",
      "metadata": {
        "id": "d_XxrByMB36A",
        "colab_type": "code",
        "colab": {}
      },
      "source": [
        "r1_df = pd.DataFrame(r1, index=data.index, columns=['pred_+1'])\n",
        "r2_df = pd.DataFrame(r2, index=data.index, columns=['pred_+24'])\n",
        "r3_df = pd.DataFrame(r3, index=data.index, columns=['pred_+48'])"
      ],
      "execution_count": 0,
      "outputs": []
    },
    {
      "cell_type": "code",
      "metadata": {
        "id": "Nno4m_QQB8Iy",
        "colab_type": "code",
        "colab": {}
      },
      "source": [
        "data = pd.concat([data, r1_df, r2_df, r3_df], axis=1)"
      ],
      "execution_count": 0,
      "outputs": []
    },
    {
      "cell_type": "code",
      "metadata": {
        "id": "8ZiVDOF4B_BF",
        "colab_type": "code",
        "colab": {}
      },
      "source": [
        "target = pd.DataFrame()\n",
        "target['1_h'] = data['dk2'].shift(-1)\n",
        "target['24_h'] = data['dk2'].shift(-24)\n",
        "target['48_h'] = data['dk2'].shift(-48)\n",
        "features = data.iloc[0: -48, :]"
      ],
      "execution_count": 0,
      "outputs": []
    },
    {
      "cell_type": "code",
      "metadata": {
        "id": "qPmVy8SMCFTY",
        "colab_type": "code",
        "colab": {}
      },
      "source": [
        "target = target[:-48]"
      ],
      "execution_count": 0,
      "outputs": []
    },
    {
      "cell_type": "code",
      "metadata": {
        "id": "zsStJ5EMu3Av",
        "colab_type": "code",
        "colab": {}
      },
      "source": [
        "target.to_pickle('/content/gdrive/My Drive/thesis/target_prices.pkl')"
      ],
      "execution_count": 0,
      "outputs": []
    },
    {
      "cell_type": "code",
      "metadata": {
        "id": "yp_41Pa6CHtm",
        "colab_type": "code",
        "colab": {}
      },
      "source": [
        "target_fitter = target"
      ],
      "execution_count": 0,
      "outputs": []
    },
    {
      "cell_type": "code",
      "metadata": {
        "id": "goYYZfW8CJZy",
        "colab_type": "code",
        "colab": {}
      },
      "source": [
        "qs = [-100]\n",
        "for i in range(1, 101):\n",
        "  q = i\n",
        "  qs.append(np.percentile(target_fitter, q))"
      ],
      "execution_count": 0,
      "outputs": []
    },
    {
      "cell_type": "code",
      "metadata": {
        "id": "knUqnvIsCLQd",
        "colab_type": "code",
        "colab": {}
      },
      "source": [
        "new_feature = features['dk2'].copy()"
      ],
      "execution_count": 0,
      "outputs": []
    },
    {
      "cell_type": "code",
      "metadata": {
        "id": "F-zIT5FrCMwn",
        "colab_type": "code",
        "colab": {}
      },
      "source": [
        "new_feature = pd.DataFrame(new_feature, index=target.index)\n",
        "new_feature.columns = ['price']"
      ],
      "execution_count": 0,
      "outputs": []
    },
    {
      "cell_type": "code",
      "metadata": {
        "id": "CcKoA_gvCOfn",
        "colab_type": "code",
        "colab": {}
      },
      "source": [
        "def is_in_range(x, lower, upper, val):\n",
        "  if lower < x <= upper:\n",
        "    return val\n",
        "  else:\n",
        "    return 0"
      ],
      "execution_count": 0,
      "outputs": []
    },
    {
      "cell_type": "code",
      "metadata": {
        "id": "wfIfUI4WCP9v",
        "colab_type": "code",
        "colab": {}
      },
      "source": [
        "def is_in_range(x, lower, upper, val):\n",
        "  if lower < x <= upper:\n",
        "    return val\n",
        "  else:\n",
        "    return 0"
      ],
      "execution_count": 0,
      "outputs": []
    },
    {
      "cell_type": "code",
      "metadata": {
        "id": "nwjZMVRRCRgI",
        "colab_type": "code",
        "outputId": "0f3919c3-3fe9-4822-bcd9-d02350b2b188",
        "colab": {
          "base_uri": "https://localhost:8080/",
          "height": 1000
        }
      },
      "source": [
        "ss = dict()\n",
        "for i, (lower, upper) in enumerate(zip(qs[:-1], qs[1:])):\n",
        "  print(lower, upper)\n",
        "  s = new_feature['price'].apply(lambda row: is_in_range(row, lower, upper, i))\n",
        "  ss[i] = s"
      ],
      "execution_count": 0,
      "outputs": [
        {
          "output_type": "stream",
          "text": [
            "-100 24.4\n",
            "24.4 57.44\n",
            "57.44 72.75\n",
            "72.75 84.92\n",
            "84.92 97.465\n",
            "97.465 111.78\n",
            "111.78 123.12\n",
            "123.12 133.76\n",
            "133.76 141.87\n",
            "141.87 148.24\n",
            "148.24 152.66\n",
            "152.66 157.31\n",
            "157.31 161.61\n",
            "161.61 165.32\n",
            "165.32 169.32\n",
            "169.32 173.29\n",
            "173.29 176.82\n",
            "176.82 179.73\n",
            "179.73 182.85\n",
            "182.85 185.63\n",
            "185.63 187.81\n",
            "187.81 190.74\n",
            "190.74 193.66\n",
            "193.66 196.24\n",
            "196.24 199.27\n",
            "199.27 201.72\n",
            "201.72 204.71\n",
            "204.71 207.45\n",
            "207.45 209.51499999999993\n",
            "209.51499999999993 211.86\n",
            "211.86 214.12\n",
            "214.12 216.02\n",
            "216.02 217.83\n",
            "217.83 219.71\n",
            "219.71 221.52\n",
            "221.52 223.2\n",
            "223.2 224.66\n",
            "224.66 226.42\n",
            "226.42 228.36\n",
            "228.36 230.02\n",
            "230.02 231.52\n",
            "231.52 233.48\n",
            "233.48 235.26\n",
            "235.26 237.2\n",
            "237.2 238.77\n",
            "238.77 240.52\n",
            "240.52 242.53\n",
            "242.53 244.58\n",
            "244.58 246.21\n",
            "246.21 248.3\n",
            "248.3 250.65\n",
            "250.65 252.93\n",
            "252.93 255.10500000000002\n",
            "255.10500000000002 257.82\n",
            "257.82 260.34\n",
            "260.34 262.31\n",
            "262.31 265.0399999999997\n",
            "265.0399999999997 267.71\n",
            "267.71 269.89\n",
            "269.89 272.74\n",
            "272.74 275.42\n",
            "275.42 277.77\n",
            "277.77 280.615\n",
            "280.615 283.14\n",
            "283.14 285.7\n",
            "285.7 288.67\n",
            "288.67 291.07\n",
            "291.07 294.08\n",
            "294.08 297.16\n",
            "297.16 299.56\n",
            "299.56 302.82\n",
            "302.82 305.86\n",
            "305.86 309.25\n",
            "309.25 312.63\n",
            "312.63 315.94\n",
            "315.94 319.94\n",
            "319.94 323.77\n",
            "323.77 327.58\n",
            "327.58 331.35\n",
            "331.35 335.33\n",
            "335.33 339.72\n",
            "339.72 344.23\n",
            "344.23 349.75\n",
            "349.75 355.07\n",
            "355.07 359.59\n",
            "359.59 365.64\n",
            "365.64 371.73\n",
            "371.73 377.08\n",
            "377.08 384.21\n",
            "384.21 391.54\n",
            "391.54 398.19\n",
            "398.19 407.38\n",
            "407.38 416.76\n",
            "416.76 429.2\n",
            "429.2 444.55\n",
            "444.55 461.81\n",
            "461.81 485.6\n",
            "485.6 518.14\n",
            "518.14 573.415\n",
            "573.415 1898.9\n"
          ],
          "name": "stdout"
        }
      ]
    },
    {
      "cell_type": "code",
      "metadata": {
        "id": "_NTxDtddCTJi",
        "colab_type": "code",
        "colab": {}
      },
      "source": [
        "_df = pd.DataFrame(ss)"
      ],
      "execution_count": 0,
      "outputs": []
    },
    {
      "cell_type": "code",
      "metadata": {
        "id": "8NI_LR2iCVFI",
        "colab_type": "code",
        "outputId": "600da0ff-2dbf-46b3-e845-e98c0698e5e4",
        "colab": {
          "base_uri": "https://localhost:8080/",
          "height": 119
        }
      },
      "source": [
        "features['price_bin'] = _df.sum(axis=1)"
      ],
      "execution_count": 0,
      "outputs": [
        {
          "output_type": "stream",
          "text": [
            "/usr/local/lib/python3.6/dist-packages/ipykernel_launcher.py:1: SettingWithCopyWarning: \n",
            "A value is trying to be set on a copy of a slice from a DataFrame.\n",
            "Try using .loc[row_indexer,col_indexer] = value instead\n",
            "\n",
            "See the caveats in the documentation: http://pandas.pydata.org/pandas-docs/stable/user_guide/indexing.html#returning-a-view-versus-a-copy\n",
            "  \"\"\"Entry point for launching an IPython kernel.\n"
          ],
          "name": "stderr"
        }
      ]
    },
    {
      "cell_type": "code",
      "metadata": {
        "id": "-YwUSzIFhuBL",
        "colab_type": "code",
        "colab": {}
      },
      "source": [
        "#features.to_pickle('')"
      ],
      "execution_count": 0,
      "outputs": []
    },
    {
      "cell_type": "code",
      "metadata": {
        "id": "LdXY0ldyCXPg",
        "colab_type": "code",
        "colab": {}
      },
      "source": [
        "imp_mean1 = SimpleImputer(missing_values=np.nan, strategy='mean')\n",
        "imp_mean1.fit(features)\n",
        "imp_features = imp_mean1.transform(features)"
      ],
      "execution_count": 0,
      "outputs": []
    },
    {
      "cell_type": "code",
      "metadata": {
        "id": "sNrxgpGZ2gqj",
        "colab_type": "code",
        "colab": {}
      },
      "source": [
        "import datetime\n",
        "#features[features.index.date < datetime.date(2012, 1, 1)]"
      ],
      "execution_count": 0,
      "outputs": []
    },
    {
      "cell_type": "code",
      "metadata": {
        "id": "sS8wpDwWCbyp",
        "colab_type": "code",
        "colab": {}
      },
      "source": [
        ""
      ],
      "execution_count": 0,
      "outputs": []
    },
    {
      "cell_type": "code",
      "metadata": {
        "id": "0YqQI3B_CdlV",
        "colab_type": "code",
        "colab": {}
      },
      "source": [
        "x_train = features[features.index.date < datetime.date(2012, 1, 1)]\n",
        "x_test = features[(features.index.date >= datetime.date(2015, 1, 1)) & (features.index.date < datetime.date(2017, 1, 1))]\n",
        "\n",
        "try:\n",
        "  y_train = target[target.index.date < datetime.date(2012, 1, 1)]\n",
        "  y_test = target[(target.index.date >= datetime.date(2015, 1, 1)) & (target.index.date < datetime.date(2017, 1, 1))]\n",
        "except:\n",
        "  y_train = target_fitter[target.index.date < datetime.date(2012, 1, 1)]\n",
        "  y_test = target_fitter[(target.index.date >= datetime.date(2015, 1, 1)) & (target.index.date < datetime.date(2017, 1, 1))]"
      ],
      "execution_count": 0,
      "outputs": []
    },
    {
      "cell_type": "code",
      "metadata": {
        "id": "sb2vd9lT33FE",
        "colab_type": "code",
        "colab": {}
      },
      "source": [
        "num_train = len(x_train)\n",
        "num_test = len(x_test)"
      ],
      "execution_count": 0,
      "outputs": []
    },
    {
      "cell_type": "code",
      "metadata": {
        "id": "tpKtv99CCfgX",
        "colab_type": "code",
        "colab": {}
      },
      "source": [
        "x_train = imp_mean1.transform(x_train)\n",
        "x_test = imp_mean1.transform(x_test)"
      ],
      "execution_count": 0,
      "outputs": []
    },
    {
      "cell_type": "code",
      "metadata": {
        "id": "Ai4_CEaPCh5j",
        "colab_type": "code",
        "colab": {}
      },
      "source": [
        "x_scaler = MinMaxScaler()\n",
        "x_train_scaled = x_scaler.fit_transform(x_train)"
      ],
      "execution_count": 0,
      "outputs": []
    },
    {
      "cell_type": "code",
      "metadata": {
        "id": "001fVc-PCk19",
        "colab_type": "code",
        "colab": {}
      },
      "source": [
        "x_test_scaled = x_scaler.transform(x_test)"
      ],
      "execution_count": 0,
      "outputs": []
    },
    {
      "cell_type": "code",
      "metadata": {
        "id": "v-u9evgiClbu",
        "colab_type": "code",
        "colab": {}
      },
      "source": [
        "y_scaler = MinMaxScaler()\n",
        "y_train_scaled = y_scaler.fit_transform(y_train)\n",
        "y_test_scaled = y_scaler.transform(y_test)"
      ],
      "execution_count": 0,
      "outputs": []
    },
    {
      "cell_type": "code",
      "metadata": {
        "id": "jYDGHNcuCnLV",
        "colab_type": "code",
        "colab": {}
      },
      "source": [
        "def batch_generator(batch_size, sequence_length):\n",
        "    \"\"\"\n",
        "    Generator function for creating random batches of training data\n",
        "    \"\"\"\n",
        "    \n",
        "    num_x_signals = features.shape[1]\n",
        "    num_y_signals = 3\n",
        "    \n",
        "    # infinite loop\n",
        "    while True:\n",
        "        # Allocate a new array for the batch of input signals\n",
        "        x_shape = (batch_size, sequence_length, num_x_signals)\n",
        "        x_batch = np.zeros(shape=x_shape, dtype=np.float16)\n",
        "        \n",
        "        # Allocate a new array for the batch of output signals \n",
        "        y_shape = (batch_size, sequence_length, num_y_signals)\n",
        "        y_batch = np.zeros(shape=y_shape, dtype=np.float16)\n",
        "        \n",
        "        # Fill the batch with random sequences of data\n",
        "        for i in range(batch_size):\n",
        "            # Get a random start_index\n",
        "            # This points somewhere in the training data\n",
        "            idx = np.random.randint(num_train - sequence_length)\n",
        "            \n",
        "            # Copy the sequence of data starting from this index\n",
        "            x_batch[i] = x_train_scaled[idx:idx+sequence_length]\n",
        "            y_batch[i] = y_train_scaled[idx:idx+sequence_length]\n",
        "            \n",
        "        yield (x_batch, y_batch)"
      ],
      "execution_count": 0,
      "outputs": []
    },
    {
      "cell_type": "code",
      "metadata": {
        "id": "WhgCCi6sCpJs",
        "colab_type": "code",
        "colab": {}
      },
      "source": [
        "batch_size = 256\n",
        "sequence_length = 24 * 7 * 4"
      ],
      "execution_count": 0,
      "outputs": []
    },
    {
      "cell_type": "code",
      "metadata": {
        "id": "mmfFA3stCq2s",
        "colab_type": "code",
        "colab": {}
      },
      "source": [
        "generator = batch_generator(batch_size=batch_size, sequence_length=sequence_length)"
      ],
      "execution_count": 0,
      "outputs": []
    },
    {
      "cell_type": "code",
      "metadata": {
        "id": "gwEb0BCoCsYZ",
        "colab_type": "code",
        "colab": {}
      },
      "source": [
        "x_batch, y_batch = next(generator)"
      ],
      "execution_count": 0,
      "outputs": []
    },
    {
      "cell_type": "code",
      "metadata": {
        "id": "4LvPZu3bCuFn",
        "colab_type": "code",
        "outputId": "e16e209d-e4b4-411d-f7c6-90241e50f68d",
        "colab": {
          "base_uri": "https://localhost:8080/",
          "height": 34
        }
      },
      "source": [
        "x_batch.shape ,y_batch.shape"
      ],
      "execution_count": 0,
      "outputs": [
        {
          "output_type": "execute_result",
          "data": {
            "text/plain": [
              "((256, 672, 37), (256, 672, 3))"
            ]
          },
          "metadata": {
            "tags": []
          },
          "execution_count": 47
        }
      ]
    },
    {
      "cell_type": "code",
      "metadata": {
        "id": "va07GN1oCvwD",
        "colab_type": "code",
        "outputId": "90443bb6-50a0-416d-cd24-c4e000ce8e34",
        "colab": {
          "base_uri": "https://localhost:8080/",
          "height": 282
        }
      },
      "source": [
        "batch = 0 \n",
        "signal = 0\n",
        "seq = x_batch[batch , : , signal]\n",
        "plt.plot(seq)"
      ],
      "execution_count": 0,
      "outputs": [
        {
          "output_type": "execute_result",
          "data": {
            "text/plain": [
              "[<matplotlib.lines.Line2D at 0x7f420deb4550>]"
            ]
          },
          "metadata": {
            "tags": []
          },
          "execution_count": 48
        },
        {
          "output_type": "display_data",
          "data": {
            "image/png": "[encoded data removed]",
            "text/plain": [
              "<Figure size 432x288 with 1 Axes>"
            ]
          },
          "metadata": {
            "tags": []
          }
        }
      ]
    },
    {
      "cell_type": "code",
      "metadata": {
        "id": "q3ud0lfbCxW7",
        "colab_type": "code",
        "colab": {}
      },
      "source": [
        "validation_data = (np.expand_dims(x_test_scaled, axis=0),\n",
        "                   np.expand_dims(y_test_scaled, axis=0))"
      ],
      "execution_count": 0,
      "outputs": []
    },
    {
      "cell_type": "code",
      "metadata": {
        "id": "TMV6SmMPCzRX",
        "colab_type": "code",
        "colab": {}
      },
      "source": [
        "MODEL_NAME = '1+24+48+pred_2011'"
      ],
      "execution_count": 0,
      "outputs": []
    },
    {
      "cell_type": "code",
      "metadata": {
        "id": "4TwaYSSkC2L3",
        "colab_type": "code",
        "outputId": "21a1ef6b-bcaf-46ed-f275-c01f659a236a",
        "colab": {
          "base_uri": "https://localhost:8080/",
          "height": 68
        }
      },
      "source": [
        "model = Sequential()\n",
        "model.add(LSTM(units=100,\n",
        "               input_shape=(None, x_train.shape[1],),\n",
        "               return_sequences=True,\n",
        "               dropout=0.2,\n",
        "               recurrent_dropout=0.5))\n",
        "model.add(LSTM(units=30,\n",
        "               return_sequences=True,\n",
        "               dropout=0.2,\n",
        "               recurrent_dropout=0.5))\n",
        "model.add(LSTM(units=20,\n",
        "               return_sequences=True,\n",
        "               dropout=0.2,\n",
        "               recurrent_dropout=0.5))\n",
        "\n",
        "model.add(Dense(y_train.shape[1], activation='relu'))"
      ],
      "execution_count": 0,
      "outputs": [
        {
          "output_type": "stream",
          "text": [
            "WARNING:tensorflow:From /usr/local/lib/python3.6/dist-packages/tensorflow_core/python/ops/resource_variable_ops.py:1630: calling BaseResourceVariable.__init__ (from tensorflow.python.ops.resource_variable_ops) with constraint is deprecated and will be removed in a future version.\n",
            "Instructions for updating:\n",
            "If using Keras pass *_constraint arguments to layers.\n"
          ],
          "name": "stdout"
        }
      ]
    },
    {
      "cell_type": "code",
      "metadata": {
        "id": "_fshS9xBC4M1",
        "colab_type": "code",
        "colab": {}
      },
      "source": [
        "warmup_steps = 30"
      ],
      "execution_count": 0,
      "outputs": []
    },
    {
      "cell_type": "code",
      "metadata": {
        "id": "tzwFXPHTC6JI",
        "colab_type": "code",
        "colab": {}
      },
      "source": [
        "def loss_mse_warmup(y_true, y_pred):\n",
        "    \"\"\"\n",
        "    Calculate the mean squared error between y_true and y_pred but ignores the warmup-period of the sequence,\n",
        "    as there is not yet enough data to make serious predictions.\n",
        "    \"\"\"\n",
        "    \n",
        "    # The shape of both input tensors are \n",
        "    # (batch_size, sequence_length, num_y_signals)\n",
        "    \n",
        "    # Ignore the warm-up period by taking slices of the tensors\n",
        "    y_true_slice = y_true[: , warmup_steps: , :]\n",
        "    y_pred_slice = y_pred[: , warmup_steps: , :]\n",
        "    \n",
        "    # The sliced tensors have the shape (batch_size, sequence_length - warmup_length, num_y_signals)\n",
        "    \n",
        "    # Calculate the MSE loss for each value pair\n",
        "    #loss = tf.losses.mean_squared_error(y_true_slice, y_pred_slice)\n",
        "    #loss = tf.losses.softmax_cross_entropy(y_true_slice, y_pred_slice)\n",
        "    loss = tf.keras.losses.MSLE(y_true_slice, y_pred_slice)\n",
        "    loss_mean = tf.reduce_mean(loss)\n",
        "    \n",
        "    return loss_mean"
      ],
      "execution_count": 0,
      "outputs": []
    },
    {
      "cell_type": "code",
      "metadata": {
        "id": "Ol8HizmCC7z9",
        "colab_type": "code",
        "colab": {}
      },
      "source": [
        "optimizer = RMSprop(lr=1e-3)"
      ],
      "execution_count": 0,
      "outputs": []
    },
    {
      "cell_type": "code",
      "metadata": {
        "id": "JZJRT5HUC9ND",
        "colab_type": "code",
        "colab": {}
      },
      "source": [
        "model.compile(loss=loss_mse_warmup, optimizer=optimizer)"
      ],
      "execution_count": 0,
      "outputs": []
    },
    {
      "cell_type": "code",
      "metadata": {
        "id": "VG0KS8ZgC-qk",
        "colab_type": "code",
        "colab": {}
      },
      "source": [
        "path_checkpoint = f'/content/gdrive/My Drive/thesis/{MODEL_NAME}.keras'\n",
        "callback_checkpoint = ModelCheckpoint(filepath=path_checkpoint,\n",
        "                                      monitor='val_loss',\n",
        "                                      verbose=1,\n",
        "                                      save_weights_only=True,\n",
        "                                      save_best_only=True)\n",
        "\n",
        "callback_reduce_lr = ReduceLROnPlateau(monitor='val_loss',\n",
        "                                       factor=0.1,\n",
        "                                       min_lr=1e-4,\n",
        "                                       patience=2,\n",
        "                                       verbose=1)\n",
        "\n",
        "callback_early_stopping = EarlyStopping(monitor='val_loss',\n",
        "                                        patience=5,\n",
        "                                        verbose=1)\n",
        "\n",
        "callback_tensorboard = TensorBoard(log_dir=f'/content/gdrive/My Drive/thesis/',\n",
        "                                   histogram_freq=0,\n",
        "                                   write_graph=False)"
      ],
      "execution_count": 0,
      "outputs": []
    },
    {
      "cell_type": "code",
      "metadata": {
        "id": "3XhaGDcDDBHq",
        "colab_type": "code",
        "outputId": "8490aeef-6c3c-442a-b944-5ff3bda193c4",
        "colab": {
          "base_uri": "https://localhost:8080/",
          "height": 1000
        }
      },
      "source": [
        "model.fit_generator(generator=generator,\n",
        "                    epochs=60,\n",
        "                    steps_per_epoch=50,\n",
        "                    validation_data=validation_data,\n",
        "                    callbacks=[callback_checkpoint, callback_reduce_lr, callback_early_stopping, callback_tensorboard])"
      ],
      "execution_count": 0,
      "outputs": [
        {
          "output_type": "stream",
          "text": [
            "Epoch 1/60\n",
            "WARNING:tensorflow:From /usr/local/lib/python3.6/dist-packages/tensorflow_core/python/ops/math_grad.py:1424: where (from tensorflow.python.ops.array_ops) is deprecated and will be removed in a future version.\n",
            "Instructions for updating:\n",
            "Use tf.where in 2.0, which has the same broadcast rule as np.where\n",
            "49/50 [============================>.] - ETA: 5s - loss: 0.0130 Epoch 1/60\n",
            " 1/50 [..............................] - ETA: 4:39 - loss: 0.0275\n",
            "Epoch 00001: val_loss improved from inf to 0.02752, saving model to /content/gdrive/My Drive/thesis/1+24+48+pred_2011.keras\n",
            "50/50 [==============================] - 286s 6s/step - loss: 0.0129 - val_loss: 0.0275\n",
            "Epoch 2/60\n",
            "49/50 [============================>.] - ETA: 5s - loss: 0.0056 Epoch 1/60\n",
            " 1/50 [..............................] - ETA: 4:17 - loss: 0.0192\n",
            "Epoch 00002: val_loss improved from 0.02752 to 0.01922, saving model to /content/gdrive/My Drive/thesis/1+24+48+pred_2011.keras\n",
            "50/50 [==============================] - 281s 6s/step - loss: 0.0056 - val_loss: 0.0192\n",
            "Epoch 3/60\n",
            "49/50 [============================>.] - ETA: 5s - loss: 0.0041 Epoch 1/60\n",
            " 1/50 [..............................] - ETA: 4:19 - loss: 0.0162\n",
            "Epoch 00003: val_loss improved from 0.01922 to 0.01623, saving model to /content/gdrive/My Drive/thesis/1+24+48+pred_2011.keras\n",
            "50/50 [==============================] - 281s 6s/step - loss: 0.0041 - val_loss: 0.0162\n",
            "Epoch 4/60\n",
            "49/50 [============================>.] - ETA: 5s - loss: 0.0035 Epoch 1/60\n",
            " 1/50 [..............................] - ETA: 4:20 - loss: 0.0100\n",
            "Epoch 00004: val_loss improved from 0.01623 to 0.00999, saving model to /content/gdrive/My Drive/thesis/1+24+48+pred_2011.keras\n",
            "50/50 [==============================] - 281s 6s/step - loss: 0.0035 - val_loss: 0.0100\n",
            "Epoch 5/60\n",
            "49/50 [============================>.] - ETA: 5s - loss: 0.0031 Epoch 1/60\n",
            " 1/50 [..............................] - ETA: 4:16 - loss: 0.0079\n",
            "Epoch 00005: val_loss improved from 0.00999 to 0.00787, saving model to /content/gdrive/My Drive/thesis/1+24+48+pred_2011.keras\n",
            "50/50 [==============================] - 279s 6s/step - loss: 0.0030 - val_loss: 0.0079\n",
            "Epoch 6/60\n",
            "49/50 [============================>.] - ETA: 5s - loss: 0.0027 Epoch 1/60\n",
            " 1/50 [..............................] - ETA: 4:22 - loss: 0.0073\n",
            "Epoch 00006: val_loss improved from 0.00787 to 0.00732, saving model to /content/gdrive/My Drive/thesis/1+24+48+pred_2011.keras\n",
            "50/50 [==============================] - 278s 6s/step - loss: 0.0027 - val_loss: 0.0073\n",
            "Epoch 7/60\n",
            "49/50 [============================>.] - ETA: 5s - loss: 0.0024 Epoch 1/60\n",
            " 1/50 [..............................] - ETA: 4:20 - loss: 0.0067\n",
            "Epoch 00007: val_loss improved from 0.00732 to 0.00674, saving model to /content/gdrive/My Drive/thesis/1+24+48+pred_2011.keras\n",
            "50/50 [==============================] - 278s 6s/step - loss: 0.0024 - val_loss: 0.0067\n",
            "Epoch 8/60\n",
            "49/50 [============================>.] - ETA: 5s - loss: 0.0021 Epoch 1/60\n",
            " 1/50 [..............................] - ETA: 4:18 - loss: 0.0073\n",
            "Epoch 00008: val_loss did not improve from 0.00674\n",
            "50/50 [==============================] - 276s 6s/step - loss: 0.0021 - val_loss: 0.0073\n",
            "Epoch 9/60\n",
            "49/50 [============================>.] - ETA: 5s - loss: 0.0020 Epoch 1/60\n",
            " 1/50 [..............................] - ETA: 4:25 - loss: 0.0087\n",
            "Epoch 00009: val_loss did not improve from 0.00674\n",
            "\n",
            "Epoch 00009: ReduceLROnPlateau reducing learning rate to 0.00010000000474974513.\n",
            "50/50 [==============================] - 276s 6s/step - loss: 0.0020 - val_loss: 0.0087\n",
            "Epoch 10/60\n",
            "49/50 [============================>.] - ETA: 5s - loss: 0.0017 Epoch 1/60\n",
            " 1/50 [..............................] - ETA: 5:01 - loss: 0.0088\n",
            "Epoch 00010: val_loss did not improve from 0.00674\n",
            "50/50 [==============================] - 279s 6s/step - loss: 0.0017 - val_loss: 0.0088\n",
            "Epoch 11/60\n",
            "49/50 [============================>.] - ETA: 5s - loss: 0.0017 Epoch 1/60\n",
            " 1/50 [..............................] - ETA: 5:08 - loss: 0.0093\n",
            "Epoch 00011: val_loss did not improve from 0.00674\n",
            "\n",
            "Epoch 00011: ReduceLROnPlateau reducing learning rate to 0.0001.\n",
            "50/50 [==============================] - 279s 6s/step - loss: 0.0017 - val_loss: 0.0093\n",
            "Epoch 12/60\n",
            "49/50 [============================>.] - ETA: 5s - loss: 0.0017 Epoch 1/60\n",
            " 1/50 [..............................] - ETA: 4:59 - loss: 0.0097\n",
            "Epoch 00012: val_loss did not improve from 0.00674\n",
            "50/50 [==============================] - 279s 6s/step - loss: 0.0017 - val_loss: 0.0097\n",
            "Epoch 00012: early stopping\n"
          ],
          "name": "stdout"
        },
        {
          "output_type": "execute_result",
          "data": {
            "text/plain": [
              "<tensorflow.python.keras.callbacks.History at 0x7f420cdba198>"
            ]
          },
          "metadata": {
            "tags": []
          },
          "execution_count": 57
        }
      ]
    }
  ]
}