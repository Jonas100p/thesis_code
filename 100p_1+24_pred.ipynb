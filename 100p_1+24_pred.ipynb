{
  "nbformat": 4,
  "nbformat_minor": 0,
  "metadata": {
    "colab": {
      "name": "100p_1+24_pred.ipynb",
      "provenance": []
    },
    "kernelspec": {
      "name": "python3",
      "display_name": "Python 3"
    }
  },
  "cells": [
    {
      "cell_type": "code",
      "metadata": {
        "id": "3dZhspFkAwYb",
        "colab_type": "code",
        "outputId": "a5c5bf9c-7bab-47a3-efd8-e62442b9de00",
        "colab": {
          "base_uri": "https://localhost:8080/",
          "height": 122
        }
      },
      "source": [
        "from google.colab import drive\n",
        "drive.mount('/content/gdrive')"
      ],
      "execution_count": 0,
      "outputs": [
        {
          "output_type": "stream",
          "text": [
            "Go to this URL in a browser: https://accounts.google.com/o/oauth2/auth?client_id=947318989803-6bn6qk8qdgf4n4g3pfee6491hc0brc4i.apps.googleusercontent.com&redirect_uri=urn%3aietf%3awg%3aoauth%3a2.0%3aoob&response_type=code&scope=email%20https%3a%2f%2fwww.googleapis.com%2fauth%2fdocs.test%20https%3a%2f%2fwww.googleapis.com%2fauth%2fdrive%20https%3a%2f%2fwww.googleapis.com%2fauth%2fdrive.photos.readonly%20https%3a%2f%2fwww.googleapis.com%2fauth%2fpeopleapi.readonly\n",
            "\n",
            "Enter your authorization code:\n",
            "··········\n",
            "Mounted at /content/gdrive\n"
          ],
          "name": "stdout"
        }
      ]
    },
    {
      "cell_type": "code",
      "metadata": {
        "id": "c-wppRc6BBmC",
        "colab_type": "code",
        "outputId": "540e171d-6c93-4481-aa2d-ae6aa0260e85",
        "colab": {
          "base_uri": "https://localhost:8080/",
          "height": 63
        }
      },
      "source": [
        "from tensorflow.keras.layers import LSTM, GRU, Dense\n",
        "from tensorflow.keras.models import Sequential\n",
        "from tensorflow.keras.callbacks import ReduceLROnPlateau, ModelCheckpoint, EarlyStopping, TensorBoard\n",
        "from tensorflow.keras.optimizers import RMSprop\n",
        "from sklearn.impute import SimpleImputer\n",
        "import numpy as np\n",
        "import pandas as pd\n",
        "from sklearn.preprocessing import MinMaxScaler, OneHotEncoder\n",
        "from matplotlib import pyplot as plt\n",
        "import tensorflow as tf\n",
        "import os\n",
        "import random"
      ],
      "execution_count": 0,
      "outputs": [
        {
          "output_type": "display_data",
          "data": {
            "text/html": [
              "<p style=\"color: red;\">\n",
              "The default version of TensorFlow in Colab will soon switch to TensorFlow 2.x.<br>\n",
              "We recommend you <a href=\"https://www.tensorflow.org/guide/migrate\" target=\"_blank\">upgrade</a> now \n",
              "or ensure your notebook will continue to use TensorFlow 1.x via the <code>%tensorflow_version 1.x</code> magic:\n",
              "<a href=\"https://colab.research.google.com/notebooks/tensorflow_version.ipynb\" target=\"_blank\">more info</a>.</p>\n"
            ],
            "text/plain": [
              "<IPython.core.display.HTML object>"
            ]
          },
          "metadata": {
            "tags": []
          }
        }
      ]
    },
    {
      "cell_type": "code",
      "metadata": {
        "id": "gP340M34BKQY",
        "colab_type": "code",
        "colab": {}
      },
      "source": [
        "os.chdir('/content/gdrive/My Drive/thesis')"
      ],
      "execution_count": 0,
      "outputs": []
    },
    {
      "cell_type": "code",
      "metadata": {
        "id": "P8Jlg_3fBMlX",
        "colab_type": "code",
        "colab": {}
      },
      "source": [
        "data = pd.read_pickle('master_dataset_24112019.pkl')\n",
        "data = data.dropna(how='any', axis=0)"
      ],
      "execution_count": 0,
      "outputs": []
    },
    {
      "cell_type": "code",
      "metadata": {
        "id": "C2rSAuxnBkX0",
        "colab_type": "code",
        "colab": {}
      },
      "source": [
        "rf1 = pd.read_pickle('rf+1.pickle')\n",
        "rf2 = pd.read_pickle('rf+24.pickle')"
      ],
      "execution_count": 0,
      "outputs": []
    },
    {
      "cell_type": "code",
      "metadata": {
        "id": "A5ob31uLBsK3",
        "colab_type": "code",
        "colab": {}
      },
      "source": [
        "r1 = rf1.predict(data)\n",
        "r2 = rf2.predict(data)"
      ],
      "execution_count": 0,
      "outputs": []
    },
    {
      "cell_type": "code",
      "metadata": {
        "id": "pjSq1TrVBZFb",
        "colab_type": "code",
        "colab": {}
      },
      "source": [
        "r1_df = pd.DataFrame(r1, index=data.index, columns=['pred_+1'])\n",
        "r2_df = pd.DataFrame(r2, index=data.index, columns=['pred_+24'])"
      ],
      "execution_count": 0,
      "outputs": []
    },
    {
      "cell_type": "code",
      "metadata": {
        "id": "FrRupWvCCaiz",
        "colab_type": "code",
        "colab": {}
      },
      "source": [
        "data = pd.concat([data, r1_df, r2_df], axis=1)"
      ],
      "execution_count": 0,
      "outputs": []
    },
    {
      "cell_type": "code",
      "metadata": {
        "id": "oCSsqsgeEx0e",
        "colab_type": "code",
        "colab": {}
      },
      "source": [
        "target = pd.DataFrame()\n",
        "target['1_h'] = data['dk2'].shift(-1)\n",
        "target['24_h'] = data['dk2'].shift(-24)\n",
        "features = data.iloc[0: -24, :]"
      ],
      "execution_count": 0,
      "outputs": []
    },
    {
      "cell_type": "code",
      "metadata": {
        "id": "TLCYwo0EE1dE",
        "colab_type": "code",
        "colab": {}
      },
      "source": [
        "target = target[:-24]"
      ],
      "execution_count": 0,
      "outputs": []
    },
    {
      "cell_type": "code",
      "metadata": {
        "id": "Qwn73D9vCo1d",
        "colab_type": "code",
        "colab": {}
      },
      "source": [
        "target_fitter = target"
      ],
      "execution_count": 0,
      "outputs": []
    },
    {
      "cell_type": "code",
      "metadata": {
        "id": "2LXyXzksDUaS",
        "colab_type": "code",
        "colab": {}
      },
      "source": [
        "qs = [-100]\n",
        "for i in range(1, 101):\n",
        "  q = i\n",
        "  qs.append(np.percentile(target_fitter, q))"
      ],
      "execution_count": 0,
      "outputs": []
    },
    {
      "cell_type": "code",
      "metadata": {
        "id": "RAVNh-7vDWqw",
        "colab_type": "code",
        "colab": {}
      },
      "source": [
        "new_feature = features['dk2'].copy()"
      ],
      "execution_count": 0,
      "outputs": []
    },
    {
      "cell_type": "code",
      "metadata": {
        "id": "62rW9K6pDYz0",
        "colab_type": "code",
        "colab": {}
      },
      "source": [
        "new_feature = pd.DataFrame(new_feature, index=target.index)\n",
        "new_feature.columns = ['price']"
      ],
      "execution_count": 0,
      "outputs": []
    },
    {
      "cell_type": "code",
      "metadata": {
        "id": "VMQoy1ZaDboP",
        "colab_type": "code",
        "colab": {}
      },
      "source": [
        "def is_in_range(x, lower, upper, val):\n",
        "  if lower < x <= upper:\n",
        "    return val\n",
        "  else:\n",
        "    return 0"
      ],
      "execution_count": 0,
      "outputs": []
    },
    {
      "cell_type": "code",
      "metadata": {
        "id": "oOlTJfLqDgCp",
        "colab_type": "code",
        "colab": {}
      },
      "source": [
        "def is_in_range(x, lower, upper, val):\n",
        "  if lower < x <= upper:\n",
        "    return val\n",
        "  else:\n",
        "    return 0"
      ],
      "execution_count": 0,
      "outputs": []
    },
    {
      "cell_type": "code",
      "metadata": {
        "id": "IPIK2DVADiTp",
        "colab_type": "code",
        "outputId": "d4f6e504-a25a-466a-e2d5-c1c663112904",
        "colab": {
          "base_uri": "https://localhost:8080/",
          "height": 1000
        }
      },
      "source": [
        "ss = dict()\n",
        "for i, (lower, upper) in enumerate(zip(qs[:-1], qs[1:])):\n",
        "  print(lower, upper)\n",
        "  s = new_feature['price'].apply(lambda row: is_in_range(row, lower, upper, i))\n",
        "  ss[i] = s"
      ],
      "execution_count": 0,
      "outputs": [
        {
          "output_type": "stream",
          "text": [
            "-100 24.4\n",
            "24.4 57.4524\n",
            "57.4524 72.76\n",
            "72.76 84.95\n",
            "84.95 97.53\n",
            "97.53 111.78\n",
            "111.78 123.12\n",
            "123.12 133.78\n",
            "133.78 141.87\n",
            "141.87 148.28\n",
            "148.28 152.67\n",
            "152.67 157.3272\n",
            "157.3272 161.61\n",
            "161.61 165.34\n",
            "165.34 169.34\n",
            "169.34 173.32\n",
            "173.32 176.85540000000003\n",
            "176.85540000000003 179.77\n",
            "179.77 182.8639\n",
            "182.8639 185.64\n",
            "185.64 187.8201\n",
            "187.8201 190.7782\n",
            "190.7782 193.67\n",
            "193.67 196.25439999999998\n",
            "196.25439999999998 199.3\n",
            "199.3 201.75119999999995\n",
            "201.75119999999995 204.74\n",
            "204.74 207.46999999999997\n",
            "207.46999999999997 209.55\n",
            "209.55 211.87\n",
            "211.87 214.13\n",
            "214.13 216.04\n",
            "216.04 217.86\n",
            "217.86 219.73\n",
            "219.73 221.53999999999996\n",
            "221.53999999999996 223.22159999999994\n",
            "223.22159999999994 224.68\n",
            "224.68 226.44\n",
            "226.44 228.38\n",
            "228.38 230.04\n",
            "230.04 231.54\n",
            "231.54 233.52\n",
            "233.52 235.28999999999996\n",
            "235.28999999999996 237.23\n",
            "237.23 238.81\n",
            "238.81 240.56\n",
            "240.56 242.56\n",
            "242.56 244.62\n",
            "244.62 246.24\n",
            "246.24 248.33\n",
            "248.33 250.7\n",
            "250.7 252.96\n",
            "252.96 255.15\n",
            "255.15 257.87\n",
            "257.87 260.38\n",
            "260.38 262.35\n",
            "262.35 265.1017\n",
            "265.1017 267.74\n",
            "267.74 269.93789999999996\n",
            "269.93789999999996 272.7759999999999\n",
            "272.7759999999999 275.45\n",
            "275.45 277.84\n",
            "277.84 280.66\n",
            "280.66 283.18\n",
            "283.18 285.73\n",
            "285.73 288.7\n",
            "288.7 291.11\n",
            "291.11 294.12\n",
            "294.12 297.21\n",
            "297.21 299.59\n",
            "299.59 302.88\n",
            "302.88 305.88\n",
            "305.88 309.29\n",
            "309.29 312.65\n",
            "312.65 315.99\n",
            "315.99 319.9656\n",
            "319.9656 323.8673999999999\n",
            "323.8673999999999 327.61\n",
            "327.61 331.3999\n",
            "331.3999 335.34800000000007\n",
            "335.34800000000007 339.75\n",
            "339.75 344.24\n",
            "344.24 349.78\n",
            "349.78 355.1503999999999\n",
            "355.1503999999999 359.63\n",
            "359.63 365.68320000000006\n",
            "365.68320000000006 371.75\n",
            "371.75 377.11\n",
            "377.11 384.22\n",
            "384.22 391.57\n",
            "391.57 398.23420000000016\n",
            "398.23420000000016 407.41\n",
            "407.41 416.78\n",
            "416.78 429.23\n",
            "429.23 444.59\n",
            "444.59 461.8503999999998\n",
            "461.8503999999998 485.61\n",
            "485.61 518.14\n",
            "518.14 573.59\n",
            "573.59 1898.9\n"
          ],
          "name": "stdout"
        }
      ]
    },
    {
      "cell_type": "code",
      "metadata": {
        "id": "F9pe6OdCDlpO",
        "colab_type": "code",
        "colab": {}
      },
      "source": [
        "_df = pd.DataFrame(ss)"
      ],
      "execution_count": 0,
      "outputs": []
    },
    {
      "cell_type": "code",
      "metadata": {
        "id": "AkUgMggRDoKH",
        "colab_type": "code",
        "outputId": "029583ba-e5ec-4af1-febd-078b74732b0d",
        "colab": {
          "base_uri": "https://localhost:8080/",
          "height": 119
        }
      },
      "source": [
        "features['price_bin'] = _df.sum(axis=1)"
      ],
      "execution_count": 0,
      "outputs": [
        {
          "output_type": "stream",
          "text": [
            "/usr/local/lib/python3.6/dist-packages/ipykernel_launcher.py:1: SettingWithCopyWarning: \n",
            "A value is trying to be set on a copy of a slice from a DataFrame.\n",
            "Try using .loc[row_indexer,col_indexer] = value instead\n",
            "\n",
            "See the caveats in the documentation: http://pandas.pydata.org/pandas-docs/stable/user_guide/indexing.html#returning-a-view-versus-a-copy\n",
            "  \"\"\"Entry point for launching an IPython kernel.\n"
          ],
          "name": "stderr"
        }
      ]
    },
    {
      "cell_type": "code",
      "metadata": {
        "id": "UZrZak7xDr8-",
        "colab_type": "code",
        "outputId": "642e85c8-5c4b-44bc-f18b-9345170bf5d5",
        "colab": {
          "base_uri": "https://localhost:8080/",
          "height": 119
        }
      },
      "source": [
        "features['price_bin'] = _df.sum(axis=1)"
      ],
      "execution_count": 0,
      "outputs": [
        {
          "output_type": "stream",
          "text": [
            "/usr/local/lib/python3.6/dist-packages/ipykernel_launcher.py:1: SettingWithCopyWarning: \n",
            "A value is trying to be set on a copy of a slice from a DataFrame.\n",
            "Try using .loc[row_indexer,col_indexer] = value instead\n",
            "\n",
            "See the caveats in the documentation: http://pandas.pydata.org/pandas-docs/stable/user_guide/indexing.html#returning-a-view-versus-a-copy\n",
            "  \"\"\"Entry point for launching an IPython kernel.\n"
          ],
          "name": "stderr"
        }
      ]
    },
    {
      "cell_type": "code",
      "metadata": {
        "id": "9gqkA3mRDuQf",
        "colab_type": "code",
        "colab": {}
      },
      "source": [
        "imp_mean1 = SimpleImputer(missing_values=np.nan, strategy='mean')\n",
        "imp_mean1.fit(features)\n",
        "imp_features = imp_mean1.transform(features)"
      ],
      "execution_count": 0,
      "outputs": []
    },
    {
      "cell_type": "code",
      "metadata": {
        "id": "ABKtGBoFDwmJ",
        "colab_type": "code",
        "colab": {}
      },
      "source": [
        "import datetime"
      ],
      "execution_count": 0,
      "outputs": []
    },
    {
      "cell_type": "code",
      "metadata": {
        "id": "LeJcfw19DzLc",
        "colab_type": "code",
        "colab": {}
      },
      "source": [
        "x_train = features[features.index.date < datetime.date(2012, 1, 1)]\n",
        "x_test = features[(features.index.date >= datetime.date(2015, 1, 1)) & (features.index.date < datetime.date(2017, 1, 1))]\n",
        "\n",
        "try:\n",
        "  y_train = target[target.index.date < datetime.date(2012, 1, 1)]\n",
        "  y_test = target[(target.index.date >= datetime.date(2015, 1, 1)) & (target.index.date < datetime.date(2017, 1, 1))]\n",
        "except:\n",
        "  y_train = target_fitter[target.index.date < datetime.date(2012, 1, 1)]\n",
        "  y_test = target_fitter[(target.index.date >= datetime.date(2015, 1, 1)) & (target.index.date < datetime.date(2017, 1, 1))]"
      ],
      "execution_count": 0,
      "outputs": []
    },
    {
      "cell_type": "code",
      "metadata": {
        "id": "L3iete_55k1S",
        "colab_type": "code",
        "colab": {}
      },
      "source": [
        "num_train = len(x_train)\n",
        "num_test = len(x_test)"
      ],
      "execution_count": 0,
      "outputs": []
    },
    {
      "cell_type": "code",
      "metadata": {
        "id": "HEkw8wF2D1jU",
        "colab_type": "code",
        "colab": {}
      },
      "source": [
        "x_train = imp_mean1.transform(x_train)\n",
        "x_test = imp_mean1.transform(x_test)"
      ],
      "execution_count": 0,
      "outputs": []
    },
    {
      "cell_type": "code",
      "metadata": {
        "id": "P2LW5zjZD3e3",
        "colab_type": "code",
        "colab": {}
      },
      "source": [
        "x_scaler = MinMaxScaler()\n",
        "x_train_scaled = x_scaler.fit_transform(x_train)"
      ],
      "execution_count": 0,
      "outputs": []
    },
    {
      "cell_type": "code",
      "metadata": {
        "id": "aMby0zOzD5YY",
        "colab_type": "code",
        "colab": {}
      },
      "source": [
        "x_test_scaled = x_scaler.transform(x_test)"
      ],
      "execution_count": 0,
      "outputs": []
    },
    {
      "cell_type": "code",
      "metadata": {
        "id": "INYTX8kuD7HD",
        "colab_type": "code",
        "colab": {}
      },
      "source": [
        "y_scaler = MinMaxScaler()\n",
        "y_train_scaled = y_scaler.fit_transform(y_train)\n",
        "y_test_scaled = y_scaler.transform(y_test)"
      ],
      "execution_count": 0,
      "outputs": []
    },
    {
      "cell_type": "code",
      "metadata": {
        "id": "CIkhmS3eD9Su",
        "colab_type": "code",
        "colab": {}
      },
      "source": [
        "def batch_generator(batch_size, sequence_length):\n",
        "    \"\"\"\n",
        "    Generator function for creating random batches of training data\n",
        "    \"\"\"\n",
        "    \n",
        "    num_x_signals = features.shape[1]\n",
        "    num_y_signals = 2\n",
        "    \n",
        "    # infinite loop\n",
        "    while True:\n",
        "        # Allocate a new array for the batch of input signals\n",
        "        x_shape = (batch_size, sequence_length, num_x_signals)\n",
        "        x_batch = np.zeros(shape=x_shape, dtype=np.float16)\n",
        "        \n",
        "        # Allocate a new array for the batch of output signals \n",
        "        y_shape = (batch_size, sequence_length, num_y_signals)\n",
        "        y_batch = np.zeros(shape=y_shape, dtype=np.float16)\n",
        "        \n",
        "        # Fill the batch with random sequences of data\n",
        "        for i in range(batch_size):\n",
        "            # Get a random start_index\n",
        "            # This points somewhere in the training data\n",
        "            idx = np.random.randint(num_train - sequence_length)\n",
        "            \n",
        "            # Copy the sequence of data starting from this index\n",
        "            x_batch[i] = x_train_scaled[idx:idx+sequence_length]\n",
        "            y_batch[i] = y_train_scaled[idx:idx+sequence_length]\n",
        "            \n",
        "        yield (x_batch, y_batch)"
      ],
      "execution_count": 0,
      "outputs": []
    },
    {
      "cell_type": "code",
      "metadata": {
        "id": "wWv1pK-bD_0n",
        "colab_type": "code",
        "colab": {}
      },
      "source": [
        "batch_size = 256\n",
        "sequence_length = 24 * 7 * 4"
      ],
      "execution_count": 0,
      "outputs": []
    },
    {
      "cell_type": "code",
      "metadata": {
        "id": "ugRNcx6MEB0C",
        "colab_type": "code",
        "colab": {}
      },
      "source": [
        "generator = batch_generator(batch_size=batch_size, sequence_length=sequence_length)"
      ],
      "execution_count": 0,
      "outputs": []
    },
    {
      "cell_type": "code",
      "metadata": {
        "id": "sf4fU54sEDXN",
        "colab_type": "code",
        "colab": {}
      },
      "source": [
        "x_batch, y_batch = next(generator)"
      ],
      "execution_count": 0,
      "outputs": []
    },
    {
      "cell_type": "code",
      "metadata": {
        "id": "YpyqBHNqEGZE",
        "colab_type": "code",
        "outputId": "f6593d0c-1a6f-4a51-f24f-a276539c88bf",
        "colab": {
          "base_uri": "https://localhost:8080/",
          "height": 34
        }
      },
      "source": [
        "x_batch.shape ,y_batch.shape"
      ],
      "execution_count": 0,
      "outputs": [
        {
          "output_type": "execute_result",
          "data": {
            "text/plain": [
              "((256, 672, 36), (256, 672, 2))"
            ]
          },
          "metadata": {
            "tags": []
          },
          "execution_count": 33
        }
      ]
    },
    {
      "cell_type": "code",
      "metadata": {
        "id": "7Udp2hfXEKK4",
        "colab_type": "code",
        "outputId": "1eadde18-2ba5-4374-af5e-c405787a4cbd",
        "colab": {
          "base_uri": "https://localhost:8080/",
          "height": 282
        }
      },
      "source": [
        "batch = 0 \n",
        "signal = 0\n",
        "seq = x_batch[batch , : , signal]\n",
        "plt.plot(seq)"
      ],
      "execution_count": 0,
      "outputs": [
        {
          "output_type": "execute_result",
          "data": {
            "text/plain": [
              "[<matplotlib.lines.Line2D at 0x7fb215760128>]"
            ]
          },
          "metadata": {
            "tags": []
          },
          "execution_count": 34
        },
        {
          "output_type": "display_data",
          "data": {
            "image/png": "[encoded data removed]",
            "text/plain": [
              "<Figure size 432x288 with 1 Axes>"
            ]
          },
          "metadata": {
            "tags": []
          }
        }
      ]
    },
    {
      "cell_type": "code",
      "metadata": {
        "id": "cDvNEUpLFM-0",
        "colab_type": "code",
        "colab": {}
      },
      "source": [
        "validation_data = (np.expand_dims(x_test_scaled, axis=0),\n",
        "                   np.expand_dims(y_test_scaled, axis=0))"
      ],
      "execution_count": 0,
      "outputs": []
    },
    {
      "cell_type": "code",
      "metadata": {
        "id": "u1R1MHk1FPez",
        "colab_type": "code",
        "colab": {}
      },
      "source": [
        "MODEL_NAME = '1+24+pred_2011'"
      ],
      "execution_count": 0,
      "outputs": []
    },
    {
      "cell_type": "code",
      "metadata": {
        "id": "9VJhPmzEFSWx",
        "colab_type": "code",
        "outputId": "03328b72-e586-426a-cef2-41fbc1fba61a",
        "colab": {
          "base_uri": "https://localhost:8080/",
          "height": 68
        }
      },
      "source": [
        "model = Sequential()\n",
        "model.add(LSTM(units=100,\n",
        "               input_shape=(None, x_train.shape[1],),\n",
        "               return_sequences=True,\n",
        "               dropout=0.2,\n",
        "               recurrent_dropout=0.5))\n",
        "model.add(LSTM(units=30,\n",
        "               return_sequences=True,\n",
        "               dropout=0.2,\n",
        "               recurrent_dropout=0.5))\n",
        "model.add(LSTM(units=20,\n",
        "               return_sequences=True,\n",
        "               dropout=0.2,\n",
        "               recurrent_dropout=0.5))\n",
        "\n",
        "model.add(Dense(y_train.shape[1], activation='relu'))"
      ],
      "execution_count": 0,
      "outputs": [
        {
          "output_type": "stream",
          "text": [
            "WARNING:tensorflow:From /usr/local/lib/python3.6/dist-packages/tensorflow_core/python/ops/resource_variable_ops.py:1630: calling BaseResourceVariable.__init__ (from tensorflow.python.ops.resource_variable_ops) with constraint is deprecated and will be removed in a future version.\n",
            "Instructions for updating:\n",
            "If using Keras pass *_constraint arguments to layers.\n"
          ],
          "name": "stdout"
        }
      ]
    },
    {
      "cell_type": "code",
      "metadata": {
        "id": "4Jg2H2o8FVHL",
        "colab_type": "code",
        "colab": {}
      },
      "source": [
        "warmup_steps = 30"
      ],
      "execution_count": 0,
      "outputs": []
    },
    {
      "cell_type": "code",
      "metadata": {
        "id": "NGxnl6t1FXMo",
        "colab_type": "code",
        "colab": {}
      },
      "source": [
        "def loss_mse_warmup(y_true, y_pred):\n",
        "    \"\"\"\n",
        "    Calculate the mean squared error between y_true and y_pred but ignores the warmup-period of the sequence,\n",
        "    as there is not yet enough data to make serious predictions.\n",
        "    \"\"\"\n",
        "    \n",
        "    # The shape of both input tensors are \n",
        "    # (batch_size, sequence_length, num_y_signals)\n",
        "    \n",
        "    # Ignore the warm-up period by taking slices of the tensors\n",
        "    y_true_slice = y_true[: , warmup_steps: , :]\n",
        "    y_pred_slice = y_pred[: , warmup_steps: , :]\n",
        "    \n",
        "    # The sliced tensors have the shape (batch_size, sequence_length - warmup_length, num_y_signals)\n",
        "    \n",
        "    # Calculate the MSE loss for each value pair\n",
        "    #loss = tf.losses.mean_squared_error(y_true_slice, y_pred_slice)\n",
        "    #loss = tf.losses.softmax_cross_entropy(y_true_slice, y_pred_slice)\n",
        "    loss = tf.keras.losses.MSLE(y_true_slice, y_pred_slice)\n",
        "    loss_mean = tf.reduce_mean(loss)\n",
        "    \n",
        "    return loss_mean"
      ],
      "execution_count": 0,
      "outputs": []
    },
    {
      "cell_type": "code",
      "metadata": {
        "id": "NK1uoeMsFZue",
        "colab_type": "code",
        "colab": {}
      },
      "source": [
        "optimizer = RMSprop(lr=1e-3)"
      ],
      "execution_count": 0,
      "outputs": []
    },
    {
      "cell_type": "code",
      "metadata": {
        "id": "7twKJK1cFcIL",
        "colab_type": "code",
        "colab": {}
      },
      "source": [
        "model.compile(loss=loss_mse_warmup, optimizer=optimizer)"
      ],
      "execution_count": 0,
      "outputs": []
    },
    {
      "cell_type": "code",
      "metadata": {
        "id": "qw72Jqn1FfMC",
        "colab_type": "code",
        "colab": {}
      },
      "source": [
        "path_checkpoint = f'/content/gdrive/My Drive/thesis/{MODEL_NAME}.keras'\n",
        "callback_checkpoint = ModelCheckpoint(filepath=path_checkpoint,\n",
        "                                      monitor='val_loss',\n",
        "                                      verbose=1,\n",
        "                                      save_weights_only=True,\n",
        "                                      save_best_only=True)\n",
        "\n",
        "callback_reduce_lr = ReduceLROnPlateau(monitor='val_loss',\n",
        "                                       factor=0.1,\n",
        "                                       min_lr=1e-4,\n",
        "                                       patience=2,\n",
        "                                       verbose=1)\n",
        "\n",
        "callback_early_stopping = EarlyStopping(monitor='val_loss',\n",
        "                                        patience=5,\n",
        "                                        verbose=1)\n",
        "\n",
        "callback_tensorboard = TensorBoard(log_dir=f'/content/gdrive/My Drive/thesis/',\n",
        "                                   histogram_freq=0,\n",
        "                                   write_graph=False)"
      ],
      "execution_count": 0,
      "outputs": []
    },
    {
      "cell_type": "code",
      "metadata": {
        "id": "Kmg1wTHPFgGa",
        "colab_type": "code",
        "outputId": "a75d3316-12d0-41c4-cee3-4ec06779748b",
        "colab": {
          "base_uri": "https://localhost:8080/",
          "height": 1000
        }
      },
      "source": [
        "model.fit_generator(generator=generator,\n",
        "                    epochs=60,\n",
        "                    steps_per_epoch=50,\n",
        "                    validation_data=validation_data,\n",
        "                    callbacks=[callback_checkpoint, callback_reduce_lr, callback_early_stopping, callback_tensorboard])"
      ],
      "execution_count": 0,
      "outputs": [
        {
          "output_type": "stream",
          "text": [
            "Epoch 1/60\n",
            "WARNING:tensorflow:From /usr/local/lib/python3.6/dist-packages/tensorflow_core/python/ops/math_grad.py:1424: where (from tensorflow.python.ops.array_ops) is deprecated and will be removed in a future version.\n",
            "Instructions for updating:\n",
            "Use tf.where in 2.0, which has the same broadcast rule as np.where\n",
            "49/50 [============================>.] - ETA: 6s - loss: 0.0123 Epoch 1/60\n",
            " 1/50 [..............................] - ETA: 5:07 - loss: 0.0608\n",
            "Epoch 00001: val_loss improved from inf to 0.06079, saving model to /content/gdrive/My Drive/thesis/1+24+pred_2011.keras\n",
            "50/50 [==============================] - 317s 6s/step - loss: 0.0122 - val_loss: 0.0608\n",
            "Epoch 2/60\n",
            "49/50 [============================>.] - ETA: 5s - loss: 0.0058 Epoch 1/60\n",
            " 1/50 [..............................] - ETA: 4:47 - loss: 0.0584\n",
            "Epoch 00002: val_loss improved from 0.06079 to 0.05843, saving model to /content/gdrive/My Drive/thesis/1+24+pred_2011.keras\n",
            "50/50 [==============================] - 305s 6s/step - loss: 0.0058 - val_loss: 0.0584\n",
            "Epoch 3/60\n",
            "49/50 [============================>.] - ETA: 6s - loss: 0.0044 Epoch 1/60\n",
            " 1/50 [..............................] - ETA: 4:55 - loss: 0.0543\n",
            "Epoch 00003: val_loss improved from 0.05843 to 0.05430, saving model to /content/gdrive/My Drive/thesis/1+24+pred_2011.keras\n",
            "50/50 [==============================] - 315s 6s/step - loss: 0.0044 - val_loss: 0.0543\n",
            "Epoch 4/60\n",
            "49/50 [============================>.] - ETA: 6s - loss: 0.0037 Epoch 1/60\n",
            " 1/50 [..............................] - ETA: 4:49 - loss: 0.0512\n",
            "Epoch 00004: val_loss improved from 0.05430 to 0.05118, saving model to /content/gdrive/My Drive/thesis/1+24+pred_2011.keras\n",
            "50/50 [==============================] - 307s 6s/step - loss: 0.0037 - val_loss: 0.0512\n",
            "Epoch 5/60\n",
            "49/50 [============================>.] - ETA: 5s - loss: 0.0032 Epoch 1/60\n",
            " 1/50 [..............................] - ETA: 4:40 - loss: 0.0497\n",
            "Epoch 00005: val_loss improved from 0.05118 to 0.04975, saving model to /content/gdrive/My Drive/thesis/1+24+pred_2011.keras\n",
            "50/50 [==============================] - 303s 6s/step - loss: 0.0032 - val_loss: 0.0497\n",
            "Epoch 6/60\n",
            "49/50 [============================>.] - ETA: 5s - loss: 0.0028 Epoch 1/60\n",
            " 1/50 [..............................] - ETA: 4:43 - loss: 0.0476\n",
            "Epoch 00006: val_loss improved from 0.04975 to 0.04765, saving model to /content/gdrive/My Drive/thesis/1+24+pred_2011.keras\n",
            "50/50 [==============================] - 304s 6s/step - loss: 0.0028 - val_loss: 0.0476\n",
            "Epoch 7/60\n",
            "49/50 [============================>.] - ETA: 6s - loss: 0.0025 Epoch 1/60\n",
            " 1/50 [..............................] - ETA: 4:45 - loss: 0.0408\n",
            "Epoch 00007: val_loss improved from 0.04765 to 0.04083, saving model to /content/gdrive/My Drive/thesis/1+24+pred_2011.keras\n",
            "50/50 [==============================] - 315s 6s/step - loss: 0.0025 - val_loss: 0.0408\n",
            "Epoch 8/60\n",
            "49/50 [============================>.] - ETA: 5s - loss: 0.0022 Epoch 1/60\n",
            " 1/50 [..............................] - ETA: 4:33 - loss: 0.0310\n",
            "Epoch 00008: val_loss improved from 0.04083 to 0.03096, saving model to /content/gdrive/My Drive/thesis/1+24+pred_2011.keras\n",
            "50/50 [==============================] - 299s 6s/step - loss: 0.0022 - val_loss: 0.0310\n",
            "Epoch 9/60\n",
            "49/50 [============================>.] - ETA: 5s - loss: 0.0020 Epoch 1/60\n",
            " 1/50 [..............................] - ETA: 4:38 - loss: 0.0258\n",
            "Epoch 00009: val_loss improved from 0.03096 to 0.02579, saving model to /content/gdrive/My Drive/thesis/1+24+pred_2011.keras\n",
            "50/50 [==============================] - 302s 6s/step - loss: 0.0020 - val_loss: 0.0258\n",
            "Epoch 10/60\n",
            "49/50 [============================>.] - ETA: 5s - loss: 0.0019 Epoch 1/60\n",
            " 1/50 [..............................] - ETA: 4:36 - loss: 0.0162\n",
            "Epoch 00010: val_loss improved from 0.02579 to 0.01618, saving model to /content/gdrive/My Drive/thesis/1+24+pred_2011.keras\n",
            "50/50 [==============================] - 300s 6s/step - loss: 0.0019 - val_loss: 0.0162\n",
            "Epoch 11/60\n",
            "49/50 [============================>.] - ETA: 5s - loss: 0.0017 Epoch 1/60\n",
            " 1/50 [..............................] - ETA: 4:44 - loss: 0.0112\n",
            "Epoch 00011: val_loss improved from 0.01618 to 0.01121, saving model to /content/gdrive/My Drive/thesis/1+24+pred_2011.keras\n",
            "50/50 [==============================] - 298s 6s/step - loss: 0.0017 - val_loss: 0.0112\n",
            "Epoch 12/60\n",
            "40/50 [=======================>......] - ETA: 58s - loss: 0.0016 "
          ],
          "name": "stdout"
        }
      ]
    }
  ]
}