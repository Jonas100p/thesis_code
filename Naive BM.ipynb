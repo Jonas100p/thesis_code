{
 "cells": [
  {
   "cell_type": "code",
   "execution_count": 1,
   "metadata": {},
   "outputs": [],
   "source": [
    "import pandas as pd\n",
    "import numpy as np"
   ]
  },
  {
   "cell_type": "code",
   "execution_count": 2,
   "metadata": {},
   "outputs": [],
   "source": [
    "data = pd.read_pickle('../notebooks/data/master_dataset_09122019.pkl')\n",
    "dataset = pd.read_pickle('master_dataset_06122019.pkl')"
   ]
  },
  {
   "cell_type": "code",
   "execution_count": 3,
   "metadata": {},
   "outputs": [],
   "source": [
    "data = pd.concat([data, pd.DataFrame(dataset['price_bin'])], join='inner', axis=1)"
   ]
  },
  {
   "cell_type": "code",
   "execution_count": 4,
   "metadata": {},
   "outputs": [],
   "source": [
    "#data = pd.DataFrame(data['dk2'], columns=['dk2'])"
   ]
  },
  {
   "cell_type": "code",
   "execution_count": 5,
   "metadata": {},
   "outputs": [],
   "source": [
    "data['-1'] = data['dk2'].shift(1)\n",
    "data['-24'] = data['dk2'].shift(24)\n",
    "data['-48'] = data['dk2'].shift(48)\n",
    "data['pb_1'] = data['price_bin'].shift(1)\n",
    "data['pb_24'] = data['price_bin'].shift(24)\n",
    "data['pb_48'] = data['price_bin'].shift(48)"
   ]
  },
  {
   "cell_type": "code",
   "execution_count": 6,
   "metadata": {},
   "outputs": [],
   "source": [
    "data = data.dropna(how='any', axis=0)"
   ]
  },
  {
   "cell_type": "code",
   "execution_count": 7,
   "metadata": {},
   "outputs": [],
   "source": [
    "data['pred_1'] = np.abs(data['dk2'] - data['-1'])\n",
    "data['pred_24'] = np.abs(data['dk2'] - data['-24'])\n",
    "data['pred_48'] = np.abs(data['dk2'] - data['-48'])"
   ]
  },
  {
   "cell_type": "code",
   "execution_count": 8,
   "metadata": {},
   "outputs": [
    {
     "name": "stdout",
     "output_type": "stream",
     "text": [
      "mean: 19.60352237398484 stddev: 36.90077932208915\n"
     ]
    }
   ],
   "source": [
    "print(\"mean:\", data['pred_1'].mean(), \"stddev:\", data['pred_1'].std())"
   ]
  },
  {
   "cell_type": "code",
   "execution_count": 9,
   "metadata": {},
   "outputs": [
    {
     "name": "stdout",
     "output_type": "stream",
     "text": [
      "mean: 50.04135010092923 stddev: 72.75974798183736\n"
     ]
    }
   ],
   "source": [
    "print(\"mean:\", data['pred_24'].mean(), \"stddev:\", data['pred_24'].std())"
   ]
  },
  {
   "cell_type": "code",
   "execution_count": 10,
   "metadata": {},
   "outputs": [
    {
     "name": "stdout",
     "output_type": "stream",
     "text": [
      "mean: 64.6181520281713 stddev: 85.61584501203522\n"
     ]
    }
   ],
   "source": [
    "print(\"mean:\", data['pred_48'].mean(), \"stddev:\", data['pred_48'].std())"
   ]
  },
  {
   "cell_type": "code",
   "execution_count": 11,
   "metadata": {},
   "outputs": [],
   "source": [
    "error_dict = {}\n",
    "for i in range(100):\n",
    "    error_dict[i] = data.pred_1[data.pb_1 == i].mean()\n",
    "\n",
    "error_dict24 = {}\n",
    "for i in range(100):\n",
    "    error_dict24[i] = data.pred_24[data.pb_24 == i].mean()\n",
    "    \n",
    "error_dict48 = {}\n",
    "for i in range(100):\n",
    "    error_dict48[i] = data.pred_48[data.pb_48 == i].mean()"
   ]
  },
  {
   "cell_type": "code",
   "execution_count": 12,
   "metadata": {},
   "outputs": [],
   "source": [
    "error_df1 = pd.DataFrame.from_dict(error_dict, orient='index')\n",
    "\n",
    "error_df24 = pd.DataFrame.from_dict(error_dict24, orient='index')\n",
    "\n",
    "error_df48 = pd.DataFrame.from_dict(error_dict48, orient='index')"
   ]
  },
  {
   "cell_type": "code",
   "execution_count": 13,
   "metadata": {},
   "outputs": [
    {
     "data": {
      "text/plain": [
       "<Figure size 640x480 with 1 Axes>"
      ]
     },
     "metadata": {},
     "output_type": "display_data"
    }
   ],
   "source": [
    "import matplotlib.pyplot as plt\n",
    "plt.plot(error_df1)\n",
    "plt.plot(error_df24)\n",
    "plt.plot(error_df48)\n",
    "\n",
    "plt.show()"
   ]
  },
  {
   "cell_type": "code",
   "execution_count": 14,
   "metadata": {},
   "outputs": [
    {
     "data": {
      "text/plain": [
       "\"import pickle\\n\\nfilehandler = open('last_period_1.pkl', 'wb')\\npickle.dump(error_df1, filehandler)\\n\\nfilehandler = open('last_period_24.pkl', 'wb')\\npickle.dump(error_df24, filehandler)\\n\\nfilehandler = open('last_period_48.pkl', 'wb')\\npickle.dump(error_df48, filehandler)\""
      ]
     },
     "execution_count": 14,
     "metadata": {},
     "output_type": "execute_result"
    }
   ],
   "source": [
    "\"\"\"import pickle\n",
    "\n",
    "filehandler = open('last_period_1.pkl', 'wb')\n",
    "pickle.dump(error_df1, filehandler)\n",
    "\n",
    "filehandler = open('last_period_24.pkl', 'wb')\n",
    "pickle.dump(error_df24, filehandler)\n",
    "\n",
    "filehandler = open('last_period_48.pkl', 'wb')\n",
    "pickle.dump(error_df48, filehandler)\"\"\""
   ]
  }
 ],
 "metadata": {
  "kernelspec": {
   "display_name": "Python 3",
   "language": "python",
   "name": "python3"
  },
  "language_info": {
   "codemirror_mode": {
    "name": "ipython",
    "version": 3
   },
   "file_extension": ".py",
   "mimetype": "text/x-python",
   "name": "python",
   "nbconvert_exporter": "python",
   "pygments_lexer": "ipython3",
   "version": "3.6.5"
  }
 },
 "nbformat": 4,
 "nbformat_minor": 2
}
