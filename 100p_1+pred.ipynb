{
  "nbformat": 4,
  "nbformat_minor": 0,
  "metadata": {
    "colab": {
      "name": "100p_1+pred.ipynb",
      "provenance": []
    },
    "kernelspec": {
      "name": "python3",
      "display_name": "Python 3"
    },
    "accelerator": "TPU"
  },
  "cells": [
    {
      "cell_type": "code",
      "metadata": {
        "id": "qWejZIYv6IJ7",
        "colab_type": "code",
        "outputId": "afb1bce7-ce77-4626-e04d-9550ba06974b",
        "colab": {
          "base_uri": "https://localhost:8080/",
          "height": 34
        }
      },
      "source": [
        "from google.colab import drive\n",
        "drive.mount('/content/gdrive')"
      ],
      "execution_count": 0,
      "outputs": [
        {
          "output_type": "stream",
          "text": [
            "Drive already mounted at /content/gdrive; to attempt to forcibly remount, call drive.mount(\"/content/gdrive\", force_remount=True).\n"
          ],
          "name": "stdout"
        }
      ]
    },
    {
      "cell_type": "code",
      "metadata": {
        "id": "Sc55IJQE6TKc",
        "colab_type": "code",
        "colab": {}
      },
      "source": [
        "from tensorflow.keras.layers import LSTM, GRU, Dense\n",
        "from tensorflow.keras.models import Sequential\n",
        "from tensorflow.keras.callbacks import ReduceLROnPlateau, ModelCheckpoint, EarlyStopping, TensorBoard\n",
        "from tensorflow.keras.optimizers import RMSprop\n",
        "from sklearn.impute import SimpleImputer\n",
        "import numpy as np\n",
        "import pandas as pd\n",
        "from sklearn.preprocessing import MinMaxScaler, OneHotEncoder\n",
        "from matplotlib import pyplot as plt\n",
        "import tensorflow as tf\n",
        "import os\n",
        "import random"
      ],
      "execution_count": 0,
      "outputs": []
    },
    {
      "cell_type": "code",
      "metadata": {
        "id": "h2_v9KP-6T3S",
        "colab_type": "code",
        "colab": {}
      },
      "source": [
        "os.chdir('/content/gdrive/My Drive/thesis')"
      ],
      "execution_count": 0,
      "outputs": []
    },
    {
      "cell_type": "code",
      "metadata": {
        "id": "hAPB2Jff6VaY",
        "colab_type": "code",
        "colab": {}
      },
      "source": [
        "data = pd.read_pickle('master_dataset_24112019.pkl')\n",
        "data = data.dropna(how='any', axis=0)"
      ],
      "execution_count": 0,
      "outputs": []
    },
    {
      "cell_type": "code",
      "metadata": {
        "id": "h_MwNurq6j4_",
        "colab_type": "code",
        "colab": {}
      },
      "source": [
        "rf = pd.read_pickle('rf+1.pickle')"
      ],
      "execution_count": 0,
      "outputs": []
    },
    {
      "cell_type": "code",
      "metadata": {
        "id": "Nk_QAfY_6vCh",
        "colab_type": "code",
        "colab": {}
      },
      "source": [
        "\n",
        "r = rf.predict(data)"
      ],
      "execution_count": 0,
      "outputs": []
    },
    {
      "cell_type": "code",
      "metadata": {
        "id": "c36-SRQF8HwR",
        "colab_type": "code",
        "colab": {}
      },
      "source": [
        "r_df = pd.DataFrame(r, index=data.index, columns=['pred_+1'])"
      ],
      "execution_count": 0,
      "outputs": []
    },
    {
      "cell_type": "code",
      "metadata": {
        "id": "wsTxXakn7FJq",
        "colab_type": "code",
        "colab": {}
      },
      "source": [
        "data = pd.concat([data, r_df], axis=1)"
      ],
      "execution_count": 0,
      "outputs": []
    },
    {
      "cell_type": "code",
      "metadata": {
        "id": "3XR3HirF8SOg",
        "colab_type": "code",
        "colab": {}
      },
      "source": [
        "target = pd.DataFrame()\n",
        "target['1_h'] = data['dk2'].shift(-1)\n",
        "features = data.iloc[0: -1, :]"
      ],
      "execution_count": 0,
      "outputs": []
    },
    {
      "cell_type": "code",
      "metadata": {
        "id": "_mEJsnttkXHJ",
        "colab_type": "code",
        "outputId": "38745eda-f627-45cf-ee46-7c54dd89acac",
        "colab": {
          "base_uri": "https://localhost:8080/",
          "height": 187
        }
      },
      "source": [
        "features.columns"
      ],
      "execution_count": 0,
      "outputs": [
        {
          "output_type": "execute_result",
          "data": {
            "text/plain": [
              "Index(['de', 'dk1', 'dk2', 'no2', 'se3', 'se4', 'system', 'CentralProd_dk1',\n",
              "       'ElectricBoilerCon_dk1', 'ExchangeContinent_dk1',\n",
              "       'ExchangeGreatBelt_dk1', 'ExchangeNordicCountries_dk1', 'GrossCon_dk1',\n",
              "       'LocalPowerProd_dk1', 'NetCon_dk1', 'OnshoreWindPower_dk1',\n",
              "       'SolarPowerProd_dk1', 'CentralProd_dk2', 'ElectricBoilerCon_dk2',\n",
              "       'ExchangeContinent_dk2', 'ExchangeNordicCountries_dk2', 'GrossCon_dk2',\n",
              "       'LocalPowerProd_dk2', 'NetCon_dk2', 'OnshoreWindPower_dk2',\n",
              "       'SolarPowerProd_dk2', 'sun', 'temp', 'wind', 'hour', 'weekday',\n",
              "       'Offshore_dk1', 'Offshore_dk2', 'pred_+1'],\n",
              "      dtype='object')"
            ]
          },
          "metadata": {
            "tags": []
          },
          "execution_count": 169
        }
      ]
    },
    {
      "cell_type": "code",
      "metadata": {
        "id": "VjvGp1P6kI6Q",
        "colab_type": "code",
        "colab": {}
      },
      "source": [
        "features = features.drop(['SolarPowerProd_dk2', 'SolarPowerProd_dk1', 'LocalPowerProd_dk1', 'ExchangeGreatBelt_dk1', 'Offshore_dk1', 'Offshore_dk2', 'ExchangeNordicCountries_dk1', 'ExchangeNordicCountries_dk2'], axis=1)"
      ],
      "execution_count": 0,
      "outputs": []
    },
    {
      "cell_type": "markdown",
      "metadata": {
        "id": "74IqXvkGk1bM",
        "colab_type": "text"
      },
      "source": [
        ""
      ]
    },
    {
      "cell_type": "code",
      "metadata": {
        "id": "3gDJERBc8bbS",
        "colab_type": "code",
        "colab": {}
      },
      "source": [
        "target = target[:-1]"
      ],
      "execution_count": 0,
      "outputs": []
    },
    {
      "cell_type": "code",
      "metadata": {
        "id": "Fgd0Yklx8diR",
        "colab_type": "code",
        "colab": {}
      },
      "source": [
        "target_fitter = target"
      ],
      "execution_count": 0,
      "outputs": []
    },
    {
      "cell_type": "code",
      "metadata": {
        "id": "ObYWDKtH8s1R",
        "colab_type": "code",
        "colab": {}
      },
      "source": [
        "qs = [-100]\n",
        "for i in range(1, 101):\n",
        "  q = i\n",
        "  qs.append(np.percentile(target_fitter, q))"
      ],
      "execution_count": 0,
      "outputs": []
    },
    {
      "cell_type": "code",
      "metadata": {
        "id": "DXR0I_fG81jG",
        "colab_type": "code",
        "colab": {}
      },
      "source": [
        "new_feature = features['dk2'].copy()"
      ],
      "execution_count": 0,
      "outputs": []
    },
    {
      "cell_type": "code",
      "metadata": {
        "id": "JSzKz3008yE_",
        "colab_type": "code",
        "colab": {}
      },
      "source": [
        "new_feature = pd.DataFrame(new_feature, index=target.index)\n",
        "new_feature.columns = ['price']"
      ],
      "execution_count": 0,
      "outputs": []
    },
    {
      "cell_type": "code",
      "metadata": {
        "id": "WtiM4uhW85VB",
        "colab_type": "code",
        "colab": {}
      },
      "source": [
        "def is_in_range(x, lower, upper, val):\n",
        "  if lower < x <= upper:\n",
        "    return val\n",
        "  else:\n",
        "    return 0"
      ],
      "execution_count": 0,
      "outputs": []
    },
    {
      "cell_type": "code",
      "metadata": {
        "id": "PjCTHt-v87kW",
        "colab_type": "code",
        "colab": {}
      },
      "source": [
        "def is_in_range(x, lower, upper, val):\n",
        "  if lower < x <= upper:\n",
        "    return val\n",
        "  else:\n",
        "    return 0"
      ],
      "execution_count": 0,
      "outputs": []
    },
    {
      "cell_type": "code",
      "metadata": {
        "id": "-PCp5X0y89ab",
        "colab_type": "code",
        "outputId": "d82c87c2-287c-4034-8b08-e31dec3d636c",
        "colab": {
          "base_uri": "https://localhost:8080/",
          "height": 1000
        }
      },
      "source": [
        "ss = dict()\n",
        "for i, (lower, upper) in enumerate(zip(qs[:-1], qs[1:])):\n",
        "  print(lower, upper)\n",
        "  s = new_feature['price'].apply(lambda row: is_in_range(row, lower, upper, i))\n",
        "  ss[i] = s"
      ],
      "execution_count": 0,
      "outputs": [
        {
          "output_type": "stream",
          "text": [
            "-100 24.500799999999998\n",
            "24.500799999999998 57.4704\n",
            "57.4704 72.7689\n",
            "72.7689 84.976\n",
            "84.976 97.54150000000001\n",
            "97.54150000000001 111.84\n",
            "111.84 123.14870000000005\n",
            "123.14870000000005 133.7804\n",
            "133.7804 141.88\n",
            "141.88 148.28300000000002\n",
            "148.28300000000002 152.6993\n",
            "152.6993 157.35\n",
            "157.35 161.62189999999998\n",
            "161.62189999999998 165.35820000000004\n",
            "165.35820000000004 169.34449999999998\n",
            "169.34449999999998 173.33\n",
            "173.33 176.8771\n",
            "176.8771 179.78\n",
            "179.78 182.88\n",
            "182.88 185.656\n",
            "185.656 187.83460000000002\n",
            "187.83460000000002 190.79\n",
            "190.79 193.69\n",
            "193.69 196.2712\n",
            "196.2712 199.3275\n",
            "199.3275 201.79\n",
            "201.79 204.76\n",
            "204.76 207.49640000000005\n",
            "207.49640000000005 209.56\n",
            "209.56 211.89899999999997\n",
            "211.89899999999997 214.16\n",
            "214.16 216.06\n",
            "216.06 217.88\n",
            "217.88 219.75\n",
            "219.75 221.56\n",
            "221.56 223.24\n",
            "223.24 224.69\n",
            "224.69 226.47\n",
            "226.47 228.3957\n",
            "228.3957 230.05\n",
            "230.05 231.56829999999997\n",
            "231.56829999999997 233.54\n",
            "233.54 235.34\n",
            "235.34 237.26999999999998\n",
            "237.26999999999998 238.84\n",
            "238.84 240.58\n",
            "240.58 242.58999999999997\n",
            "242.58999999999997 244.64\n",
            "244.64 246.26\n",
            "246.26 248.4\n",
            "248.4 250.74\n",
            "250.74 253.02\n",
            "253.02 255.19389999999999\n",
            "255.19389999999999 257.9304000000001\n",
            "257.9304000000001 260.41\n",
            "260.41 262.38\n",
            "262.38 265.14\n",
            "265.14 267.7754\n",
            "267.7754 269.98339999999996\n",
            "269.98339999999996 272.83\n",
            "272.83 275.47\n",
            "275.47 277.88059999999996\n",
            "277.88059999999996 280.68\n",
            "280.68 283.1932\n",
            "283.1932 285.7695\n",
            "285.7695 288.7658\n",
            "288.7658 291.14\n",
            "291.14 294.15\n",
            "294.15 297.24\n",
            "297.24 299.652\n",
            "299.652 302.91\n",
            "302.91 305.9436\n",
            "305.9436 309.3599\n",
            "309.3599 312.67\n",
            "312.67 316.0225\n",
            "316.0225 319.98\n",
            "319.98 323.92510000000004\n",
            "323.92510000000004 327.6314\n",
            "327.6314 331.4177000000001\n",
            "331.4177000000001 335.36400000000003\n",
            "335.36400000000003 339.78\n",
            "339.78 344.24\n",
            "344.24 349.78\n",
            "349.78 355.15920000000006\n",
            "355.15920000000006 359.63\n",
            "359.63 365.69\n",
            "365.69 371.75\n",
            "371.75 377.11\n",
            "377.11 384.22\n",
            "384.22 391.57\n",
            "391.57 398.2266\n",
            "398.2266 407.4088\n",
            "407.4088 416.7718000000001\n",
            "416.7718000000001 429.2222\n",
            "429.2222 444.5485\n",
            "444.5485 461.8148\n",
            "461.8148 485.60110000000003\n",
            "485.60110000000003 518.1218000000003\n",
            "518.1218000000003 573.3694999999984\n",
            "573.3694999999984 1898.9\n"
          ],
          "name": "stdout"
        }
      ]
    },
    {
      "cell_type": "code",
      "metadata": {
        "id": "b7Mr87po8_cS",
        "colab_type": "code",
        "colab": {}
      },
      "source": [
        "_df = pd.DataFrame(ss)"
      ],
      "execution_count": 0,
      "outputs": []
    },
    {
      "cell_type": "code",
      "metadata": {
        "id": "jcKAhhfl9Bls",
        "colab_type": "code",
        "colab": {}
      },
      "source": [
        "features['price_bin'] = _df.sum(axis=1)"
      ],
      "execution_count": 0,
      "outputs": []
    },
    {
      "cell_type": "code",
      "metadata": {
        "id": "sq39Ffer9Dnj",
        "colab_type": "code",
        "colab": {}
      },
      "source": [
        "features['price_bin'] = _df.sum(axis=1)"
      ],
      "execution_count": 0,
      "outputs": []
    },
    {
      "cell_type": "code",
      "metadata": {
        "id": "-o4i9So39FbN",
        "colab_type": "code",
        "colab": {}
      },
      "source": [
        "imp_mean1 = SimpleImputer(missing_values=np.nan, strategy='mean')\n",
        "imp_mean1.fit(features)\n",
        "imp_features = imp_mean1.transform(features)"
      ],
      "execution_count": 0,
      "outputs": []
    },
    {
      "cell_type": "code",
      "metadata": {
        "id": "gpBKL7ZV9H94",
        "colab_type": "code",
        "colab": {}
      },
      "source": [
        "import datetime"
      ],
      "execution_count": 0,
      "outputs": []
    },
    {
      "cell_type": "code",
      "metadata": {
        "id": "IdVYKgJs9KD1",
        "colab_type": "code",
        "colab": {}
      },
      "source": [
        "x_train = features[(features.index.date >= datetime.date(2012, 1, 1)) & (features.index.date < datetime.date(2013, 1, 1))]\n",
        "x_test = features[(features.index.date >= datetime.date(2015, 1, 1)) & (features.index.date < datetime.date(2017, 1, 1))]\n",
        "\n",
        "try:\n",
        "  y_train = target[target.index.date >= datetime.date(2012, 1, 1) & (target.index.date < datetime.date(2013, 1, 1))]\n",
        "  y_test = target[(target.index.date >= datetime.date(2015, 1, 1)) & (target.index.date < datetime.date(2017, 1, 1))]\n",
        "except:\n",
        "  y_train = target_fitter[(target_fitter.index.date >= datetime.date(2012, 1, 1)) & (target_fitter.index.date >= datetime.date(2013, 1, 1))]\n",
        "  y_test = target_fitter[(target_fitter.index.date >= datetime.date(2015, 1, 1)) & (target_fitter.index.date < datetime.date(2017, 1, 1))]"
      ],
      "execution_count": 0,
      "outputs": []
    },
    {
      "cell_type": "code",
      "metadata": {
        "id": "IgX1ErfOEAq-",
        "colab_type": "code",
        "outputId": "57a2a9f9-1301-4cfc-87b6-44fa6e0ff815",
        "colab": {
          "base_uri": "https://localhost:8080/",
          "height": 34
        }
      },
      "source": [
        "x_train.shape"
      ],
      "execution_count": 0,
      "outputs": [
        {
          "output_type": "execute_result",
          "data": {
            "text/plain": [
              "(8782, 27)"
            ]
          },
          "metadata": {
            "tags": []
          },
          "execution_count": 185
        }
      ]
    },
    {
      "cell_type": "code",
      "metadata": {
        "id": "myquCHUp4368",
        "colab_type": "code",
        "colab": {}
      },
      "source": [
        "num_train = len(x_train)\n",
        "num_test = len(x_test)"
      ],
      "execution_count": 0,
      "outputs": []
    },
    {
      "cell_type": "code",
      "metadata": {
        "id": "lC0Vd-lI9MRy",
        "colab_type": "code",
        "colab": {}
      },
      "source": [
        "x_train = imp_mean1.transform(x_train)\n",
        "x_test = imp_mean1.transform(x_test)"
      ],
      "execution_count": 0,
      "outputs": []
    },
    {
      "cell_type": "code",
      "metadata": {
        "id": "npRwuJ8L9b5h",
        "colab_type": "code",
        "colab": {}
      },
      "source": [
        "x_scaler = MinMaxScaler()\n",
        "x_train_scaled = x_scaler.fit_transform(x_train)"
      ],
      "execution_count": 0,
      "outputs": []
    },
    {
      "cell_type": "code",
      "metadata": {
        "id": "5TS_u5XT9fXv",
        "colab_type": "code",
        "colab": {}
      },
      "source": [
        "x_test_scaled = x_scaler.transform(x_test)"
      ],
      "execution_count": 0,
      "outputs": []
    },
    {
      "cell_type": "code",
      "metadata": {
        "id": "JmHBQv_Q9hMl",
        "colab_type": "code",
        "colab": {}
      },
      "source": [
        "y_scaler = MinMaxScaler()\n",
        "y_train_scaled = y_scaler.fit_transform(y_train)\n",
        "y_test_scaled = y_scaler.transform(y_test)"
      ],
      "execution_count": 0,
      "outputs": []
    },
    {
      "cell_type": "code",
      "metadata": {
        "id": "0Y86Da9t9jKg",
        "colab_type": "code",
        "colab": {}
      },
      "source": [
        "def batch_generator(batch_size, sequence_length):\n",
        "    \"\"\"\n",
        "    Generator function for creating random batches of training data\n",
        "    \"\"\"\n",
        "    \n",
        "    num_x_signals = features.shape[1]\n",
        "    num_y_signals = 2\n",
        "    \n",
        "    # infinite loop\n",
        "    while True:\n",
        "        # Allocate a new array for the batch of input signals\n",
        "        x_shape = (batch_size, sequence_length, num_x_signals)\n",
        "        x_batch = np.zeros(shape=x_shape, dtype=np.float16)\n",
        "        \n",
        "        # Allocate a new array for the batch of output signals \n",
        "        y_shape = (batch_size, sequence_length, num_y_signals)\n",
        "        y_batch = np.zeros(shape=y_shape, dtype=np.float16)\n",
        "        \n",
        "        # Fill the batch with random sequences of data\n",
        "        for i in range(batch_size):\n",
        "            # Get a random start_index\n",
        "            # This points somewhere in the training data\n",
        "            idx = np.random.randint(num_train - sequence_length)\n",
        "            \n",
        "            # Copy the sequence of data starting from this index\n",
        "            x_batch[i] = x_train_scaled[idx:idx+sequence_length]\n",
        "            y_batch[i] = y_train_scaled[idx:idx+sequence_length]\n",
        "            \n",
        "        yield (x_batch, y_batch)"
      ],
      "execution_count": 0,
      "outputs": []
    },
    {
      "cell_type": "code",
      "metadata": {
        "id": "-N1OFdT79ltH",
        "colab_type": "code",
        "colab": {}
      },
      "source": [
        "batch_size = 256\n",
        "sequence_length = 24 * 7 * 4"
      ],
      "execution_count": 0,
      "outputs": []
    },
    {
      "cell_type": "code",
      "metadata": {
        "id": "NYcL5dm_9n1t",
        "colab_type": "code",
        "colab": {}
      },
      "source": [
        "generator = batch_generator(batch_size=batch_size, sequence_length=sequence_length)"
      ],
      "execution_count": 0,
      "outputs": []
    },
    {
      "cell_type": "code",
      "metadata": {
        "id": "NEBme3DA9phL",
        "colab_type": "code",
        "colab": {}
      },
      "source": [
        "x_batch, y_batch = next(generator)"
      ],
      "execution_count": 0,
      "outputs": []
    },
    {
      "cell_type": "code",
      "metadata": {
        "id": "pkYJJPYj9six",
        "colab_type": "code",
        "outputId": "e8a8aebe-af21-48e7-9611-84dabe628f33",
        "colab": {
          "base_uri": "https://localhost:8080/",
          "height": 34
        }
      },
      "source": [
        "x_batch.shape ,y_batch.shape"
      ],
      "execution_count": 0,
      "outputs": [
        {
          "output_type": "execute_result",
          "data": {
            "text/plain": [
              "((256, 672, 27), (256, 672, 2))"
            ]
          },
          "metadata": {
            "tags": []
          },
          "execution_count": 195
        }
      ]
    },
    {
      "cell_type": "code",
      "metadata": {
        "id": "na5wBxkt9tXI",
        "colab_type": "code",
        "outputId": "a93cd909-0d98-47fa-85fa-994463af448c",
        "colab": {
          "base_uri": "https://localhost:8080/",
          "height": 282
        }
      },
      "source": [
        "batch = 0 \n",
        "signal = 0\n",
        "seq = x_batch[batch , : , signal]\n",
        "plt.plot(seq)"
      ],
      "execution_count": 0,
      "outputs": [
        {
          "output_type": "execute_result",
          "data": {
            "text/plain": [
              "[<matplotlib.lines.Line2D at 0x7f1e2fe49898>]"
            ]
          },
          "metadata": {
            "tags": []
          },
          "execution_count": 196
        },
        {
          "output_type": "display_data",
          "data": {
            "image/png": "[encoded data removed]",
            "text/plain": [
              "<Figure size 432x288 with 1 Axes>"
            ]
          },
          "metadata": {
            "tags": []
          }
        }
      ]
    },
    {
      "cell_type": "code",
      "metadata": {
        "id": "lDjZ5znu9vSX",
        "colab_type": "code",
        "colab": {}
      },
      "source": [
        "validation_data = (np.expand_dims(x_test_scaled, axis=0),\n",
        "                   np.expand_dims(y_test_scaled, axis=0))"
      ],
      "execution_count": 0,
      "outputs": []
    },
    {
      "cell_type": "code",
      "metadata": {
        "id": "8S6u5my09yE6",
        "colab_type": "code",
        "colab": {}
      },
      "source": [
        "MODEL_NAME = '1+pred_2012'"
      ],
      "execution_count": 0,
      "outputs": []
    },
    {
      "cell_type": "code",
      "metadata": {
        "id": "HpPkTw4P90oa",
        "colab_type": "code",
        "colab": {}
      },
      "source": [
        "model = Sequential()\n",
        "model.add(LSTM(units=100,\n",
        "               input_shape=(None, x_train.shape[1],),\n",
        "               return_sequences=True,\n",
        "               dropout=0.2,\n",
        "               recurrent_dropout=0.5))\n",
        "model.add(LSTM(units=30,\n",
        "               return_sequences=True,\n",
        "               dropout=0.2,\n",
        "               recurrent_dropout=0.5))\n",
        "model.add(LSTM(units=20,\n",
        "               return_sequences=True,\n",
        "               dropout=0.2,\n",
        "               recurrent_dropout=0.5))\n",
        "\n",
        "model.add(Dense(y_train.shape[1], activation='relu'))"
      ],
      "execution_count": 0,
      "outputs": []
    },
    {
      "cell_type": "code",
      "metadata": {
        "id": "CLg0LYjq93DQ",
        "colab_type": "code",
        "colab": {}
      },
      "source": [
        "warmup_steps = 30"
      ],
      "execution_count": 0,
      "outputs": []
    },
    {
      "cell_type": "code",
      "metadata": {
        "id": "w2TPdyBE940D",
        "colab_type": "code",
        "colab": {}
      },
      "source": [
        "def loss_mse_warmup(y_true, y_pred):\n",
        "    \"\"\"\n",
        "    Calculate the mean squared error between y_true and y_pred but ignores the warmup-period of the sequence,\n",
        "    as there is not yet enough data to make serious predictions.\n",
        "    \"\"\"\n",
        "    \n",
        "    # The shape of both input tensors are \n",
        "    # (batch_size, sequence_length, num_y_signals)\n",
        "    \n",
        "    # Ignore the warm-up period by taking slices of the tensors\n",
        "    y_true_slice = y_true[: , warmup_steps: , :]\n",
        "    y_pred_slice = y_pred[: , warmup_steps: , :]\n",
        "    \n",
        "    # The sliced tensors have the shape (batch_size, sequence_length - warmup_length, num_y_signals)\n",
        "    \n",
        "    # Calculate the MSE loss for each value pair\n",
        "    #loss = tf.losses.mean_squared_error(y_true_slice, y_pred_slice)\n",
        "    #loss = tf.losses.softmax_cross_entropy(y_true_slice, y_pred_slice)\n",
        "    loss = tf.keras.losses.MSLE(y_true_slice, y_pred_slice)\n",
        "    loss_mean = tf.reduce_mean(loss)\n",
        "    \n",
        "    return loss_mean"
      ],
      "execution_count": 0,
      "outputs": []
    },
    {
      "cell_type": "code",
      "metadata": {
        "id": "Q7RcwOSN97Q5",
        "colab_type": "code",
        "colab": {}
      },
      "source": [
        "optimizer = RMSprop(lr=1e-3)"
      ],
      "execution_count": 0,
      "outputs": []
    },
    {
      "cell_type": "code",
      "metadata": {
        "id": "848VlkKL9-Zz",
        "colab_type": "code",
        "colab": {}
      },
      "source": [
        "model.compile(loss=loss_mse_warmup, optimizer=optimizer)"
      ],
      "execution_count": 0,
      "outputs": []
    },
    {
      "cell_type": "code",
      "metadata": {
        "id": "36BTrReP9_Og",
        "colab_type": "code",
        "colab": {}
      },
      "source": [
        "path_checkpoint = f'/content/gdrive/My Drive/thesis/{MODEL_NAME}.keras'\n",
        "callback_checkpoint = ModelCheckpoint(filepath=path_checkpoint,\n",
        "                                      monitor='val_loss',\n",
        "                                      verbose=1,\n",
        "                                      save_weights_only=True,\n",
        "                                      save_best_only=True)\n",
        "\n",
        "callback_reduce_lr = ReduceLROnPlateau(monitor='val_loss',\n",
        "                                       factor=0.1,\n",
        "                                       min_lr=1e-4,\n",
        "                                       patience=2,\n",
        "                                       verbose=1)\n",
        "\n",
        "callback_early_stopping = EarlyStopping(monitor='val_loss',\n",
        "                                        patience=5,\n",
        "                                        verbose=1)\n",
        "\n",
        "callback_tensorboard = TensorBoard(log_dir=f'/content/gdrive/My Drive/thesis/',\n",
        "                                   histogram_freq=0,\n",
        "                                   write_graph=False)"
      ],
      "execution_count": 0,
      "outputs": []
    },
    {
      "cell_type": "code",
      "metadata": {
        "id": "TvmulKHW-Bjf",
        "colab_type": "code",
        "outputId": "22c2f6d4-eba2-4edb-9657-3fcfd6487756",
        "colab": {
          "base_uri": "https://localhost:8080/",
          "height": 1000
        }
      },
      "source": [
        "model.fit_generator(generator=generator,\n",
        "                    epochs=60,\n",
        "                    steps_per_epoch=50,\n",
        "                    validation_data=validation_data,\n",
        "                    callbacks=[callback_checkpoint, callback_reduce_lr, callback_early_stopping, callback_tensorboard])"
      ],
      "execution_count": 0,
      "outputs": [
        {
          "output_type": "stream",
          "text": [
            "Epoch 1/60\n",
            "49/50 [============================>.] - ETA: 5s - loss: 0.0052 Epoch 1/60\n",
            " 1/50 [..............................] - ETA: 5:26 - loss: 0.0277\n",
            "Epoch 00001: val_loss improved from inf to 0.02768, saving model to /content/gdrive/My Drive/thesis/1+pred_2012.keras\n",
            "50/50 [==============================] - 297s 6s/step - loss: 0.0052 - val_loss: 0.0277\n",
            "Epoch 2/60\n",
            "49/50 [============================>.] - ETA: 5s - loss: 0.0014 Epoch 1/60\n",
            " 1/50 [..............................] - ETA: 4:54 - loss: 0.0164\n",
            "Epoch 00002: val_loss improved from 0.02768 to 0.01642, saving model to /content/gdrive/My Drive/thesis/1+pred_2012.keras\n",
            "50/50 [==============================] - 292s 6s/step - loss: 0.0014 - val_loss: 0.0164\n",
            "Epoch 3/60\n",
            "49/50 [============================>.] - ETA: 5s - loss: 0.0010 Epoch 1/60\n",
            " 1/50 [..............................] - ETA: 5:00 - loss: 0.0089\n",
            "Epoch 00003: val_loss improved from 0.01642 to 0.00886, saving model to /content/gdrive/My Drive/thesis/1+pred_2012.keras\n",
            "50/50 [==============================] - 293s 6s/step - loss: 0.0010 - val_loss: 0.0089\n",
            "Epoch 4/60\n",
            "49/50 [============================>.] - ETA: 5s - loss: 9.1264e-04 Epoch 1/60\n",
            " 1/50 [..............................] - ETA: 5:02 - loss: 0.0067\n",
            "Epoch 00004: val_loss improved from 0.00886 to 0.00671, saving model to /content/gdrive/My Drive/thesis/1+pred_2012.keras\n",
            "50/50 [==============================] - 292s 6s/step - loss: 9.1247e-04 - val_loss: 0.0067\n",
            "Epoch 5/60\n",
            "49/50 [============================>.] - ETA: 5s - loss: 8.1322e-04 Epoch 1/60\n",
            " 1/50 [..............................] - ETA: 4:36 - loss: 0.0036\n",
            "Epoch 00005: val_loss improved from 0.00671 to 0.00364, saving model to /content/gdrive/My Drive/thesis/1+pred_2012.keras\n",
            "50/50 [==============================] - 292s 6s/step - loss: 8.1244e-04 - val_loss: 0.0036\n",
            "Epoch 6/60\n",
            "49/50 [============================>.] - ETA: 5s - loss: 7.6459e-04 Epoch 1/60\n",
            " 1/50 [..............................] - ETA: 4:51 - loss: 0.0036\n",
            "Epoch 00006: val_loss improved from 0.00364 to 0.00360, saving model to /content/gdrive/My Drive/thesis/1+pred_2012.keras\n",
            "50/50 [==============================] - 292s 6s/step - loss: 7.6365e-04 - val_loss: 0.0036\n",
            "Epoch 7/60\n",
            "49/50 [============================>.] - ETA: 5s - loss: 7.1959e-04 Epoch 1/60\n",
            " 1/50 [..............................] - ETA: 4:47 - loss: 0.0032\n",
            "Epoch 00007: val_loss improved from 0.00360 to 0.00317, saving model to /content/gdrive/My Drive/thesis/1+pred_2012.keras\n",
            "50/50 [==============================] - 292s 6s/step - loss: 7.1892e-04 - val_loss: 0.0032\n",
            "Epoch 8/60\n",
            "49/50 [============================>.] - ETA: 5s - loss: 6.8389e-04 Epoch 1/60\n",
            " 1/50 [..............................] - ETA: 4:43 - loss: 0.0032\n",
            "Epoch 00008: val_loss improved from 0.00317 to 0.00315, saving model to /content/gdrive/My Drive/thesis/1+pred_2012.keras\n",
            "50/50 [==============================] - 291s 6s/step - loss: 6.8334e-04 - val_loss: 0.0032\n",
            "Epoch 9/60\n",
            "49/50 [============================>.] - ETA: 5s - loss: 6.6704e-04 Epoch 1/60\n",
            " 1/50 [..............................] - ETA: 4:50 - loss: 0.0032\n",
            "Epoch 00009: val_loss did not improve from 0.00315\n",
            "\n",
            "Epoch 00009: ReduceLROnPlateau reducing learning rate to 0.00010000000474974513.\n",
            "50/50 [==============================] - 292s 6s/step - loss: 6.6638e-04 - val_loss: 0.0032\n",
            "Epoch 10/60\n",
            "49/50 [============================>.] - ETA: 5s - loss: 6.2064e-04 Epoch 1/60\n",
            " 1/50 [..............................] - ETA: 4:47 - loss: 0.0033\n",
            "Epoch 00010: val_loss did not improve from 0.00315\n",
            "50/50 [==============================] - 292s 6s/step - loss: 6.2034e-04 - val_loss: 0.0033\n",
            "Epoch 11/60\n",
            "49/50 [============================>.] - ETA: 5s - loss: 6.1735e-04 Epoch 1/60\n",
            " 1/50 [..............................] - ETA: 4:40 - loss: 0.0034\n",
            "Epoch 00011: val_loss did not improve from 0.00315\n",
            "\n",
            "Epoch 00011: ReduceLROnPlateau reducing learning rate to 0.0001.\n",
            "50/50 [==============================] - 292s 6s/step - loss: 6.1748e-04 - val_loss: 0.0034\n",
            "Epoch 12/60\n",
            "49/50 [============================>.] - ETA: 5s - loss: 6.1226e-04 Epoch 1/60\n",
            " 1/50 [..............................] - ETA: 4:40 - loss: 0.0035\n",
            "Epoch 00012: val_loss did not improve from 0.00315\n",
            "50/50 [==============================] - 290s 6s/step - loss: 6.1227e-04 - val_loss: 0.0035\n",
            "Epoch 13/60\n",
            "16/50 [========>.....................] - ETA: 3:14 - loss: 6.0597e-04"
          ],
          "name": "stdout"
        }
      ]
    }
  ]
}